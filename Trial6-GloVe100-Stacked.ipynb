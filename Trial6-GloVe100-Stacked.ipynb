{
 "cells": [
  {
   "cell_type": "markdown",
   "metadata": {},
   "source": [
    "### Imports & Display Options"
   ]
  },
  {
   "cell_type": "code",
   "execution_count": 1,
   "metadata": {
    "collapsed": true
   },
   "outputs": [],
   "source": [
    "%matplotlib inline\n",
    "import pandas as pd\n",
    "pd.options.display.max_columns = 999\n",
    "pd.options.display.max_rows = 100"
   ]
  },
  {
   "cell_type": "code",
   "execution_count": 2,
   "metadata": {
    "collapsed": true
   },
   "outputs": [],
   "source": [
    "from matplotlib import pylab"
   ]
  },
  {
   "cell_type": "code",
   "execution_count": 3,
   "metadata": {
    "collapsed": true
   },
   "outputs": [],
   "source": [
    "import numpy as np\n",
    "import feather\n",
    "from datetime import datetime\n",
    "import re"
   ]
  },
  {
   "cell_type": "code",
   "execution_count": 4,
   "metadata": {
    "collapsed": true
   },
   "outputs": [],
   "source": [
    "from sklearn.model_selection import train_test_split\n",
    "from sklearn.preprocessing import LabelEncoder\n",
    "from sklearn.metrics import confusion_matrix"
   ]
  },
  {
   "cell_type": "code",
   "execution_count": 5,
   "metadata": {},
   "outputs": [
    {
     "name": "stderr",
     "output_type": "stream",
     "text": [
      "Using TensorFlow backend.\n"
     ]
    }
   ],
   "source": [
    "from keras.utils import np_utils\n",
    "from keras.layers import LSTM, Convolution1D, Flatten, Dropout, Dense\n",
    "from keras.layers.embeddings import Embedding\n",
    "from keras.models import Sequential\n",
    "from keras.preprocessing.text import Tokenizer\n",
    "from keras.preprocessing.sequence import pad_sequences\n",
    "from keras.preprocessing.text import one_hot\n",
    "from keras.callbacks import TensorBoard"
   ]
  },
  {
   "cell_type": "markdown",
   "metadata": {},
   "source": [
    "### Import Data & Clean"
   ]
  },
  {
   "cell_type": "code",
   "execution_count": 6,
   "metadata": {},
   "outputs": [
    {
     "name": "stderr",
     "output_type": "stream",
     "text": [
      "/Users/zeb.zhao/anaconda3/lib/python3.6/site-packages/IPython/core/interactiveshell.py:2698: DtypeWarning: Columns (39,40,41,42,43,44,45,46,47,48,49,50,51,52) have mixed types. Specify dtype option on import or set low_memory=False.\n",
      "  interactivity=interactivity, compiler=compiler, result=result)\n"
     ]
    },
    {
     "data": {
      "text/html": [
       "<div>\n",
       "<style>\n",
       "    .dataframe thead tr:only-child th {\n",
       "        text-align: right;\n",
       "    }\n",
       "\n",
       "    .dataframe thead th {\n",
       "        text-align: left;\n",
       "    }\n",
       "\n",
       "    .dataframe tbody tr th {\n",
       "        vertical-align: top;\n",
       "    }\n",
       "</style>\n",
       "<table border=\"1\" class=\"dataframe\">\n",
       "  <thead>\n",
       "    <tr style=\"text-align: right;\">\n",
       "      <th></th>\n",
       "      <th>CompanyName</th>\n",
       "      <th>CompanyNumber</th>\n",
       "      <th>RegAddress.CareOf</th>\n",
       "      <th>RegAddress.POBox</th>\n",
       "      <th>RegAddress.AddressLine1</th>\n",
       "      <th>RegAddress.AddressLine2</th>\n",
       "      <th>RegAddress.PostTown</th>\n",
       "      <th>RegAddress.County</th>\n",
       "      <th>RegAddress.Country</th>\n",
       "      <th>RegAddress.PostCode</th>\n",
       "      <th>CompanyCategory</th>\n",
       "      <th>CompanyStatus</th>\n",
       "      <th>CountryOfOrigin</th>\n",
       "      <th>DissolutionDate</th>\n",
       "      <th>IncorporationDate</th>\n",
       "      <th>Accounts.AccountRefDay</th>\n",
       "      <th>Accounts.AccountRefMonth</th>\n",
       "      <th>Accounts.NextDueDate</th>\n",
       "      <th>Accounts.LastMadeUpDate</th>\n",
       "      <th>Accounts.AccountCategory</th>\n",
       "      <th>Returns.NextDueDate</th>\n",
       "      <th>Returns.LastMadeUpDate</th>\n",
       "      <th>Mortgages.NumMortCharges</th>\n",
       "      <th>Mortgages.NumMortOutstanding</th>\n",
       "      <th>Mortgages.NumMortPartSatisfied</th>\n",
       "      <th>Mortgages.NumMortSatisfied</th>\n",
       "      <th>SICCode.SicText_1</th>\n",
       "      <th>SICCode.SicText_2</th>\n",
       "      <th>SICCode.SicText_3</th>\n",
       "      <th>SICCode.SicText_4</th>\n",
       "      <th>LimitedPartnerships.NumGenPartners</th>\n",
       "      <th>LimitedPartnerships.NumLimPartners</th>\n",
       "      <th>URI</th>\n",
       "      <th>PreviousName_1.CONDATE</th>\n",
       "      <th>PreviousName_1.CompanyName</th>\n",
       "      <th>PreviousName_2.CONDATE</th>\n",
       "      <th>PreviousName_2.CompanyName</th>\n",
       "      <th>PreviousName_3.CONDATE</th>\n",
       "      <th>PreviousName_3.CompanyName</th>\n",
       "      <th>PreviousName_4.CONDATE</th>\n",
       "      <th>PreviousName_4.CompanyName</th>\n",
       "      <th>PreviousName_5.CONDATE</th>\n",
       "      <th>PreviousName_5.CompanyName</th>\n",
       "      <th>PreviousName_6.CONDATE</th>\n",
       "      <th>PreviousName_6.CompanyName</th>\n",
       "      <th>PreviousName_7.CONDATE</th>\n",
       "      <th>PreviousName_7.CompanyName</th>\n",
       "      <th>PreviousName_8.CONDATE</th>\n",
       "      <th>PreviousName_8.CompanyName</th>\n",
       "      <th>PreviousName_9.CONDATE</th>\n",
       "      <th>PreviousName_9.CompanyName</th>\n",
       "      <th>PreviousName_10.CONDATE</th>\n",
       "      <th>PreviousName_10.CompanyName</th>\n",
       "      <th>ConfStmtNextDueDate</th>\n",
       "      <th>ConfStmtLastMadeUpDate</th>\n",
       "    </tr>\n",
       "  </thead>\n",
       "  <tbody>\n",
       "    <tr>\n",
       "      <th>0</th>\n",
       "      <td>! LTD</td>\n",
       "      <td>08209948</td>\n",
       "      <td>NaN</td>\n",
       "      <td>NaN</td>\n",
       "      <td>METROHOUSE 57 PEPPER ROAD</td>\n",
       "      <td>HUNSLET</td>\n",
       "      <td>LEEDS</td>\n",
       "      <td>YORKSHIRE</td>\n",
       "      <td>NaN</td>\n",
       "      <td>LS10 2RU</td>\n",
       "      <td>Private Limited Company</td>\n",
       "      <td>Active</td>\n",
       "      <td>United Kingdom</td>\n",
       "      <td>NaN</td>\n",
       "      <td>11/09/2012</td>\n",
       "      <td>30.0</td>\n",
       "      <td>9.0</td>\n",
       "      <td>30/06/2018</td>\n",
       "      <td>30/09/2016</td>\n",
       "      <td>DORMANT</td>\n",
       "      <td>09/10/2016</td>\n",
       "      <td>11/09/2015</td>\n",
       "      <td>0</td>\n",
       "      <td>0</td>\n",
       "      <td>0</td>\n",
       "      <td>0</td>\n",
       "      <td>99999 - Dormant Company</td>\n",
       "      <td>NaN</td>\n",
       "      <td>NaN</td>\n",
       "      <td>NaN</td>\n",
       "      <td>0</td>\n",
       "      <td>0</td>\n",
       "      <td>http://business.data.gov.uk/id/company/08209948</td>\n",
       "      <td>NaN</td>\n",
       "      <td>NaN</td>\n",
       "      <td>NaN</td>\n",
       "      <td>NaN</td>\n",
       "      <td>NaN</td>\n",
       "      <td>NaN</td>\n",
       "      <td>NaN</td>\n",
       "      <td>NaN</td>\n",
       "      <td>NaN</td>\n",
       "      <td>NaN</td>\n",
       "      <td>NaN</td>\n",
       "      <td>NaN</td>\n",
       "      <td>NaN</td>\n",
       "      <td>NaN</td>\n",
       "      <td>NaN</td>\n",
       "      <td>NaN</td>\n",
       "      <td>NaN</td>\n",
       "      <td>NaN</td>\n",
       "      <td>NaN</td>\n",
       "      <td>NaN</td>\n",
       "      <td>25/09/2019</td>\n",
       "      <td>11/09/2017</td>\n",
       "    </tr>\n",
       "    <tr>\n",
       "      <th>1</th>\n",
       "      <td>!NNOV8 LIMITED</td>\n",
       "      <td>11006939</td>\n",
       "      <td>NaN</td>\n",
       "      <td>NaN</td>\n",
       "      <td>C/O FRANK HIRTH 1ST FLOOR</td>\n",
       "      <td>236 GRAY'S INN ROAD</td>\n",
       "      <td>LONDON</td>\n",
       "      <td>NaN</td>\n",
       "      <td>UNITED KINGDOM</td>\n",
       "      <td>WC1X 8HB</td>\n",
       "      <td>Private Limited Company</td>\n",
       "      <td>Active</td>\n",
       "      <td>United Kingdom</td>\n",
       "      <td>NaN</td>\n",
       "      <td>11/10/2017</td>\n",
       "      <td>31.0</td>\n",
       "      <td>3.0</td>\n",
       "      <td>11/07/2019</td>\n",
       "      <td>NaN</td>\n",
       "      <td>NO ACCOUNTS FILED</td>\n",
       "      <td>08/11/2018</td>\n",
       "      <td>NaN</td>\n",
       "      <td>0</td>\n",
       "      <td>0</td>\n",
       "      <td>0</td>\n",
       "      <td>0</td>\n",
       "      <td>62090 - Other information technology service a...</td>\n",
       "      <td>NaN</td>\n",
       "      <td>NaN</td>\n",
       "      <td>NaN</td>\n",
       "      <td>0</td>\n",
       "      <td>0</td>\n",
       "      <td>http://business.data.gov.uk/id/company/11006939</td>\n",
       "      <td>NaN</td>\n",
       "      <td>NaN</td>\n",
       "      <td>NaN</td>\n",
       "      <td>NaN</td>\n",
       "      <td>NaN</td>\n",
       "      <td>NaN</td>\n",
       "      <td>NaN</td>\n",
       "      <td>NaN</td>\n",
       "      <td>NaN</td>\n",
       "      <td>NaN</td>\n",
       "      <td>NaN</td>\n",
       "      <td>NaN</td>\n",
       "      <td>NaN</td>\n",
       "      <td>NaN</td>\n",
       "      <td>NaN</td>\n",
       "      <td>NaN</td>\n",
       "      <td>NaN</td>\n",
       "      <td>NaN</td>\n",
       "      <td>NaN</td>\n",
       "      <td>NaN</td>\n",
       "      <td>24/10/2019</td>\n",
       "      <td>NaN</td>\n",
       "    </tr>\n",
       "    <tr>\n",
       "      <th>2</th>\n",
       "      <td>!NSPIRED LTD</td>\n",
       "      <td>SC421617</td>\n",
       "      <td>NaN</td>\n",
       "      <td>NaN</td>\n",
       "      <td>26 POLMUIR ROAD</td>\n",
       "      <td>NaN</td>\n",
       "      <td>ABERDEEN</td>\n",
       "      <td>NaN</td>\n",
       "      <td>UNITED KINGDOM</td>\n",
       "      <td>AB11 7SY</td>\n",
       "      <td>Private Limited Company</td>\n",
       "      <td>Active</td>\n",
       "      <td>United Kingdom</td>\n",
       "      <td>NaN</td>\n",
       "      <td>11/04/2012</td>\n",
       "      <td>30.0</td>\n",
       "      <td>3.0</td>\n",
       "      <td>30/12/2018</td>\n",
       "      <td>30/03/2017</td>\n",
       "      <td>TOTAL EXEMPTION FULL</td>\n",
       "      <td>09/05/2017</td>\n",
       "      <td>11/04/2016</td>\n",
       "      <td>0</td>\n",
       "      <td>0</td>\n",
       "      <td>0</td>\n",
       "      <td>0</td>\n",
       "      <td>70229 - Management consultancy activities othe...</td>\n",
       "      <td>NaN</td>\n",
       "      <td>NaN</td>\n",
       "      <td>NaN</td>\n",
       "      <td>0</td>\n",
       "      <td>0</td>\n",
       "      <td>http://business.data.gov.uk/id/company/SC421617</td>\n",
       "      <td>NaN</td>\n",
       "      <td>NaN</td>\n",
       "      <td>NaN</td>\n",
       "      <td>NaN</td>\n",
       "      <td>NaN</td>\n",
       "      <td>NaN</td>\n",
       "      <td>NaN</td>\n",
       "      <td>NaN</td>\n",
       "      <td>NaN</td>\n",
       "      <td>NaN</td>\n",
       "      <td>NaN</td>\n",
       "      <td>NaN</td>\n",
       "      <td>NaN</td>\n",
       "      <td>NaN</td>\n",
       "      <td>NaN</td>\n",
       "      <td>NaN</td>\n",
       "      <td>NaN</td>\n",
       "      <td>NaN</td>\n",
       "      <td>NaN</td>\n",
       "      <td>NaN</td>\n",
       "      <td>25/04/2020</td>\n",
       "      <td>11/04/2017</td>\n",
       "    </tr>\n",
       "    <tr>\n",
       "      <th>3</th>\n",
       "      <td>!NVERTD DESIGNS LIMITED</td>\n",
       "      <td>09152972</td>\n",
       "      <td>NaN</td>\n",
       "      <td>NaN</td>\n",
       "      <td>55A HIGH STREET</td>\n",
       "      <td>NaN</td>\n",
       "      <td>SILSOE</td>\n",
       "      <td>BEDFORDSHIRE</td>\n",
       "      <td>NaN</td>\n",
       "      <td>MK45 4EW</td>\n",
       "      <td>Private Limited Company</td>\n",
       "      <td>Active</td>\n",
       "      <td>United Kingdom</td>\n",
       "      <td>NaN</td>\n",
       "      <td>30/07/2014</td>\n",
       "      <td>31.0</td>\n",
       "      <td>7.0</td>\n",
       "      <td>30/04/2019</td>\n",
       "      <td>31/07/2017</td>\n",
       "      <td>NaN</td>\n",
       "      <td>27/08/2016</td>\n",
       "      <td>30/07/2015</td>\n",
       "      <td>0</td>\n",
       "      <td>0</td>\n",
       "      <td>0</td>\n",
       "      <td>0</td>\n",
       "      <td>58190 - Other publishing activities</td>\n",
       "      <td>NaN</td>\n",
       "      <td>NaN</td>\n",
       "      <td>NaN</td>\n",
       "      <td>0</td>\n",
       "      <td>0</td>\n",
       "      <td>http://business.data.gov.uk/id/company/09152972</td>\n",
       "      <td>NaN</td>\n",
       "      <td>NaN</td>\n",
       "      <td>NaN</td>\n",
       "      <td>NaN</td>\n",
       "      <td>NaN</td>\n",
       "      <td>NaN</td>\n",
       "      <td>NaN</td>\n",
       "      <td>NaN</td>\n",
       "      <td>NaN</td>\n",
       "      <td>NaN</td>\n",
       "      <td>NaN</td>\n",
       "      <td>NaN</td>\n",
       "      <td>NaN</td>\n",
       "      <td>NaN</td>\n",
       "      <td>NaN</td>\n",
       "      <td>NaN</td>\n",
       "      <td>NaN</td>\n",
       "      <td>NaN</td>\n",
       "      <td>NaN</td>\n",
       "      <td>NaN</td>\n",
       "      <td>13/08/2020</td>\n",
       "      <td>30/07/2017</td>\n",
       "    </tr>\n",
       "    <tr>\n",
       "      <th>4</th>\n",
       "      <td>!OBAC LIMITED</td>\n",
       "      <td>FC031362</td>\n",
       "      <td>NaN</td>\n",
       "      <td>NaN</td>\n",
       "      <td>1ST AND 2ND FLOORS ELIZABETH HOUSE</td>\n",
       "      <td>LES RUETIES BRAYES</td>\n",
       "      <td>ST PETER PORT</td>\n",
       "      <td>GUERNSEY</td>\n",
       "      <td>GUERNSEY</td>\n",
       "      <td>GY1 1EW</td>\n",
       "      <td>Other company type</td>\n",
       "      <td>Active</td>\n",
       "      <td>CHANNEL ISLANDS</td>\n",
       "      <td>NaN</td>\n",
       "      <td>30/11/2012</td>\n",
       "      <td>31.0</td>\n",
       "      <td>12.0</td>\n",
       "      <td>NaN</td>\n",
       "      <td>31/12/2016</td>\n",
       "      <td>GROUP</td>\n",
       "      <td>NaN</td>\n",
       "      <td>NaN</td>\n",
       "      <td>0</td>\n",
       "      <td>0</td>\n",
       "      <td>0</td>\n",
       "      <td>0</td>\n",
       "      <td>None Supplied</td>\n",
       "      <td>NaN</td>\n",
       "      <td>NaN</td>\n",
       "      <td>NaN</td>\n",
       "      <td>0</td>\n",
       "      <td>0</td>\n",
       "      <td>http://business.data.gov.uk/id/company/FC031362</td>\n",
       "      <td>NaN</td>\n",
       "      <td>NaN</td>\n",
       "      <td>NaN</td>\n",
       "      <td>NaN</td>\n",
       "      <td>NaN</td>\n",
       "      <td>NaN</td>\n",
       "      <td>NaN</td>\n",
       "      <td>NaN</td>\n",
       "      <td>NaN</td>\n",
       "      <td>NaN</td>\n",
       "      <td>NaN</td>\n",
       "      <td>NaN</td>\n",
       "      <td>NaN</td>\n",
       "      <td>NaN</td>\n",
       "      <td>NaN</td>\n",
       "      <td>NaN</td>\n",
       "      <td>NaN</td>\n",
       "      <td>NaN</td>\n",
       "      <td>NaN</td>\n",
       "      <td>NaN</td>\n",
       "      <td>NaN</td>\n",
       "      <td>NaN</td>\n",
       "    </tr>\n",
       "  </tbody>\n",
       "</table>\n",
       "</div>"
      ],
      "text/plain": [
       "               CompanyName  CompanyNumber RegAddress.CareOf RegAddress.POBox  \\\n",
       "0                    ! LTD       08209948               NaN              NaN   \n",
       "1           !NNOV8 LIMITED       11006939               NaN              NaN   \n",
       "2             !NSPIRED LTD       SC421617               NaN              NaN   \n",
       "3  !NVERTD DESIGNS LIMITED       09152972               NaN              NaN   \n",
       "4            !OBAC LIMITED       FC031362               NaN              NaN   \n",
       "\n",
       "              RegAddress.AddressLine1  RegAddress.AddressLine2  \\\n",
       "0           METROHOUSE 57 PEPPER ROAD                  HUNSLET   \n",
       "1           C/O FRANK HIRTH 1ST FLOOR      236 GRAY'S INN ROAD   \n",
       "2                     26 POLMUIR ROAD                      NaN   \n",
       "3                     55A HIGH STREET                      NaN   \n",
       "4  1ST AND 2ND FLOORS ELIZABETH HOUSE       LES RUETIES BRAYES   \n",
       "\n",
       "  RegAddress.PostTown RegAddress.County RegAddress.Country  \\\n",
       "0               LEEDS         YORKSHIRE                NaN   \n",
       "1              LONDON               NaN     UNITED KINGDOM   \n",
       "2            ABERDEEN               NaN     UNITED KINGDOM   \n",
       "3              SILSOE      BEDFORDSHIRE                NaN   \n",
       "4       ST PETER PORT          GUERNSEY           GUERNSEY   \n",
       "\n",
       "  RegAddress.PostCode          CompanyCategory CompanyStatus  CountryOfOrigin  \\\n",
       "0            LS10 2RU  Private Limited Company        Active   United Kingdom   \n",
       "1            WC1X 8HB  Private Limited Company        Active   United Kingdom   \n",
       "2            AB11 7SY  Private Limited Company        Active   United Kingdom   \n",
       "3            MK45 4EW  Private Limited Company        Active   United Kingdom   \n",
       "4             GY1 1EW       Other company type        Active  CHANNEL ISLANDS   \n",
       "\n",
       "   DissolutionDate IncorporationDate  Accounts.AccountRefDay  \\\n",
       "0              NaN        11/09/2012                    30.0   \n",
       "1              NaN        11/10/2017                    31.0   \n",
       "2              NaN        11/04/2012                    30.0   \n",
       "3              NaN        30/07/2014                    31.0   \n",
       "4              NaN        30/11/2012                    31.0   \n",
       "\n",
       "   Accounts.AccountRefMonth Accounts.NextDueDate Accounts.LastMadeUpDate  \\\n",
       "0                       9.0           30/06/2018              30/09/2016   \n",
       "1                       3.0           11/07/2019                     NaN   \n",
       "2                       3.0           30/12/2018              30/03/2017   \n",
       "3                       7.0           30/04/2019              31/07/2017   \n",
       "4                      12.0                  NaN              31/12/2016   \n",
       "\n",
       "  Accounts.AccountCategory Returns.NextDueDate Returns.LastMadeUpDate  \\\n",
       "0                  DORMANT          09/10/2016             11/09/2015   \n",
       "1        NO ACCOUNTS FILED          08/11/2018                    NaN   \n",
       "2     TOTAL EXEMPTION FULL          09/05/2017             11/04/2016   \n",
       "3                      NaN          27/08/2016             30/07/2015   \n",
       "4                    GROUP                 NaN                    NaN   \n",
       "\n",
       "   Mortgages.NumMortCharges  Mortgages.NumMortOutstanding  \\\n",
       "0                         0                             0   \n",
       "1                         0                             0   \n",
       "2                         0                             0   \n",
       "3                         0                             0   \n",
       "4                         0                             0   \n",
       "\n",
       "   Mortgages.NumMortPartSatisfied  Mortgages.NumMortSatisfied  \\\n",
       "0                               0                           0   \n",
       "1                               0                           0   \n",
       "2                               0                           0   \n",
       "3                               0                           0   \n",
       "4                               0                           0   \n",
       "\n",
       "                                   SICCode.SicText_1 SICCode.SicText_2  \\\n",
       "0                            99999 - Dormant Company               NaN   \n",
       "1  62090 - Other information technology service a...               NaN   \n",
       "2  70229 - Management consultancy activities othe...               NaN   \n",
       "3                58190 - Other publishing activities               NaN   \n",
       "4                                      None Supplied               NaN   \n",
       "\n",
       "  SICCode.SicText_3 SICCode.SicText_4  LimitedPartnerships.NumGenPartners  \\\n",
       "0               NaN               NaN                                   0   \n",
       "1               NaN               NaN                                   0   \n",
       "2               NaN               NaN                                   0   \n",
       "3               NaN               NaN                                   0   \n",
       "4               NaN               NaN                                   0   \n",
       "\n",
       "   LimitedPartnerships.NumLimPartners  \\\n",
       "0                                   0   \n",
       "1                                   0   \n",
       "2                                   0   \n",
       "3                                   0   \n",
       "4                                   0   \n",
       "\n",
       "                                               URI PreviousName_1.CONDATE  \\\n",
       "0  http://business.data.gov.uk/id/company/08209948                    NaN   \n",
       "1  http://business.data.gov.uk/id/company/11006939                    NaN   \n",
       "2  http://business.data.gov.uk/id/company/SC421617                    NaN   \n",
       "3  http://business.data.gov.uk/id/company/09152972                    NaN   \n",
       "4  http://business.data.gov.uk/id/company/FC031362                    NaN   \n",
       "\n",
       "   PreviousName_1.CompanyName  PreviousName_2.CONDATE  \\\n",
       "0                         NaN                     NaN   \n",
       "1                         NaN                     NaN   \n",
       "2                         NaN                     NaN   \n",
       "3                         NaN                     NaN   \n",
       "4                         NaN                     NaN   \n",
       "\n",
       "   PreviousName_2.CompanyName PreviousName_3.CONDATE  \\\n",
       "0                         NaN                    NaN   \n",
       "1                         NaN                    NaN   \n",
       "2                         NaN                    NaN   \n",
       "3                         NaN                    NaN   \n",
       "4                         NaN                    NaN   \n",
       "\n",
       "   PreviousName_3.CompanyName PreviousName_4.CONDATE  \\\n",
       "0                         NaN                    NaN   \n",
       "1                         NaN                    NaN   \n",
       "2                         NaN                    NaN   \n",
       "3                         NaN                    NaN   \n",
       "4                         NaN                    NaN   \n",
       "\n",
       "   PreviousName_4.CompanyName PreviousName_5.CONDATE  \\\n",
       "0                         NaN                    NaN   \n",
       "1                         NaN                    NaN   \n",
       "2                         NaN                    NaN   \n",
       "3                         NaN                    NaN   \n",
       "4                         NaN                    NaN   \n",
       "\n",
       "   PreviousName_5.CompanyName PreviousName_6.CONDATE  \\\n",
       "0                         NaN                    NaN   \n",
       "1                         NaN                    NaN   \n",
       "2                         NaN                    NaN   \n",
       "3                         NaN                    NaN   \n",
       "4                         NaN                    NaN   \n",
       "\n",
       "   PreviousName_6.CompanyName PreviousName_7.CONDATE  \\\n",
       "0                         NaN                    NaN   \n",
       "1                         NaN                    NaN   \n",
       "2                         NaN                    NaN   \n",
       "3                         NaN                    NaN   \n",
       "4                         NaN                    NaN   \n",
       "\n",
       "   PreviousName_7.CompanyName PreviousName_8.CONDATE  \\\n",
       "0                         NaN                    NaN   \n",
       "1                         NaN                    NaN   \n",
       "2                         NaN                    NaN   \n",
       "3                         NaN                    NaN   \n",
       "4                         NaN                    NaN   \n",
       "\n",
       "   PreviousName_8.CompanyName PreviousName_9.CONDATE  \\\n",
       "0                         NaN                    NaN   \n",
       "1                         NaN                    NaN   \n",
       "2                         NaN                    NaN   \n",
       "3                         NaN                    NaN   \n",
       "4                         NaN                    NaN   \n",
       "\n",
       "   PreviousName_9.CompanyName PreviousName_10.CONDATE  \\\n",
       "0                         NaN                     NaN   \n",
       "1                         NaN                     NaN   \n",
       "2                         NaN                     NaN   \n",
       "3                         NaN                     NaN   \n",
       "4                         NaN                     NaN   \n",
       "\n",
       "   PreviousName_10.CompanyName ConfStmtNextDueDate  ConfStmtLastMadeUpDate  \n",
       "0                          NaN          25/09/2019              11/09/2017  \n",
       "1                          NaN          24/10/2019                     NaN  \n",
       "2                          NaN          25/04/2020              11/04/2017  \n",
       "3                          NaN          13/08/2020              30/07/2017  \n",
       "4                          NaN                 NaN                     NaN  "
      ]
     },
     "execution_count": 6,
     "metadata": {},
     "output_type": "execute_result"
    }
   ],
   "source": [
    "df = pd.read_csv('./BasicCompanyDataAsOneFile-2018-03-01.csv', nrows=2000000)\n",
    "df.head()"
   ]
  },
  {
   "cell_type": "code",
   "execution_count": 53,
   "metadata": {},
   "outputs": [],
   "source": [
    "def clean(df):\n",
    "    wdf = df[~df.CompanyName.str.contains('!')].dropna(subset=['Returns.LastMadeUpDate'])\n",
    "    wdf = wdf[['CompanyName', 'SICCode.SicText_1']]\n",
    "    wdf['CompanyName'] = wdf.CompanyName.str.replace('[\".,()\\-\\']', ' ')\\\n",
    "        .str.replace('\\s+', ' ').str.strip()\\\n",
    "        .str.replace('LIMITED', 'LTD')\\\n",
    "        .str.replace('INCORPORATED', 'INC')\\\n",
    "        .str.replace('([A-Z])LTD', '\\\\1 LTD')\\\n",
    "        .str.replace('(LTD|INC|PLC)', '')\\\n",
    "        .str.replace('\\\\b[A-Z0-9]\\\\b', '')\n",
    "    wdf['SICC'] = SICC = wdf['SICCode.SicText_1'].str.split(' - ').str[0]\n",
    "    wdf = wdf[(SICC != '74990') & (SICC != '99999') & (SICC != '7499') & SICC.str.isnumeric()]\n",
    "    wdf = wdf[wdf.CompanyName.str.count(' ') < 8]\n",
    "    return wdf"
   ]
  },
  {
   "cell_type": "code",
   "execution_count": 65,
   "metadata": {},
   "outputs": [
    {
     "data": {
      "text/plain": [
       "1175474"
      ]
     },
     "execution_count": 65,
     "metadata": {},
     "output_type": "execute_result"
    }
   ],
   "source": [
    "wdf = clean(df)\n",
    "len(wdf)"
   ]
  },
  {
   "cell_type": "markdown",
   "metadata": {},
   "source": [
    "### Remove Unknown Names"
   ]
  },
  {
   "cell_type": "code",
   "execution_count": 66,
   "metadata": {},
   "outputs": [
    {
     "data": {
      "text/plain": [
       "135749"
      ]
     },
     "execution_count": 66,
     "metadata": {},
     "output_type": "execute_result"
    }
   ],
   "source": [
    "wdf['WordSum'] = wdf.CompanyName.apply(sum_of_custom_tokenize)\n",
    "(wdf.WordSum == 0).sum()"
   ]
  },
  {
   "cell_type": "code",
   "execution_count": 67,
   "metadata": {},
   "outputs": [
    {
     "data": {
      "text/plain": [
       "985"
      ]
     },
     "execution_count": 67,
     "metadata": {},
     "output_type": "execute_result"
    }
   ],
   "source": [
    "# Remove super short names\n",
    "(wdf.CompanyName.str.len() < 4).sum()"
   ]
  },
  {
   "cell_type": "code",
   "execution_count": 68,
   "metadata": {
    "collapsed": true
   },
   "outputs": [
    {
     "data": {
      "text/html": [
       "<div>\n",
       "<style>\n",
       "    .dataframe thead tr:only-child th {\n",
       "        text-align: right;\n",
       "    }\n",
       "\n",
       "    .dataframe thead th {\n",
       "        text-align: left;\n",
       "    }\n",
       "\n",
       "    .dataframe tbody tr th {\n",
       "        vertical-align: top;\n",
       "    }\n",
       "</style>\n",
       "<table border=\"1\" class=\"dataframe\">\n",
       "  <thead>\n",
       "    <tr style=\"text-align: right;\">\n",
       "      <th></th>\n",
       "      <th>CompanyName</th>\n",
       "      <th>SICCode.SicText_1</th>\n",
       "      <th>SICC</th>\n",
       "      <th>WordSum</th>\n",
       "    </tr>\n",
       "  </thead>\n",
       "  <tbody>\n",
       "    <tr>\n",
       "      <th>8</th>\n",
       "      <td></td>\n",
       "      <td>70229 - Management consultancy activities othe...</td>\n",
       "      <td>70229</td>\n",
       "      <td>0</td>\n",
       "    </tr>\n",
       "    <tr>\n",
       "      <th>77</th>\n",
       "      <td>EVEERGE</td>\n",
       "      <td>2875 - Manufacture other fabricated metal prod...</td>\n",
       "      <td>2875</td>\n",
       "      <td>0</td>\n",
       "    </tr>\n",
       "    <tr>\n",
       "      <th>109</th>\n",
       "      <td>LANDLIMES</td>\n",
       "      <td>08120 - Operation of gravel and sand pits; min...</td>\n",
       "      <td>08120</td>\n",
       "      <td>0</td>\n",
       "    </tr>\n",
       "    <tr>\n",
       "      <th>147</th>\n",
       "      <td>PERFECTCLEAN</td>\n",
       "      <td>81299 - Other cleaning services</td>\n",
       "      <td>81299</td>\n",
       "      <td>0</td>\n",
       "    </tr>\n",
       "    <tr>\n",
       "      <th>329</th>\n",
       "      <td>DESIGNBLU</td>\n",
       "      <td>82990 - Other business support service activit...</td>\n",
       "      <td>82990</td>\n",
       "      <td>0</td>\n",
       "    </tr>\n",
       "    <tr>\n",
       "      <th>373</th>\n",
       "      <td>FISHFRYERS</td>\n",
       "      <td>68209 - Other letting and operating of own or ...</td>\n",
       "      <td>68209</td>\n",
       "      <td>0</td>\n",
       "    </tr>\n",
       "    <tr>\n",
       "      <th>385</th>\n",
       "      <td>SGWENNU</td>\n",
       "      <td>90020 - Support activities to performing arts</td>\n",
       "      <td>90020</td>\n",
       "      <td>0</td>\n",
       "    </tr>\n",
       "    <tr>\n",
       "      <th>555</th>\n",
       "      <td>:OOMLOUT:</td>\n",
       "      <td>47990 - Other retail sale not in stores, stall...</td>\n",
       "      <td>47990</td>\n",
       "      <td>0</td>\n",
       "    </tr>\n",
       "    <tr>\n",
       "      <th>613</th>\n",
       "      <td>7734</td>\n",
       "      <td>62020 - Information technology consultancy act...</td>\n",
       "      <td>62020</td>\n",
       "      <td>0</td>\n",
       "    </tr>\n",
       "    <tr>\n",
       "      <th>628</th>\n",
       "      <td>00034239</td>\n",
       "      <td>1751 - Manufacture of carpets and rugs</td>\n",
       "      <td>1751</td>\n",
       "      <td>0</td>\n",
       "    </tr>\n",
       "    <tr>\n",
       "      <th>632</th>\n",
       "      <td>00043765</td>\n",
       "      <td>13200 - Weaving of textiles</td>\n",
       "      <td>13200</td>\n",
       "      <td>0</td>\n",
       "    </tr>\n",
       "    <tr>\n",
       "      <th>636</th>\n",
       "      <td>00054971</td>\n",
       "      <td>7415 - Holding Companies including Head Offices</td>\n",
       "      <td>7415</td>\n",
       "      <td>0</td>\n",
       "    </tr>\n",
       "    <tr>\n",
       "      <th>637</th>\n",
       "      <td>00059962</td>\n",
       "      <td>2852 - General mechanical engineering</td>\n",
       "      <td>2852</td>\n",
       "      <td>0</td>\n",
       "    </tr>\n",
       "    <tr>\n",
       "      <th>639</th>\n",
       "      <td>00062246</td>\n",
       "      <td>8511 - Hospital activities</td>\n",
       "      <td>8511</td>\n",
       "      <td>0</td>\n",
       "    </tr>\n",
       "    <tr>\n",
       "      <th>643</th>\n",
       "      <td>00065986</td>\n",
       "      <td>7415 - Holding Companies including Head Offices</td>\n",
       "      <td>7415</td>\n",
       "      <td>0</td>\n",
       "    </tr>\n",
       "    <tr>\n",
       "      <th>650</th>\n",
       "      <td>00085308</td>\n",
       "      <td>1711 - Prepare &amp; spin cotton-type fibres</td>\n",
       "      <td>1711</td>\n",
       "      <td>0</td>\n",
       "    </tr>\n",
       "    <tr>\n",
       "      <th>651</th>\n",
       "      <td>00087690</td>\n",
       "      <td>5225 - Retail alcoholic &amp; other beverages</td>\n",
       "      <td>5225</td>\n",
       "      <td>0</td>\n",
       "    </tr>\n",
       "    <tr>\n",
       "      <th>655</th>\n",
       "      <td>00090051</td>\n",
       "      <td>9999 - Dormant company</td>\n",
       "      <td>9999</td>\n",
       "      <td>0</td>\n",
       "    </tr>\n",
       "    <tr>\n",
       "      <th>656</th>\n",
       "      <td>00093607</td>\n",
       "      <td>3612 - Manufacture other office &amp; shop furniture</td>\n",
       "      <td>3612</td>\n",
       "      <td>0</td>\n",
       "    </tr>\n",
       "    <tr>\n",
       "      <th>667</th>\n",
       "      <td>00100768</td>\n",
       "      <td>2940 - Manufacture of machine tools</td>\n",
       "      <td>2940</td>\n",
       "      <td>0</td>\n",
       "    </tr>\n",
       "    <tr>\n",
       "      <th>673</th>\n",
       "      <td>00125513</td>\n",
       "      <td>4525 - Other special trades construction</td>\n",
       "      <td>4525</td>\n",
       "      <td>0</td>\n",
       "    </tr>\n",
       "    <tr>\n",
       "      <th>674</th>\n",
       "      <td>00128058</td>\n",
       "      <td>7415 - Holding Companies including Head Offices</td>\n",
       "      <td>7415</td>\n",
       "      <td>0</td>\n",
       "    </tr>\n",
       "    <tr>\n",
       "      <th>679</th>\n",
       "      <td>00145493</td>\n",
       "      <td>2470 - Manufacture of man-made fibres</td>\n",
       "      <td>2470</td>\n",
       "      <td>0</td>\n",
       "    </tr>\n",
       "    <tr>\n",
       "      <th>680</th>\n",
       "      <td>00151652</td>\n",
       "      <td>5242 - Retail sale of clothing</td>\n",
       "      <td>5242</td>\n",
       "      <td>0</td>\n",
       "    </tr>\n",
       "    <tr>\n",
       "      <th>681</th>\n",
       "      <td>00152305</td>\n",
       "      <td>7415 - Holding Companies including Head Offices</td>\n",
       "      <td>7415</td>\n",
       "      <td>0</td>\n",
       "    </tr>\n",
       "  </tbody>\n",
       "</table>\n",
       "</div>"
      ],
      "text/plain": [
       "       CompanyName                                  SICCode.SicText_1   SICC  \\\n",
       "8                   70229 - Management consultancy activities othe...  70229   \n",
       "77        EVEERGE   2875 - Manufacture other fabricated metal prod...   2875   \n",
       "109     LANDLIMES   08120 - Operation of gravel and sand pits; min...  08120   \n",
       "147  PERFECTCLEAN                     81299 - Other cleaning services  81299   \n",
       "329     DESIGNBLU   82990 - Other business support service activit...  82990   \n",
       "373    FISHFRYERS   68209 - Other letting and operating of own or ...  68209   \n",
       "385       SGWENNU       90020 - Support activities to performing arts  90020   \n",
       "555     :OOMLOUT:   47990 - Other retail sale not in stores, stall...  47990   \n",
       "613          7734   62020 - Information technology consultancy act...  62020   \n",
       "628      00034239              1751 - Manufacture of carpets and rugs   1751   \n",
       "632      00043765                         13200 - Weaving of textiles  13200   \n",
       "636      00054971     7415 - Holding Companies including Head Offices   7415   \n",
       "637      00059962               2852 - General mechanical engineering   2852   \n",
       "639      00062246                          8511 - Hospital activities   8511   \n",
       "643      00065986     7415 - Holding Companies including Head Offices   7415   \n",
       "650      00085308            1711 - Prepare & spin cotton-type fibres   1711   \n",
       "651      00087690           5225 - Retail alcoholic & other beverages   5225   \n",
       "655      00090051                              9999 - Dormant company   9999   \n",
       "656      00093607    3612 - Manufacture other office & shop furniture   3612   \n",
       "667      00100768                 2940 - Manufacture of machine tools   2940   \n",
       "673      00125513            4525 - Other special trades construction   4525   \n",
       "674      00128058     7415 - Holding Companies including Head Offices   7415   \n",
       "679      00145493               2470 - Manufacture of man-made fibres   2470   \n",
       "680      00151652                      5242 - Retail sale of clothing   5242   \n",
       "681      00152305     7415 - Holding Companies including Head Offices   7415   \n",
       "\n",
       "     WordSum  \n",
       "8          0  \n",
       "77         0  \n",
       "109        0  \n",
       "147        0  \n",
       "329        0  \n",
       "373        0  \n",
       "385        0  \n",
       "555        0  \n",
       "613        0  \n",
       "628        0  \n",
       "632        0  \n",
       "636        0  \n",
       "637        0  \n",
       "639        0  \n",
       "643        0  \n",
       "650        0  \n",
       "651        0  \n",
       "655        0  \n",
       "656        0  \n",
       "667        0  \n",
       "673        0  \n",
       "674        0  \n",
       "679        0  \n",
       "680        0  \n",
       "681        0  "
      ]
     },
     "execution_count": 68,
     "metadata": {},
     "output_type": "execute_result"
    }
   ],
   "source": [
    "wdf[wdf.WordSum == 0].head(25)"
   ]
  },
  {
   "cell_type": "code",
   "execution_count": 69,
   "metadata": {},
   "outputs": [
    {
     "data": {
      "text/plain": [
       "1029888"
      ]
     },
     "execution_count": 69,
     "metadata": {},
     "output_type": "execute_result"
    }
   ],
   "source": [
    "wdf = wdf[(wdf.WordSum > 0) & (wdf.CompanyName.str.len() > 3) & (wdf.SICC.str.len() == 5)]\n",
    "len(wdf)"
   ]
  },
  {
   "cell_type": "markdown",
   "metadata": {},
   "source": [
    "### Feature Engineering"
   ]
  },
  {
   "cell_type": "code",
   "execution_count": 71,
   "metadata": {},
   "outputs": [
    {
     "data": {
      "text/html": [
       "<div>\n",
       "<style>\n",
       "    .dataframe thead tr:only-child th {\n",
       "        text-align: right;\n",
       "    }\n",
       "\n",
       "    .dataframe thead th {\n",
       "        text-align: left;\n",
       "    }\n",
       "\n",
       "    .dataframe tbody tr th {\n",
       "        vertical-align: top;\n",
       "    }\n",
       "</style>\n",
       "<table border=\"1\" class=\"dataframe\">\n",
       "  <thead>\n",
       "    <tr style=\"text-align: right;\">\n",
       "      <th></th>\n",
       "      <th>CompanyName</th>\n",
       "      <th>SICC</th>\n",
       "      <th>WordSum</th>\n",
       "      <th>Industry</th>\n",
       "      <th>SICText</th>\n",
       "    </tr>\n",
       "  </thead>\n",
       "  <tbody>\n",
       "    <tr>\n",
       "      <th>11</th>\n",
       "      <td>243 RUGBY ROAD MANAGEMENT COMPANY</td>\n",
       "      <td>98000</td>\n",
       "      <td>30428</td>\n",
       "      <td>980</td>\n",
       "      <td>98000 - Residents property management</td>\n",
       "    </tr>\n",
       "    <tr>\n",
       "      <th>12</th>\n",
       "      <td>309 WEST END LANE MANAGEMENT</td>\n",
       "      <td>98000</td>\n",
       "      <td>35440</td>\n",
       "      <td>980</td>\n",
       "      <td>98000 - Residents property management</td>\n",
       "    </tr>\n",
       "    <tr>\n",
       "      <th>15</th>\n",
       "      <td>TASTE OF TUSCANY</td>\n",
       "      <td>56101</td>\n",
       "      <td>27367</td>\n",
       "      <td>561</td>\n",
       "      <td>56101 - Licensed restaurants</td>\n",
       "    </tr>\n",
       "    <tr>\n",
       "      <th>17</th>\n",
       "      <td>CERAMICS</td>\n",
       "      <td>86230</td>\n",
       "      <td>18673</td>\n",
       "      <td>862</td>\n",
       "      <td>86230 - Dental practice activities</td>\n",
       "    </tr>\n",
       "    <tr>\n",
       "      <th>18</th>\n",
       "      <td>CONCEPT</td>\n",
       "      <td>64209</td>\n",
       "      <td>2986</td>\n",
       "      <td>642</td>\n",
       "      <td>64209 - Activities of other holding companies ...</td>\n",
       "    </tr>\n",
       "  </tbody>\n",
       "</table>\n",
       "</div>"
      ],
      "text/plain": [
       "                           CompanyName   SICC  WordSum Industry  \\\n",
       "11  243 RUGBY ROAD MANAGEMENT COMPANY   98000    30428      980   \n",
       "12       309 WEST END LANE MANAGEMENT   98000    35440      980   \n",
       "15                   TASTE OF TUSCANY   56101    27367      561   \n",
       "17                           CERAMICS   86230    18673      862   \n",
       "18                            CONCEPT   64209     2986      642   \n",
       "\n",
       "                                              SICText  \n",
       "11              98000 - Residents property management  \n",
       "12              98000 - Residents property management  \n",
       "15                       56101 - Licensed restaurants  \n",
       "17                 86230 - Dental practice activities  \n",
       "18  64209 - Activities of other holding companies ...  "
      ]
     },
     "execution_count": 71,
     "metadata": {},
     "output_type": "execute_result"
    }
   ],
   "source": [
    "wdf['Industry'] = wdf['SICCode.SicText_1'].str.split(' - ').str[0].str[0:3]\n",
    "wdf['SICText'] = wdf['SICCode.SicText_1']\n",
    "wdf = wdf.drop('SICCode.SicText_1', axis=1)\n",
    "wdf.head()"
   ]
  },
  {
   "cell_type": "markdown",
   "metadata": {},
   "source": [
    "### Check for Class Imbalance"
   ]
  },
  {
   "cell_type": "code",
   "execution_count": 72,
   "metadata": {
    "collapsed": true
   },
   "outputs": [],
   "source": [
    "def plot_frequency(df, feature, top=50):\n",
    "    classes = df.groupby([feature]).count().sort_values('CompanyName', ascending=False)\n",
    "    return classes.CompanyName.head(top).plot(kind='bar', figsize=(10, 3))"
   ]
  },
  {
   "cell_type": "code",
   "execution_count": 73,
   "metadata": {},
   "outputs": [
    {
     "data": {
      "text/plain": [
       "<matplotlib.axes._subplots.AxesSubplot at 0x1b0abdeba8>"
      ]
     },
     "execution_count": 73,
     "metadata": {},
     "output_type": "execute_result"
    },
    {
     "data": {
      "image/png": "[encoded data removed]",
      "text/plain": [
       "<matplotlib.figure.Figure at 0x1aef6e88d0>"
      ]
     },
     "metadata": {},
     "output_type": "display_data"
    }
   ],
   "source": [
    "plot_frequency(wdf, 'Industry')"
   ]
  },
  {
   "cell_type": "code",
   "execution_count": 75,
   "metadata": {},
   "outputs": [
    {
     "data": {
      "text/plain": [
       "<matplotlib.axes._subplots.AxesSubplot at 0x1aef104438>"
      ]
     },
     "execution_count": 75,
     "metadata": {},
     "output_type": "execute_result"
    },
    {
     "data": {
      "image/png": "[encoded data removed]",
      "text/plain": [
       "<matplotlib.figure.Figure at 0x1aef19aeb8>"
      ]
     },
     "metadata": {},
     "output_type": "display_data"
    }
   ],
   "source": [
    "plot_frequency(wdf, 'SICText')"
   ]
  },
  {
   "cell_type": "code",
   "execution_count": 86,
   "metadata": {},
   "outputs": [
    {
     "name": "stdout",
     "output_type": "stream",
     "text": [
      " Classes below 300 samples: 84/273\n"
     ]
    }
   ],
   "source": [
    "min_class_count = 300\n",
    "classes = wdf.groupby(['Industry']).count().sort_values('CompanyName', ascending=False)\n",
    "print(' Classes below %s samples: %s/%s' % (min_class_count, (classes.CompanyName < min_class_count).sum(), len(classes.CompanyName)))"
   ]
  },
  {
   "cell_type": "code",
   "execution_count": 102,
   "metadata": {
    "collapsed": true
   },
   "outputs": [
    {
     "data": {
      "text/html": [
       "<div>\n",
       "<style>\n",
       "    .dataframe thead tr:only-child th {\n",
       "        text-align: right;\n",
       "    }\n",
       "\n",
       "    .dataframe thead th {\n",
       "        text-align: left;\n",
       "    }\n",
       "\n",
       "    .dataframe tbody tr th {\n",
       "        vertical-align: top;\n",
       "    }\n",
       "</style>\n",
       "<table border=\"1\" class=\"dataframe\">\n",
       "  <thead>\n",
       "    <tr style=\"text-align: right;\">\n",
       "      <th></th>\n",
       "      <th>CompanyName</th>\n",
       "      <th>SICC</th>\n",
       "      <th>WordSum</th>\n",
       "      <th>SICText</th>\n",
       "    </tr>\n",
       "    <tr>\n",
       "      <th>Industry</th>\n",
       "      <th></th>\n",
       "      <th></th>\n",
       "      <th></th>\n",
       "      <th></th>\n",
       "    </tr>\n",
       "  </thead>\n",
       "  <tbody>\n",
       "    <tr>\n",
       "      <th>204</th>\n",
       "      <td>296</td>\n",
       "      <td>296</td>\n",
       "      <td>296</td>\n",
       "      <td>296</td>\n",
       "    </tr>\n",
       "    <tr>\n",
       "      <th>103</th>\n",
       "      <td>289</td>\n",
       "      <td>289</td>\n",
       "      <td>289</td>\n",
       "      <td>289</td>\n",
       "    </tr>\n",
       "    <tr>\n",
       "      <th>292</th>\n",
       "      <td>285</td>\n",
       "      <td>285</td>\n",
       "      <td>285</td>\n",
       "      <td>285</td>\n",
       "    </tr>\n",
       "    <tr>\n",
       "      <th>274</th>\n",
       "      <td>283</td>\n",
       "      <td>283</td>\n",
       "      <td>283</td>\n",
       "      <td>283</td>\n",
       "    </tr>\n",
       "    <tr>\n",
       "      <th>221</th>\n",
       "      <td>283</td>\n",
       "      <td>283</td>\n",
       "      <td>283</td>\n",
       "      <td>283</td>\n",
       "    </tr>\n",
       "  </tbody>\n",
       "</table>\n",
       "</div>"
      ],
      "text/plain": [
       "          CompanyName  SICC  WordSum  SICText\n",
       "Industry                                     \n",
       "204               296   296      296      296\n",
       "103               289   289      289      289\n",
       "292               285   285      285      285\n",
       "274               283   283      283      283\n",
       "221               283   283      283      283"
      ]
     },
     "execution_count": 102,
     "metadata": {},
     "output_type": "execute_result"
    }
   ],
   "source": [
    "classes[classes.CompanyName < min_class_count].head()"
   ]
  },
  {
   "cell_type": "code",
   "execution_count": 88,
   "metadata": {},
   "outputs": [
    {
     "data": {
      "text/plain": [
       "CompanyName    11643\n",
       "SICC           11643\n",
       "WordSum        11643\n",
       "SICText        11643\n",
       "dtype: int64"
      ]
     },
     "execution_count": 88,
     "metadata": {},
     "output_type": "execute_result"
    }
   ],
   "source": [
    "classes[classes.CompanyName < min_class_count].sum()"
   ]
  },
  {
   "cell_type": "markdown",
   "metadata": {},
   "source": [
    "### Resample Data"
   ]
  },
  {
   "cell_type": "code",
   "execution_count": 93,
   "metadata": {
    "collapsed": true
   },
   "outputs": [],
   "source": [
    "to_replace = classes[classes.CompanyName < min_class_count].index"
   ]
  },
  {
   "cell_type": "code",
   "execution_count": 94,
   "metadata": {
    "collapsed": true
   },
   "outputs": [],
   "source": [
    "wdf['Industry'] = wdf['Industry'].replace(to_replace, '0')"
   ]
  },
  {
   "cell_type": "code",
   "execution_count": 96,
   "metadata": {},
   "outputs": [
    {
     "data": {
      "text/plain": [
       "1018245"
      ]
     },
     "execution_count": 96,
     "metadata": {},
     "output_type": "execute_result"
    }
   ],
   "source": [
    "# Remove unknown data\n",
    "wdf = wdf[wdf['Industry'] != '0']\n",
    "len(wdf)"
   ]
  },
  {
   "cell_type": "code",
   "execution_count": 97,
   "metadata": {
    "collapsed": true
   },
   "outputs": [
    {
     "data": {
      "text/plain": [
       "<matplotlib.axes._subplots.AxesSubplot at 0x1b0a981748>"
      ]
     },
     "execution_count": 97,
     "metadata": {},
     "output_type": "execute_result"
    },
    {
     "data": {
      "image/png": "[encoded data removed]",
      "text/plain": [
       "<matplotlib.figure.Figure at 0x1b0a5357b8>"
      ]
     },
     "metadata": {},
     "output_type": "display_data"
    }
   ],
   "source": [
    "plot_frequency(wdf, 'Industry')"
   ]
  },
  {
   "cell_type": "code",
   "execution_count": 98,
   "metadata": {
    "collapsed": true
   },
   "outputs": [
    {
     "data": {
      "text/plain": [
       "<matplotlib.axes._subplots.AxesSubplot at 0x1b0b74f908>"
      ]
     },
     "execution_count": 98,
     "metadata": {},
     "output_type": "execute_result"
    },
    {
     "data": {
      "image/png": "[encoded data removed]",
      "text/plain": [
       "<matplotlib.figure.Figure at 0x1b0ad38860>"
      ]
     },
     "metadata": {},
     "output_type": "display_data"
    }
   ],
   "source": [
    "plot_frequency(wdf, 'SICText')"
   ]
  },
  {
   "cell_type": "code",
   "execution_count": 111,
   "metadata": {
    "collapsed": true
   },
   "outputs": [],
   "source": [
    "def resample_classes(df, groupby, samples):\n",
    "    classes = wdf.groupby([groupby]).CompanyName.count()\n",
    "    freqs = dict(5000/classes)\n",
    "    freq = df[groupby].map(freqs)\n",
    "    criteria = np.random.rand(len(df)) < freq\n",
    "    return df[criteria]"
   ]
  },
  {
   "cell_type": "code",
   "execution_count": 112,
   "metadata": {},
   "outputs": [],
   "source": [
    "rwdf = resample_classes(wdf, 'Industry', 5000)"
   ]
  },
  {
   "cell_type": "code",
   "execution_count": 113,
   "metadata": {},
   "outputs": [
    {
     "data": {
      "text/plain": [
       "<matplotlib.axes._subplots.AxesSubplot at 0x1b0771e940>"
      ]
     },
     "execution_count": 113,
     "metadata": {},
     "output_type": "execute_result"
    },
    {
     "data": {
      "image/png": "[encoded data removed]",
      "text/plain": [
       "<matplotlib.figure.Figure at 0x1b076467f0>"
      ]
     },
     "metadata": {},
     "output_type": "display_data"
    }
   ],
   "source": [
    "plot_frequency(rwdf, 'Industry')"
   ]
  },
  {
   "cell_type": "code",
   "execution_count": 115,
   "metadata": {},
   "outputs": [
    {
     "data": {
      "text/plain": [
       "<matplotlib.axes._subplots.AxesSubplot at 0x1b07da64e0>"
      ]
     },
     "execution_count": 115,
     "metadata": {},
     "output_type": "execute_result"
    },
    {
     "data": {
      "image/png": "[encoded data removed]",
      "text/plain": [
       "<matplotlib.figure.Figure at 0x1b096c4898>"
      ]
     },
     "metadata": {},
     "output_type": "display_data"
    }
   ],
   "source": [
    "plot_frequency(rwdf, 'SICText')"
   ]
  },
  {
   "cell_type": "markdown",
   "metadata": {},
   "source": [
    "### Pickle Working Set"
   ]
  },
  {
   "cell_type": "code",
   "execution_count": 100,
   "metadata": {
    "collapsed": true
   },
   "outputs": [],
   "source": [
    "feather.write_dataframe(wdf, 'wdf2m.feather')"
   ]
  },
  {
   "cell_type": "code",
   "execution_count": null,
   "metadata": {
    "collapsed": true,
    "scrolled": true
   },
   "outputs": [],
   "source": [
    "wdf = feather.read_dataframe('wdf2m.feather')\n",
    "wdf.head()"
   ]
  },
  {
   "cell_type": "markdown",
   "metadata": {},
   "source": [
    "### Label Encoding"
   ]
  },
  {
   "cell_type": "code",
   "execution_count": 117,
   "metadata": {
    "scrolled": true
   },
   "outputs": [
    {
     "data": {
      "text/plain": [
       "(454395, 189)"
      ]
     },
     "execution_count": 117,
     "metadata": {},
     "output_type": "execute_result"
    }
   ],
   "source": [
    "industry_encoder = LabelEncoder()\n",
    "industry_encoder.fit(rwdf['Industry'])\n",
    "encoded_industry = industry_encoder.transform(rwdf['Industry'])\n",
    "industry_labels = np_utils.to_categorical(encoded_industry)\n",
    "industry_labels.shape"
   ]
  },
  {
   "cell_type": "code",
   "execution_count": 118,
   "metadata": {
    "collapsed": true
   },
   "outputs": [],
   "source": [
    "num_industries = industry_labels.shape[1]"
   ]
  },
  {
   "cell_type": "markdown",
   "metadata": {},
   "source": [
    "### Text Encoding"
   ]
  },
  {
   "cell_type": "code",
   "execution_count": 10,
   "metadata": {
    "collapsed": true
   },
   "outputs": [],
   "source": [
    "def load_glove_embeddings(fp, embedding_dim, include_empty_char=True):\n",
    "    \"\"\"\n",
    "    Loads pre-trained word embeddings (GloVe embeddings)\n",
    "        Inputs: - fp: filepath of pre-trained glove embeddings\n",
    "                - embedding_dim: dimension of each vector embedding\n",
    "                - generate_matrix: whether to generate an embedding matrix\n",
    "        Outputs:\n",
    "                - word2coefs: Dictionary. Word to its corresponding coefficients\n",
    "                - word2index: Dictionary. Word to word-index\n",
    "                - embedding_matrix: Embedding matrix for Keras Embedding layer\n",
    "    \"\"\"\n",
    "    # First, build the \"word2coefs\" and \"word2index\"\n",
    "    word2coefs = {} # word to its corresponding coefficients\n",
    "    word2index = {} # word to word-index\n",
    "    with open(fp) as f:\n",
    "        for idx, line in enumerate(f):\n",
    "            try:\n",
    "                data = [x.strip().lower() for x in line.split()]\n",
    "                word = data[0]\n",
    "                coefs = np.asarray(data[1:embedding_dim+1], dtype='float32')\n",
    "                word2coefs[word] = coefs\n",
    "                if word not in word2index:\n",
    "                    word2index[word] = len(word2index)\n",
    "            except Exception as e:\n",
    "                print('Exception occurred in `load_glove_embeddings`:', e)\n",
    "                continue\n",
    "        # End of for loop.\n",
    "    # End of with open\n",
    "    if include_empty_char:\n",
    "        word2index[''] = len(word2index)\n",
    "    # Second, build the \"embedding_matrix\"\n",
    "    # Words not found in embedding index will be all-zeros. Hence, the \"+1\".\n",
    "    vocab_size = len(word2coefs)+1 if include_empty_char else len(word2coefs)\n",
    "    embedding_matrix = np.zeros((vocab_size, embedding_dim))\n",
    "    for word, idx in word2index.items():\n",
    "        embedding_vec = word2coefs.get(word)\n",
    "        if embedding_vec is not None and embedding_vec.shape[0]==embedding_dim:\n",
    "            embedding_matrix[idx] = np.asarray(embedding_vec)\n",
    "    # return word2coefs, word2index, embedding_matrix\n",
    "    return word2index, np.asarray(embedding_matrix)"
   ]
  },
  {
   "cell_type": "code",
   "execution_count": 11,
   "metadata": {
    "collapsed": true
   },
   "outputs": [],
   "source": [
    "word2index, embedding_matrix = load_glove_embeddings('glove.6B/glove.6B.100d.txt', embedding_dim=100)"
   ]
  },
  {
   "cell_type": "code",
   "execution_count": 12,
   "metadata": {
    "collapsed": true
   },
   "outputs": [],
   "source": [
    "def custom_tokenize(d):\n",
    "    return [word2index.get(re.sub(r'[^\\w\\s]','',w).lower(), 0) for w in d.split()]"
   ]
  },
  {
   "cell_type": "code",
   "execution_count": 19,
   "metadata": {
    "collapsed": true
   },
   "outputs": [],
   "source": [
    "def sum_of_custom_tokenize(d):\n",
    "    return sum(word2index.get(re.sub(r'[^\\w\\s]','',w).lower(), 0) for w in d.split())"
   ]
  },
  {
   "cell_type": "code",
   "execution_count": 120,
   "metadata": {},
   "outputs": [
    {
     "name": "stdout",
     "output_type": "stream",
     "text": [
      "[37, 14, 29, 3292, 15231, 206]\n",
      "[102, 14, 37, 29, 3292, 8196]\n"
     ]
    },
    {
     "data": {
      "text/plain": [
       "(400001, 100)"
      ]
     },
     "execution_count": 120,
     "metadata": {},
     "output_type": "execute_result"
    }
   ],
   "source": [
    "vocab_size, embedding_dim = embedding_matrix.shape\n",
    "maxlen = 10\n",
    "print(custom_tokenize('This is an apple inc 10'))\n",
    "print(custom_tokenize('what is this, an apple ltd?'))\n",
    "vocab_size, embedding_dim"
   ]
  },
  {
   "cell_type": "code",
   "execution_count": 124,
   "metadata": {
    "collapsed": true
   },
   "outputs": [],
   "source": [
    "encoded_company_names = [custom_tokenize(d) for d in rwdf.CompanyName]\n",
    "encoded_company_names = [d for d in encoded_company_names]"
   ]
  },
  {
   "cell_type": "code",
   "execution_count": 125,
   "metadata": {
    "collapsed": true
   },
   "outputs": [],
   "source": [
    "encoded_company_names = pad_sequences(encoded_company_names, maxlen=maxlen, padding='post')"
   ]
  },
  {
   "cell_type": "code",
   "execution_count": 126,
   "metadata": {},
   "outputs": [
    {
     "data": {
      "text/plain": [
       "(454395, 454395)"
      ]
     },
     "execution_count": 126,
     "metadata": {},
     "output_type": "execute_result"
    }
   ],
   "source": [
    "# Sanity check\n",
    "len(encoded_company_names), len(industry_labels)"
   ]
  },
  {
   "cell_type": "markdown",
   "metadata": {},
   "source": [
    "### Train/Test Split"
   ]
  },
  {
   "cell_type": "code",
   "execution_count": 127,
   "metadata": {},
   "outputs": [
    {
     "data": {
      "text/plain": [
       "(363516, 189)"
      ]
     },
     "execution_count": 127,
     "metadata": {},
     "output_type": "execute_result"
    }
   ],
   "source": [
    "X_train, X_test, y_train, y_test = train_test_split(\n",
    "    encoded_company_names, industry_labels, test_size=0.2, random_state=42)\n",
    "y_train.shape"
   ]
  },
  {
   "cell_type": "markdown",
   "metadata": {},
   "source": [
    "### Model"
   ]
  },
  {
   "cell_type": "code",
   "execution_count": 128,
   "metadata": {},
   "outputs": [
    {
     "name": "stdout",
     "output_type": "stream",
     "text": [
      "_________________________________________________________________\n",
      "Layer (type)                 Output Shape              Param #   \n",
      "=================================================================\n",
      "embedding_1 (Embedding)      (None, 10, 100)           40000100  \n",
      "_________________________________________________________________\n",
      "flatten_1 (Flatten)          (None, 1000)              0         \n",
      "_________________________________________________________________\n",
      "dropout_1 (Dropout)          (None, 1000)              0         \n",
      "_________________________________________________________________\n",
      "dense_1 (Dense)              (None, 189)               189189    \n",
      "=================================================================\n",
      "Total params: 40,189,289\n",
      "Trainable params: 189,189\n",
      "Non-trainable params: 40,000,100\n",
      "_________________________________________________________________\n"
     ]
    }
   ],
   "source": [
    "embedding_layer = Embedding(input_dim=vocab_size, output_dim=embedding_dim, input_length=maxlen,\n",
    "                            weights=[embedding_matrix], trainable=False)\n",
    "model = Sequential()\n",
    "model.add(embedding_layer)\n",
    "model.add(Flatten())\n",
    "model.add(Dropout(0.1))\n",
    "model.add(Dense(num_industries, activation='sigmoid'))\n",
    "model.compile(optimizer='adam', loss='categorical_crossentropy', metrics=['acc'])\n",
    "model.summary()"
   ]
  },
  {
   "cell_type": "markdown",
   "metadata": {},
   "source": [
    "### Hook up Tensorboard"
   ]
  },
  {
   "cell_type": "markdown",
   "metadata": {},
   "source": [
    "`tensorboard --logdir='tmp'`"
   ]
  },
  {
   "cell_type": "code",
   "execution_count": 131,
   "metadata": {},
   "outputs": [
    {
     "data": {
      "text/plain": [
       "'tmp/GloVe100-fd189-industry-resampled-2018-03-22 15-30-04'"
      ]
     },
     "execution_count": 131,
     "metadata": {},
     "output_type": "execute_result"
    }
   ],
   "source": [
    "date_suffix = str(datetime.now()).replace(':', '-').split('.')[0]\n",
    "temp_folder = 'tmp/GloVe%s-fd%s-industry-resampled-%s' % (\n",
    "    embedding_dim, num_industries, date_suffix)\n",
    "temp_folder"
   ]
  },
  {
   "cell_type": "markdown",
   "metadata": {},
   "source": [
    "### Train Model"
   ]
  },
  {
   "cell_type": "code",
   "execution_count": 132,
   "metadata": {
    "collapsed": true
   },
   "outputs": [
    {
     "name": "stdout",
     "output_type": "stream",
     "text": [
      "Train on 363516 samples, validate on 90879 samples\n",
      "Epoch 1/20\n",
      "363516/363516 [==============================] - 41s 112us/step - loss: 3.6331 - acc: 0.2267 - val_loss: 3.6130 - val_acc: 0.2311\n",
      "Epoch 2/20\n",
      "363516/363516 [==============================] - 41s 113us/step - loss: 3.6324 - acc: 0.2269 - val_loss: 3.6336 - val_acc: 0.2290\n",
      "Epoch 3/20\n",
      "363516/363516 [==============================] - 41s 113us/step - loss: 3.6317 - acc: 0.2270 - val_loss: 3.6240 - val_acc: 0.2311\n",
      "Epoch 4/20\n",
      "363516/363516 [==============================] - 43s 117us/step - loss: 3.6299 - acc: 0.2280 - val_loss: 3.6018 - val_acc: 0.2318\n",
      "Epoch 5/20\n",
      "363516/363516 [==============================] - 42s 116us/step - loss: 3.6295 - acc: 0.2270 - val_loss: 3.6115 - val_acc: 0.2340\n",
      "Epoch 6/20\n",
      "363516/363516 [==============================] - 42s 115us/step - loss: 3.6307 - acc: 0.2280 - val_loss: 3.6202 - val_acc: 0.2319\n",
      "Epoch 7/20\n",
      "363516/363516 [==============================] - 42s 115us/step - loss: 3.6305 - acc: 0.2274 - val_loss: 3.5971 - val_acc: 0.2397\n",
      "Epoch 8/20\n",
      "363516/363516 [==============================] - 40s 111us/step - loss: 3.6285 - acc: 0.2279 - val_loss: 3.5915 - val_acc: 0.2371\n",
      "Epoch 9/20\n",
      "363516/363516 [==============================] - 42s 115us/step - loss: 3.6295 - acc: 0.2280 - val_loss: 3.6258 - val_acc: 0.2323\n",
      "Epoch 10/20\n",
      "363516/363516 [==============================] - 40s 110us/step - loss: 3.6300 - acc: 0.2280 - val_loss: 3.5736 - val_acc: 0.2367\n",
      "Epoch 11/20\n",
      "363516/363516 [==============================] - 42s 117us/step - loss: 3.6302 - acc: 0.2278 - val_loss: 3.6245 - val_acc: 0.2359\n",
      "Epoch 12/20\n",
      "363516/363516 [==============================] - 41s 113us/step - loss: 3.6291 - acc: 0.2290 - val_loss: 3.6446 - val_acc: 0.2300\n",
      "Epoch 13/20\n",
      "363516/363516 [==============================] - 41s 112us/step - loss: 3.6319 - acc: 0.2283 - val_loss: 3.5862 - val_acc: 0.2350\n",
      "Epoch 14/20\n",
      "363516/363516 [==============================] - 41s 114us/step - loss: 3.6312 - acc: 0.2276 - val_loss: 3.6145 - val_acc: 0.2284\n",
      "Epoch 15/20\n",
      "363516/363516 [==============================] - 41s 112us/step - loss: 3.6299 - acc: 0.2285 - val_loss: 3.5792 - val_acc: 0.2355\n",
      "Epoch 16/20\n",
      " 66688/363516 [====>.........................] - ETA: 31s - loss: 3.5820 - acc: 0.2327"
     ]
    },
    {
     "ename": "KeyboardInterrupt",
     "evalue": "",
     "output_type": "error",
     "traceback": [
      "\u001b[0;31m---------------------------------------------------------------------------\u001b[0m",
      "\u001b[0;31mKeyboardInterrupt\u001b[0m                         Traceback (most recent call last)",
      "\u001b[0;32m<ipython-input-132-eef6e74495c2>\u001b[0m in \u001b[0;36m<module>\u001b[0;34m()\u001b[0m\n\u001b[1;32m      2\u001b[0m     \u001b[0mX_train\u001b[0m\u001b[0;34m,\u001b[0m \u001b[0my_train\u001b[0m\u001b[0;34m,\u001b[0m \u001b[0mepochs\u001b[0m\u001b[0;34m=\u001b[0m\u001b[0;36m20\u001b[0m\u001b[0;34m,\u001b[0m\u001b[0;34m\u001b[0m\u001b[0m\n\u001b[1;32m      3\u001b[0m     \u001b[0mvalidation_data\u001b[0m\u001b[0;34m=\u001b[0m\u001b[0;34m(\u001b[0m\u001b[0mX_test\u001b[0m\u001b[0;34m,\u001b[0m \u001b[0my_test\u001b[0m\u001b[0;34m)\u001b[0m\u001b[0;34m,\u001b[0m\u001b[0;34m\u001b[0m\u001b[0m\n\u001b[0;32m----> 4\u001b[0;31m     callbacks=[TensorBoard(log_dir=temp_folder)])\n\u001b[0m",
      "\u001b[0;32m~/anaconda3/lib/python3.6/site-packages/keras/models.py\u001b[0m in \u001b[0;36mfit\u001b[0;34m(self, x, y, batch_size, epochs, verbose, callbacks, validation_split, validation_data, shuffle, class_weight, sample_weight, initial_epoch, steps_per_epoch, validation_steps, **kwargs)\u001b[0m\n\u001b[1;32m    961\u001b[0m                               \u001b[0minitial_epoch\u001b[0m\u001b[0;34m=\u001b[0m\u001b[0minitial_epoch\u001b[0m\u001b[0;34m,\u001b[0m\u001b[0;34m\u001b[0m\u001b[0m\n\u001b[1;32m    962\u001b[0m                               \u001b[0msteps_per_epoch\u001b[0m\u001b[0;34m=\u001b[0m\u001b[0msteps_per_epoch\u001b[0m\u001b[0;34m,\u001b[0m\u001b[0;34m\u001b[0m\u001b[0m\n\u001b[0;32m--> 963\u001b[0;31m                               validation_steps=validation_steps)\n\u001b[0m\u001b[1;32m    964\u001b[0m \u001b[0;34m\u001b[0m\u001b[0m\n\u001b[1;32m    965\u001b[0m     def evaluate(self, x=None, y=None,\n",
      "\u001b[0;32m~/anaconda3/lib/python3.6/site-packages/keras/engine/training.py\u001b[0m in \u001b[0;36mfit\u001b[0;34m(self, x, y, batch_size, epochs, verbose, callbacks, validation_split, validation_data, shuffle, class_weight, sample_weight, initial_epoch, steps_per_epoch, validation_steps, **kwargs)\u001b[0m\n\u001b[1;32m   1703\u001b[0m                               \u001b[0minitial_epoch\u001b[0m\u001b[0;34m=\u001b[0m\u001b[0minitial_epoch\u001b[0m\u001b[0;34m,\u001b[0m\u001b[0;34m\u001b[0m\u001b[0m\n\u001b[1;32m   1704\u001b[0m                               \u001b[0msteps_per_epoch\u001b[0m\u001b[0;34m=\u001b[0m\u001b[0msteps_per_epoch\u001b[0m\u001b[0;34m,\u001b[0m\u001b[0;34m\u001b[0m\u001b[0m\n\u001b[0;32m-> 1705\u001b[0;31m                               validation_steps=validation_steps)\n\u001b[0m\u001b[1;32m   1706\u001b[0m \u001b[0;34m\u001b[0m\u001b[0m\n\u001b[1;32m   1707\u001b[0m     def evaluate(self, x=None, y=None,\n",
      "\u001b[0;32m~/anaconda3/lib/python3.6/site-packages/keras/engine/training.py\u001b[0m in \u001b[0;36m_fit_loop\u001b[0;34m(self, f, ins, out_labels, batch_size, epochs, verbose, callbacks, val_f, val_ins, shuffle, callback_metrics, initial_epoch, steps_per_epoch, validation_steps)\u001b[0m\n\u001b[1;32m   1233\u001b[0m                         \u001b[0mins_batch\u001b[0m\u001b[0;34m[\u001b[0m\u001b[0mi\u001b[0m\u001b[0;34m]\u001b[0m \u001b[0;34m=\u001b[0m \u001b[0mins_batch\u001b[0m\u001b[0;34m[\u001b[0m\u001b[0mi\u001b[0m\u001b[0;34m]\u001b[0m\u001b[0;34m.\u001b[0m\u001b[0mtoarray\u001b[0m\u001b[0;34m(\u001b[0m\u001b[0;34m)\u001b[0m\u001b[0;34m\u001b[0m\u001b[0m\n\u001b[1;32m   1234\u001b[0m \u001b[0;34m\u001b[0m\u001b[0m\n\u001b[0;32m-> 1235\u001b[0;31m                     \u001b[0mouts\u001b[0m \u001b[0;34m=\u001b[0m \u001b[0mf\u001b[0m\u001b[0;34m(\u001b[0m\u001b[0mins_batch\u001b[0m\u001b[0;34m)\u001b[0m\u001b[0;34m\u001b[0m\u001b[0m\n\u001b[0m\u001b[1;32m   1236\u001b[0m                     \u001b[0;32mif\u001b[0m \u001b[0;32mnot\u001b[0m \u001b[0misinstance\u001b[0m\u001b[0;34m(\u001b[0m\u001b[0mouts\u001b[0m\u001b[0;34m,\u001b[0m \u001b[0mlist\u001b[0m\u001b[0;34m)\u001b[0m\u001b[0;34m:\u001b[0m\u001b[0;34m\u001b[0m\u001b[0m\n\u001b[1;32m   1237\u001b[0m                         \u001b[0mouts\u001b[0m \u001b[0;34m=\u001b[0m \u001b[0;34m[\u001b[0m\u001b[0mouts\u001b[0m\u001b[0;34m]\u001b[0m\u001b[0;34m\u001b[0m\u001b[0m\n",
      "\u001b[0;32m~/anaconda3/lib/python3.6/site-packages/keras/backend/tensorflow_backend.py\u001b[0m in \u001b[0;36m__call__\u001b[0;34m(self, inputs)\u001b[0m\n\u001b[1;32m   2476\u001b[0m         \u001b[0msession\u001b[0m \u001b[0;34m=\u001b[0m \u001b[0mget_session\u001b[0m\u001b[0;34m(\u001b[0m\u001b[0;34m)\u001b[0m\u001b[0;34m\u001b[0m\u001b[0m\n\u001b[1;32m   2477\u001b[0m         updated = session.run(fetches=fetches, feed_dict=feed_dict,\n\u001b[0;32m-> 2478\u001b[0;31m                               **self.session_kwargs)\n\u001b[0m\u001b[1;32m   2479\u001b[0m         \u001b[0;32mreturn\u001b[0m \u001b[0mupdated\u001b[0m\u001b[0;34m[\u001b[0m\u001b[0;34m:\u001b[0m\u001b[0mlen\u001b[0m\u001b[0;34m(\u001b[0m\u001b[0mself\u001b[0m\u001b[0;34m.\u001b[0m\u001b[0moutputs\u001b[0m\u001b[0;34m)\u001b[0m\u001b[0;34m]\u001b[0m\u001b[0;34m\u001b[0m\u001b[0m\n\u001b[1;32m   2480\u001b[0m \u001b[0;34m\u001b[0m\u001b[0m\n",
      "\u001b[0;32m~/anaconda3/lib/python3.6/site-packages/tensorflow/python/client/session.py\u001b[0m in \u001b[0;36mrun\u001b[0;34m(self, fetches, feed_dict, options, run_metadata)\u001b[0m\n\u001b[1;32m    903\u001b[0m     \u001b[0;32mtry\u001b[0m\u001b[0;34m:\u001b[0m\u001b[0;34m\u001b[0m\u001b[0m\n\u001b[1;32m    904\u001b[0m       result = self._run(None, fetches, feed_dict, options_ptr,\n\u001b[0;32m--> 905\u001b[0;31m                          run_metadata_ptr)\n\u001b[0m\u001b[1;32m    906\u001b[0m       \u001b[0;32mif\u001b[0m \u001b[0mrun_metadata\u001b[0m\u001b[0;34m:\u001b[0m\u001b[0;34m\u001b[0m\u001b[0m\n\u001b[1;32m    907\u001b[0m         \u001b[0mproto_data\u001b[0m \u001b[0;34m=\u001b[0m \u001b[0mtf_session\u001b[0m\u001b[0;34m.\u001b[0m\u001b[0mTF_GetBuffer\u001b[0m\u001b[0;34m(\u001b[0m\u001b[0mrun_metadata_ptr\u001b[0m\u001b[0;34m)\u001b[0m\u001b[0;34m\u001b[0m\u001b[0m\n",
      "\u001b[0;32m~/anaconda3/lib/python3.6/site-packages/tensorflow/python/client/session.py\u001b[0m in \u001b[0;36m_run\u001b[0;34m(self, handle, fetches, feed_dict, options, run_metadata)\u001b[0m\n\u001b[1;32m   1135\u001b[0m     \u001b[0;32mif\u001b[0m \u001b[0mfinal_fetches\u001b[0m \u001b[0;32mor\u001b[0m \u001b[0mfinal_targets\u001b[0m \u001b[0;32mor\u001b[0m \u001b[0;34m(\u001b[0m\u001b[0mhandle\u001b[0m \u001b[0;32mand\u001b[0m \u001b[0mfeed_dict_tensor\u001b[0m\u001b[0;34m)\u001b[0m\u001b[0;34m:\u001b[0m\u001b[0;34m\u001b[0m\u001b[0m\n\u001b[1;32m   1136\u001b[0m       results = self._do_run(handle, final_targets, final_fetches,\n\u001b[0;32m-> 1137\u001b[0;31m                              feed_dict_tensor, options, run_metadata)\n\u001b[0m\u001b[1;32m   1138\u001b[0m     \u001b[0;32melse\u001b[0m\u001b[0;34m:\u001b[0m\u001b[0;34m\u001b[0m\u001b[0m\n\u001b[1;32m   1139\u001b[0m       \u001b[0mresults\u001b[0m \u001b[0;34m=\u001b[0m \u001b[0;34m[\u001b[0m\u001b[0;34m]\u001b[0m\u001b[0;34m\u001b[0m\u001b[0m\n",
      "\u001b[0;32m~/anaconda3/lib/python3.6/site-packages/tensorflow/python/client/session.py\u001b[0m in \u001b[0;36m_do_run\u001b[0;34m(self, handle, target_list, fetch_list, feed_dict, options, run_metadata)\u001b[0m\n\u001b[1;32m   1353\u001b[0m     \u001b[0;32mif\u001b[0m \u001b[0mhandle\u001b[0m \u001b[0;32mis\u001b[0m \u001b[0;32mNone\u001b[0m\u001b[0;34m:\u001b[0m\u001b[0;34m\u001b[0m\u001b[0m\n\u001b[1;32m   1354\u001b[0m       return self._do_call(_run_fn, self._session, feeds, fetches, targets,\n\u001b[0;32m-> 1355\u001b[0;31m                            options, run_metadata)\n\u001b[0m\u001b[1;32m   1356\u001b[0m     \u001b[0;32melse\u001b[0m\u001b[0;34m:\u001b[0m\u001b[0;34m\u001b[0m\u001b[0m\n\u001b[1;32m   1357\u001b[0m       \u001b[0;32mreturn\u001b[0m \u001b[0mself\u001b[0m\u001b[0;34m.\u001b[0m\u001b[0m_do_call\u001b[0m\u001b[0;34m(\u001b[0m\u001b[0m_prun_fn\u001b[0m\u001b[0;34m,\u001b[0m \u001b[0mself\u001b[0m\u001b[0;34m.\u001b[0m\u001b[0m_session\u001b[0m\u001b[0;34m,\u001b[0m \u001b[0mhandle\u001b[0m\u001b[0;34m,\u001b[0m \u001b[0mfeeds\u001b[0m\u001b[0;34m,\u001b[0m \u001b[0mfetches\u001b[0m\u001b[0;34m)\u001b[0m\u001b[0;34m\u001b[0m\u001b[0m\n",
      "\u001b[0;32m~/anaconda3/lib/python3.6/site-packages/tensorflow/python/client/session.py\u001b[0m in \u001b[0;36m_do_call\u001b[0;34m(self, fn, *args)\u001b[0m\n\u001b[1;32m   1359\u001b[0m   \u001b[0;32mdef\u001b[0m \u001b[0m_do_call\u001b[0m\u001b[0;34m(\u001b[0m\u001b[0mself\u001b[0m\u001b[0;34m,\u001b[0m \u001b[0mfn\u001b[0m\u001b[0;34m,\u001b[0m \u001b[0;34m*\u001b[0m\u001b[0margs\u001b[0m\u001b[0;34m)\u001b[0m\u001b[0;34m:\u001b[0m\u001b[0;34m\u001b[0m\u001b[0m\n\u001b[1;32m   1360\u001b[0m     \u001b[0;32mtry\u001b[0m\u001b[0;34m:\u001b[0m\u001b[0;34m\u001b[0m\u001b[0m\n\u001b[0;32m-> 1361\u001b[0;31m       \u001b[0;32mreturn\u001b[0m \u001b[0mfn\u001b[0m\u001b[0;34m(\u001b[0m\u001b[0;34m*\u001b[0m\u001b[0margs\u001b[0m\u001b[0;34m)\u001b[0m\u001b[0;34m\u001b[0m\u001b[0m\n\u001b[0m\u001b[1;32m   1362\u001b[0m     \u001b[0;32mexcept\u001b[0m \u001b[0merrors\u001b[0m\u001b[0;34m.\u001b[0m\u001b[0mOpError\u001b[0m \u001b[0;32mas\u001b[0m \u001b[0me\u001b[0m\u001b[0;34m:\u001b[0m\u001b[0;34m\u001b[0m\u001b[0m\n\u001b[1;32m   1363\u001b[0m       \u001b[0mmessage\u001b[0m \u001b[0;34m=\u001b[0m \u001b[0mcompat\u001b[0m\u001b[0;34m.\u001b[0m\u001b[0mas_text\u001b[0m\u001b[0;34m(\u001b[0m\u001b[0me\u001b[0m\u001b[0;34m.\u001b[0m\u001b[0mmessage\u001b[0m\u001b[0;34m)\u001b[0m\u001b[0;34m\u001b[0m\u001b[0m\n",
      "\u001b[0;32m~/anaconda3/lib/python3.6/site-packages/tensorflow/python/client/session.py\u001b[0m in \u001b[0;36m_run_fn\u001b[0;34m(session, feed_dict, fetch_list, target_list, options, run_metadata)\u001b[0m\n\u001b[1;32m   1338\u001b[0m         \u001b[0;32melse\u001b[0m\u001b[0;34m:\u001b[0m\u001b[0;34m\u001b[0m\u001b[0m\n\u001b[1;32m   1339\u001b[0m           return tf_session.TF_Run(session, options, feed_dict, fetch_list,\n\u001b[0;32m-> 1340\u001b[0;31m                                    target_list, status, run_metadata)\n\u001b[0m\u001b[1;32m   1341\u001b[0m \u001b[0;34m\u001b[0m\u001b[0m\n\u001b[1;32m   1342\u001b[0m     \u001b[0;32mdef\u001b[0m \u001b[0m_prun_fn\u001b[0m\u001b[0;34m(\u001b[0m\u001b[0msession\u001b[0m\u001b[0;34m,\u001b[0m \u001b[0mhandle\u001b[0m\u001b[0;34m,\u001b[0m \u001b[0mfeed_dict\u001b[0m\u001b[0;34m,\u001b[0m \u001b[0mfetch_list\u001b[0m\u001b[0;34m)\u001b[0m\u001b[0;34m:\u001b[0m\u001b[0;34m\u001b[0m\u001b[0m\n",
      "\u001b[0;31mKeyboardInterrupt\u001b[0m: "
     ]
    }
   ],
   "source": [
    "model.fit(\n",
    "    X_train, y_train, epochs=8, batch_size=50,\n",
    "    validation_data=(X_test, y_test),\n",
    "    callbacks=[TensorBoard(log_dir=temp_folder)])"
   ]
  },
  {
   "cell_type": "markdown",
   "metadata": {},
   "source": [
    "### Testing/Validation"
   ]
  },
  {
   "cell_type": "code",
   "execution_count": 133,
   "metadata": {},
   "outputs": [
    {
     "name": "stdout",
     "output_type": "stream",
     "text": [
      "90879/90879 [==============================] - 3s 36us/step\n"
     ]
    },
    {
     "data": {
      "text/plain": [
       "0.23394843693000122"
      ]
     },
     "execution_count": 133,
     "metadata": {},
     "output_type": "execute_result"
    }
   ],
   "source": [
    "loss, accuracy = model.evaluate(X_test, y_test)\n",
    "accuracy"
   ]
  },
  {
   "cell_type": "code",
   "execution_count": 134,
   "metadata": {},
   "outputs": [
    {
     "data": {
      "text/plain": [
       "((90879,), (90879,))"
      ]
     },
     "execution_count": 134,
     "metadata": {},
     "output_type": "execute_result"
    }
   ],
   "source": [
    "y_labels = np.argmax(y_test, axis=1)\n",
    "y_pred = model.predict_classes(X_test)\n",
    "y_labels.shape, y_pred.shape"
   ]
  },
  {
   "cell_type": "code",
   "execution_count": 135,
   "metadata": {},
   "outputs": [
    {
     "name": "stdout",
     "output_type": "stream",
     "text": [
      "Verifying accuracy 0.233948436933\n"
     ]
    }
   ],
   "source": [
    "print('Verifying accuracy', (y_labels==y_pred).sum()/len(y_pred))"
   ]
  },
  {
   "cell_type": "code",
   "execution_count": 164,
   "metadata": {
    "collapsed": true
   },
   "outputs": [],
   "source": [
    "def plot_confusion_matrix(cm, classes):\n",
    "    pylab.clf()\n",
    "    cm = cm/cm.sum(axis=0)\n",
    "    pylab.matshow(cm, fignum=False, cmap='Blues', vmin=0, vmax=0.5)\n",
    "    pylab.colorbar()\n",
    "    pylab.grid(False)\n",
    "    pylab.xlabel('Predicted')\n",
    "    pylab.ylabel('Actual')\n",
    "    pylab.show()"
   ]
  },
  {
   "cell_type": "code",
   "execution_count": 165,
   "metadata": {
    "scrolled": true
   },
   "outputs": [
    {
     "data": {
      "image/png": "[encoded data removed]",
      "text/plain": [
       "<matplotlib.figure.Figure at 0x1b074d9828>"
      ]
     },
     "metadata": {},
     "output_type": "display_data"
    }
   ],
   "source": [
    "cm = confusion_matrix(y_pred, y_labels)\n",
    "plot_confusion_matrix(cm, [])"
   ]
  },
  {
   "cell_type": "code",
   "execution_count": 155,
   "metadata": {},
   "outputs": [],
   "source": [
    "cm_scaled = cm/cm.sum(axis=0)\n",
    "acc_per_class = pd.Series(np.diag(cm_scaled))\n",
    "acc_per_class = acc_per_class.reset_index()\n",
    "acc_per_class['class'] = industry_encoder.inverse_transform(acc_per_class.index)\n",
    "acc_per_class['num'] = cm.sum(axis=0)"
   ]
  },
  {
   "cell_type": "code",
   "execution_count": 156,
   "metadata": {
    "collapsed": true
   },
   "outputs": [
    {
     "data": {
      "text/html": [
       "<div>\n",
       "<style>\n",
       "    .dataframe thead tr:only-child th {\n",
       "        text-align: right;\n",
       "    }\n",
       "\n",
       "    .dataframe thead th {\n",
       "        text-align: left;\n",
       "    }\n",
       "\n",
       "    .dataframe tbody tr th {\n",
       "        vertical-align: top;\n",
       "    }\n",
       "</style>\n",
       "<table border=\"1\" class=\"dataframe\">\n",
       "  <thead>\n",
       "    <tr style=\"text-align: right;\">\n",
       "      <th></th>\n",
       "      <th>index</th>\n",
       "      <th>0</th>\n",
       "      <th>class</th>\n",
       "      <th>num</th>\n",
       "    </tr>\n",
       "  </thead>\n",
       "  <tbody>\n",
       "    <tr>\n",
       "      <th>0</th>\n",
       "      <td>0</td>\n",
       "      <td>0.012097</td>\n",
       "      <td>011</td>\n",
       "      <td>496</td>\n",
       "    </tr>\n",
       "    <tr>\n",
       "      <th>1</th>\n",
       "      <td>1</td>\n",
       "      <td>0.000000</td>\n",
       "      <td>012</td>\n",
       "      <td>60</td>\n",
       "    </tr>\n",
       "    <tr>\n",
       "      <th>2</th>\n",
       "      <td>2</td>\n",
       "      <td>0.243299</td>\n",
       "      <td>014</td>\n",
       "      <td>485</td>\n",
       "    </tr>\n",
       "    <tr>\n",
       "      <th>3</th>\n",
       "      <td>3</td>\n",
       "      <td>0.387464</td>\n",
       "      <td>015</td>\n",
       "      <td>351</td>\n",
       "    </tr>\n",
       "    <tr>\n",
       "      <th>4</th>\n",
       "      <td>4</td>\n",
       "      <td>0.062130</td>\n",
       "      <td>016</td>\n",
       "      <td>338</td>\n",
       "    </tr>\n",
       "    <tr>\n",
       "      <th>5</th>\n",
       "      <td>5</td>\n",
       "      <td>0.140187</td>\n",
       "      <td>021</td>\n",
       "      <td>107</td>\n",
       "    </tr>\n",
       "    <tr>\n",
       "      <th>6</th>\n",
       "      <td>6</td>\n",
       "      <td>0.139535</td>\n",
       "      <td>024</td>\n",
       "      <td>129</td>\n",
       "    </tr>\n",
       "    <tr>\n",
       "      <th>7</th>\n",
       "      <td>7</td>\n",
       "      <td>0.440678</td>\n",
       "      <td>031</td>\n",
       "      <td>177</td>\n",
       "    </tr>\n",
       "    <tr>\n",
       "      <th>8</th>\n",
       "      <td>8</td>\n",
       "      <td>0.093960</td>\n",
       "      <td>061</td>\n",
       "      <td>149</td>\n",
       "    </tr>\n",
       "    <tr>\n",
       "      <th>9</th>\n",
       "      <td>9</td>\n",
       "      <td>0.200000</td>\n",
       "      <td>081</td>\n",
       "      <td>55</td>\n",
       "    </tr>\n",
       "    <tr>\n",
       "      <th>10</th>\n",
       "      <td>10</td>\n",
       "      <td>0.365079</td>\n",
       "      <td>089</td>\n",
       "      <td>63</td>\n",
       "    </tr>\n",
       "    <tr>\n",
       "      <th>11</th>\n",
       "      <td>11</td>\n",
       "      <td>0.071429</td>\n",
       "      <td>091</td>\n",
       "      <td>266</td>\n",
       "    </tr>\n",
       "    <tr>\n",
       "      <th>12</th>\n",
       "      <td>12</td>\n",
       "      <td>0.000000</td>\n",
       "      <td>101</td>\n",
       "      <td>82</td>\n",
       "    </tr>\n",
       "    <tr>\n",
       "      <th>13</th>\n",
       "      <td>13</td>\n",
       "      <td>0.080645</td>\n",
       "      <td>105</td>\n",
       "      <td>62</td>\n",
       "    </tr>\n",
       "    <tr>\n",
       "      <th>14</th>\n",
       "      <td>14</td>\n",
       "      <td>0.144385</td>\n",
       "      <td>107</td>\n",
       "      <td>187</td>\n",
       "    </tr>\n",
       "    <tr>\n",
       "      <th>15</th>\n",
       "      <td>15</td>\n",
       "      <td>0.136752</td>\n",
       "      <td>108</td>\n",
       "      <td>234</td>\n",
       "    </tr>\n",
       "    <tr>\n",
       "      <th>16</th>\n",
       "      <td>16</td>\n",
       "      <td>0.558952</td>\n",
       "      <td>110</td>\n",
       "      <td>229</td>\n",
       "    </tr>\n",
       "    <tr>\n",
       "      <th>17</th>\n",
       "      <td>17</td>\n",
       "      <td>0.028986</td>\n",
       "      <td>133</td>\n",
       "      <td>69</td>\n",
       "    </tr>\n",
       "    <tr>\n",
       "      <th>18</th>\n",
       "      <td>18</td>\n",
       "      <td>0.104348</td>\n",
       "      <td>139</td>\n",
       "      <td>230</td>\n",
       "    </tr>\n",
       "    <tr>\n",
       "      <th>19</th>\n",
       "      <td>19</td>\n",
       "      <td>0.274448</td>\n",
       "      <td>141</td>\n",
       "      <td>317</td>\n",
       "    </tr>\n",
       "    <tr>\n",
       "      <th>20</th>\n",
       "      <td>20</td>\n",
       "      <td>0.257576</td>\n",
       "      <td>162</td>\n",
       "      <td>330</td>\n",
       "    </tr>\n",
       "    <tr>\n",
       "      <th>21</th>\n",
       "      <td>21</td>\n",
       "      <td>0.091549</td>\n",
       "      <td>172</td>\n",
       "      <td>142</td>\n",
       "    </tr>\n",
       "    <tr>\n",
       "      <th>22</th>\n",
       "      <td>22</td>\n",
       "      <td>0.386364</td>\n",
       "      <td>181</td>\n",
       "      <td>704</td>\n",
       "    </tr>\n",
       "    <tr>\n",
       "      <th>23</th>\n",
       "      <td>23</td>\n",
       "      <td>0.012195</td>\n",
       "      <td>201</td>\n",
       "      <td>82</td>\n",
       "    </tr>\n",
       "    <tr>\n",
       "      <th>24</th>\n",
       "      <td>24</td>\n",
       "      <td>0.113402</td>\n",
       "      <td>205</td>\n",
       "      <td>97</td>\n",
       "    </tr>\n",
       "    <tr>\n",
       "      <th>25</th>\n",
       "      <td>25</td>\n",
       "      <td>0.061538</td>\n",
       "      <td>211</td>\n",
       "      <td>65</td>\n",
       "    </tr>\n",
       "    <tr>\n",
       "      <th>26</th>\n",
       "      <td>26</td>\n",
       "      <td>0.235294</td>\n",
       "      <td>222</td>\n",
       "      <td>340</td>\n",
       "    </tr>\n",
       "    <tr>\n",
       "      <th>27</th>\n",
       "      <td>27</td>\n",
       "      <td>0.079208</td>\n",
       "      <td>251</td>\n",
       "      <td>404</td>\n",
       "    </tr>\n",
       "    <tr>\n",
       "      <th>28</th>\n",
       "      <td>28</td>\n",
       "      <td>0.202847</td>\n",
       "      <td>256</td>\n",
       "      <td>281</td>\n",
       "    </tr>\n",
       "    <tr>\n",
       "      <th>29</th>\n",
       "      <td>29</td>\n",
       "      <td>0.086022</td>\n",
       "      <td>257</td>\n",
       "      <td>93</td>\n",
       "    </tr>\n",
       "    <tr>\n",
       "      <th>30</th>\n",
       "      <td>30</td>\n",
       "      <td>0.093558</td>\n",
       "      <td>259</td>\n",
       "      <td>652</td>\n",
       "    </tr>\n",
       "    <tr>\n",
       "      <th>31</th>\n",
       "      <td>31</td>\n",
       "      <td>0.074766</td>\n",
       "      <td>261</td>\n",
       "      <td>107</td>\n",
       "    </tr>\n",
       "    <tr>\n",
       "      <th>32</th>\n",
       "      <td>32</td>\n",
       "      <td>0.137255</td>\n",
       "      <td>262</td>\n",
       "      <td>51</td>\n",
       "    </tr>\n",
       "    <tr>\n",
       "      <th>33</th>\n",
       "      <td>33</td>\n",
       "      <td>0.115108</td>\n",
       "      <td>265</td>\n",
       "      <td>139</td>\n",
       "    </tr>\n",
       "    <tr>\n",
       "      <th>34</th>\n",
       "      <td>34</td>\n",
       "      <td>0.104478</td>\n",
       "      <td>271</td>\n",
       "      <td>67</td>\n",
       "    </tr>\n",
       "    <tr>\n",
       "      <th>35</th>\n",
       "      <td>35</td>\n",
       "      <td>0.000000</td>\n",
       "      <td>279</td>\n",
       "      <td>185</td>\n",
       "    </tr>\n",
       "    <tr>\n",
       "      <th>36</th>\n",
       "      <td>36</td>\n",
       "      <td>0.107527</td>\n",
       "      <td>281</td>\n",
       "      <td>93</td>\n",
       "    </tr>\n",
       "    <tr>\n",
       "      <th>37</th>\n",
       "      <td>37</td>\n",
       "      <td>0.000000</td>\n",
       "      <td>282</td>\n",
       "      <td>173</td>\n",
       "    </tr>\n",
       "    <tr>\n",
       "      <th>38</th>\n",
       "      <td>38</td>\n",
       "      <td>0.000000</td>\n",
       "      <td>284</td>\n",
       "      <td>61</td>\n",
       "    </tr>\n",
       "    <tr>\n",
       "      <th>39</th>\n",
       "      <td>39</td>\n",
       "      <td>0.023188</td>\n",
       "      <td>289</td>\n",
       "      <td>345</td>\n",
       "    </tr>\n",
       "    <tr>\n",
       "      <th>40</th>\n",
       "      <td>40</td>\n",
       "      <td>0.010526</td>\n",
       "      <td>293</td>\n",
       "      <td>95</td>\n",
       "    </tr>\n",
       "    <tr>\n",
       "      <th>41</th>\n",
       "      <td>41</td>\n",
       "      <td>0.188679</td>\n",
       "      <td>301</td>\n",
       "      <td>53</td>\n",
       "    </tr>\n",
       "    <tr>\n",
       "      <th>42</th>\n",
       "      <td>42</td>\n",
       "      <td>0.000000</td>\n",
       "      <td>309</td>\n",
       "      <td>77</td>\n",
       "    </tr>\n",
       "    <tr>\n",
       "      <th>43</th>\n",
       "      <td>43</td>\n",
       "      <td>0.220441</td>\n",
       "      <td>310</td>\n",
       "      <td>499</td>\n",
       "    </tr>\n",
       "    <tr>\n",
       "      <th>44</th>\n",
       "      <td>44</td>\n",
       "      <td>0.049180</td>\n",
       "      <td>321</td>\n",
       "      <td>122</td>\n",
       "    </tr>\n",
       "    <tr>\n",
       "      <th>45</th>\n",
       "      <td>45</td>\n",
       "      <td>0.037975</td>\n",
       "      <td>325</td>\n",
       "      <td>79</td>\n",
       "    </tr>\n",
       "    <tr>\n",
       "      <th>46</th>\n",
       "      <td>46</td>\n",
       "      <td>0.016913</td>\n",
       "      <td>329</td>\n",
       "      <td>946</td>\n",
       "    </tr>\n",
       "    <tr>\n",
       "      <th>47</th>\n",
       "      <td>47</td>\n",
       "      <td>0.022774</td>\n",
       "      <td>331</td>\n",
       "      <td>966</td>\n",
       "    </tr>\n",
       "    <tr>\n",
       "      <th>48</th>\n",
       "      <td>48</td>\n",
       "      <td>0.099042</td>\n",
       "      <td>332</td>\n",
       "      <td>313</td>\n",
       "    </tr>\n",
       "    <tr>\n",
       "      <th>49</th>\n",
       "      <td>49</td>\n",
       "      <td>0.610123</td>\n",
       "      <td>351</td>\n",
       "      <td>731</td>\n",
       "    </tr>\n",
       "    <tr>\n",
       "      <th>...</th>\n",
       "      <td>...</td>\n",
       "      <td>...</td>\n",
       "      <td>...</td>\n",
       "      <td>...</td>\n",
       "    </tr>\n",
       "    <tr>\n",
       "      <th>139</th>\n",
       "      <td>139</td>\n",
       "      <td>0.048454</td>\n",
       "      <td>749</td>\n",
       "      <td>970</td>\n",
       "    </tr>\n",
       "    <tr>\n",
       "      <th>140</th>\n",
       "      <td>140</td>\n",
       "      <td>0.483680</td>\n",
       "      <td>750</td>\n",
       "      <td>337</td>\n",
       "    </tr>\n",
       "    <tr>\n",
       "      <th>141</th>\n",
       "      <td>141</td>\n",
       "      <td>0.302326</td>\n",
       "      <td>771</td>\n",
       "      <td>301</td>\n",
       "    </tr>\n",
       "    <tr>\n",
       "      <th>142</th>\n",
       "      <td>142</td>\n",
       "      <td>0.010309</td>\n",
       "      <td>772</td>\n",
       "      <td>97</td>\n",
       "    </tr>\n",
       "    <tr>\n",
       "      <th>143</th>\n",
       "      <td>143</td>\n",
       "      <td>0.209779</td>\n",
       "      <td>773</td>\n",
       "      <td>634</td>\n",
       "    </tr>\n",
       "    <tr>\n",
       "      <th>144</th>\n",
       "      <td>144</td>\n",
       "      <td>0.388282</td>\n",
       "      <td>781</td>\n",
       "      <td>1007</td>\n",
       "    </tr>\n",
       "    <tr>\n",
       "      <th>145</th>\n",
       "      <td>145</td>\n",
       "      <td>0.112520</td>\n",
       "      <td>782</td>\n",
       "      <td>631</td>\n",
       "    </tr>\n",
       "    <tr>\n",
       "      <th>146</th>\n",
       "      <td>146</td>\n",
       "      <td>0.183060</td>\n",
       "      <td>783</td>\n",
       "      <td>366</td>\n",
       "    </tr>\n",
       "    <tr>\n",
       "      <th>147</th>\n",
       "      <td>147</td>\n",
       "      <td>0.537313</td>\n",
       "      <td>791</td>\n",
       "      <td>670</td>\n",
       "    </tr>\n",
       "    <tr>\n",
       "      <th>148</th>\n",
       "      <td>148</td>\n",
       "      <td>0.030702</td>\n",
       "      <td>799</td>\n",
       "      <td>228</td>\n",
       "    </tr>\n",
       "    <tr>\n",
       "      <th>149</th>\n",
       "      <td>149</td>\n",
       "      <td>0.440748</td>\n",
       "      <td>801</td>\n",
       "      <td>481</td>\n",
       "    </tr>\n",
       "    <tr>\n",
       "      <th>150</th>\n",
       "      <td>150</td>\n",
       "      <td>0.313559</td>\n",
       "      <td>802</td>\n",
       "      <td>354</td>\n",
       "    </tr>\n",
       "    <tr>\n",
       "      <th>151</th>\n",
       "      <td>151</td>\n",
       "      <td>0.224299</td>\n",
       "      <td>803</td>\n",
       "      <td>107</td>\n",
       "    </tr>\n",
       "    <tr>\n",
       "      <th>152</th>\n",
       "      <td>152</td>\n",
       "      <td>0.043182</td>\n",
       "      <td>811</td>\n",
       "      <td>440</td>\n",
       "    </tr>\n",
       "    <tr>\n",
       "      <th>153</th>\n",
       "      <td>153</td>\n",
       "      <td>0.620518</td>\n",
       "      <td>812</td>\n",
       "      <td>1004</td>\n",
       "    </tr>\n",
       "    <tr>\n",
       "      <th>154</th>\n",
       "      <td>154</td>\n",
       "      <td>0.427754</td>\n",
       "      <td>813</td>\n",
       "      <td>699</td>\n",
       "    </tr>\n",
       "    <tr>\n",
       "      <th>155</th>\n",
       "      <td>155</td>\n",
       "      <td>0.014815</td>\n",
       "      <td>821</td>\n",
       "      <td>540</td>\n",
       "    </tr>\n",
       "    <tr>\n",
       "      <th>156</th>\n",
       "      <td>156</td>\n",
       "      <td>0.149254</td>\n",
       "      <td>822</td>\n",
       "      <td>67</td>\n",
       "    </tr>\n",
       "    <tr>\n",
       "      <th>157</th>\n",
       "      <td>157</td>\n",
       "      <td>0.086022</td>\n",
       "      <td>823</td>\n",
       "      <td>186</td>\n",
       "    </tr>\n",
       "    <tr>\n",
       "      <th>158</th>\n",
       "      <td>158</td>\n",
       "      <td>0.023881</td>\n",
       "      <td>829</td>\n",
       "      <td>1005</td>\n",
       "    </tr>\n",
       "    <tr>\n",
       "      <th>159</th>\n",
       "      <td>159</td>\n",
       "      <td>0.008696</td>\n",
       "      <td>841</td>\n",
       "      <td>115</td>\n",
       "    </tr>\n",
       "    <tr>\n",
       "      <th>160</th>\n",
       "      <td>160</td>\n",
       "      <td>0.407186</td>\n",
       "      <td>842</td>\n",
       "      <td>167</td>\n",
       "    </tr>\n",
       "    <tr>\n",
       "      <th>161</th>\n",
       "      <td>161</td>\n",
       "      <td>0.663616</td>\n",
       "      <td>851</td>\n",
       "      <td>437</td>\n",
       "    </tr>\n",
       "    <tr>\n",
       "      <th>162</th>\n",
       "      <td>162</td>\n",
       "      <td>0.326590</td>\n",
       "      <td>852</td>\n",
       "      <td>346</td>\n",
       "    </tr>\n",
       "    <tr>\n",
       "      <th>163</th>\n",
       "      <td>163</td>\n",
       "      <td>0.092135</td>\n",
       "      <td>853</td>\n",
       "      <td>445</td>\n",
       "    </tr>\n",
       "    <tr>\n",
       "      <th>164</th>\n",
       "      <td>164</td>\n",
       "      <td>0.069444</td>\n",
       "      <td>854</td>\n",
       "      <td>144</td>\n",
       "    </tr>\n",
       "    <tr>\n",
       "      <th>165</th>\n",
       "      <td>165</td>\n",
       "      <td>0.121789</td>\n",
       "      <td>855</td>\n",
       "      <td>1051</td>\n",
       "    </tr>\n",
       "    <tr>\n",
       "      <th>166</th>\n",
       "      <td>166</td>\n",
       "      <td>0.269553</td>\n",
       "      <td>856</td>\n",
       "      <td>716</td>\n",
       "    </tr>\n",
       "    <tr>\n",
       "      <th>167</th>\n",
       "      <td>167</td>\n",
       "      <td>0.177437</td>\n",
       "      <td>861</td>\n",
       "      <td>913</td>\n",
       "    </tr>\n",
       "    <tr>\n",
       "      <th>168</th>\n",
       "      <td>168</td>\n",
       "      <td>0.463992</td>\n",
       "      <td>862</td>\n",
       "      <td>972</td>\n",
       "    </tr>\n",
       "    <tr>\n",
       "      <th>169</th>\n",
       "      <td>169</td>\n",
       "      <td>0.111888</td>\n",
       "      <td>869</td>\n",
       "      <td>1001</td>\n",
       "    </tr>\n",
       "    <tr>\n",
       "      <th>170</th>\n",
       "      <td>170</td>\n",
       "      <td>0.365957</td>\n",
       "      <td>871</td>\n",
       "      <td>235</td>\n",
       "    </tr>\n",
       "    <tr>\n",
       "      <th>171</th>\n",
       "      <td>171</td>\n",
       "      <td>0.015385</td>\n",
       "      <td>872</td>\n",
       "      <td>130</td>\n",
       "    </tr>\n",
       "    <tr>\n",
       "      <th>172</th>\n",
       "      <td>172</td>\n",
       "      <td>0.121622</td>\n",
       "      <td>873</td>\n",
       "      <td>296</td>\n",
       "    </tr>\n",
       "    <tr>\n",
       "      <th>173</th>\n",
       "      <td>173</td>\n",
       "      <td>0.000000</td>\n",
       "      <td>879</td>\n",
       "      <td>220</td>\n",
       "    </tr>\n",
       "    <tr>\n",
       "      <th>174</th>\n",
       "      <td>174</td>\n",
       "      <td>0.140673</td>\n",
       "      <td>881</td>\n",
       "      <td>327</td>\n",
       "    </tr>\n",
       "    <tr>\n",
       "      <th>175</th>\n",
       "      <td>175</td>\n",
       "      <td>0.188224</td>\n",
       "      <td>889</td>\n",
       "      <td>1036</td>\n",
       "    </tr>\n",
       "    <tr>\n",
       "      <th>176</th>\n",
       "      <td>176</td>\n",
       "      <td>0.136452</td>\n",
       "      <td>900</td>\n",
       "      <td>1026</td>\n",
       "    </tr>\n",
       "    <tr>\n",
       "      <th>177</th>\n",
       "      <td>177</td>\n",
       "      <td>0.193750</td>\n",
       "      <td>910</td>\n",
       "      <td>160</td>\n",
       "    </tr>\n",
       "    <tr>\n",
       "      <th>178</th>\n",
       "      <td>178</td>\n",
       "      <td>0.183333</td>\n",
       "      <td>920</td>\n",
       "      <td>120</td>\n",
       "    </tr>\n",
       "    <tr>\n",
       "      <th>179</th>\n",
       "      <td>179</td>\n",
       "      <td>0.427466</td>\n",
       "      <td>931</td>\n",
       "      <td>1034</td>\n",
       "    </tr>\n",
       "    <tr>\n",
       "      <th>180</th>\n",
       "      <td>180</td>\n",
       "      <td>0.262515</td>\n",
       "      <td>932</td>\n",
       "      <td>819</td>\n",
       "    </tr>\n",
       "    <tr>\n",
       "      <th>181</th>\n",
       "      <td>181</td>\n",
       "      <td>0.234694</td>\n",
       "      <td>941</td>\n",
       "      <td>294</td>\n",
       "    </tr>\n",
       "    <tr>\n",
       "      <th>182</th>\n",
       "      <td>182</td>\n",
       "      <td>0.442287</td>\n",
       "      <td>949</td>\n",
       "      <td>927</td>\n",
       "    </tr>\n",
       "    <tr>\n",
       "      <th>183</th>\n",
       "      <td>183</td>\n",
       "      <td>0.020408</td>\n",
       "      <td>951</td>\n",
       "      <td>147</td>\n",
       "    </tr>\n",
       "    <tr>\n",
       "      <th>184</th>\n",
       "      <td>184</td>\n",
       "      <td>0.081250</td>\n",
       "      <td>952</td>\n",
       "      <td>160</td>\n",
       "    </tr>\n",
       "    <tr>\n",
       "      <th>185</th>\n",
       "      <td>185</td>\n",
       "      <td>0.016410</td>\n",
       "      <td>960</td>\n",
       "      <td>975</td>\n",
       "    </tr>\n",
       "    <tr>\n",
       "      <th>186</th>\n",
       "      <td>186</td>\n",
       "      <td>0.764423</td>\n",
       "      <td>980</td>\n",
       "      <td>1040</td>\n",
       "    </tr>\n",
       "    <tr>\n",
       "      <th>187</th>\n",
       "      <td>187</td>\n",
       "      <td>0.000000</td>\n",
       "      <td>982</td>\n",
       "      <td>68</td>\n",
       "    </tr>\n",
       "    <tr>\n",
       "      <th>188</th>\n",
       "      <td>188</td>\n",
       "      <td>0.000000</td>\n",
       "      <td>990</td>\n",
       "      <td>55</td>\n",
       "    </tr>\n",
       "  </tbody>\n",
       "</table>\n",
       "<p>189 rows × 4 columns</p>\n",
       "</div>"
      ],
      "text/plain": [
       "     index         0 class   num\n",
       "0        0  0.012097   011   496\n",
       "1        1  0.000000   012    60\n",
       "2        2  0.243299   014   485\n",
       "3        3  0.387464   015   351\n",
       "4        4  0.062130   016   338\n",
       "5        5  0.140187   021   107\n",
       "6        6  0.139535   024   129\n",
       "7        7  0.440678   031   177\n",
       "8        8  0.093960   061   149\n",
       "9        9  0.200000   081    55\n",
       "10      10  0.365079   089    63\n",
       "11      11  0.071429   091   266\n",
       "12      12  0.000000   101    82\n",
       "13      13  0.080645   105    62\n",
       "14      14  0.144385   107   187\n",
       "15      15  0.136752   108   234\n",
       "16      16  0.558952   110   229\n",
       "17      17  0.028986   133    69\n",
       "18      18  0.104348   139   230\n",
       "19      19  0.274448   141   317\n",
       "20      20  0.257576   162   330\n",
       "21      21  0.091549   172   142\n",
       "22      22  0.386364   181   704\n",
       "23      23  0.012195   201    82\n",
       "24      24  0.113402   205    97\n",
       "25      25  0.061538   211    65\n",
       "26      26  0.235294   222   340\n",
       "27      27  0.079208   251   404\n",
       "28      28  0.202847   256   281\n",
       "29      29  0.086022   257    93\n",
       "30      30  0.093558   259   652\n",
       "31      31  0.074766   261   107\n",
       "32      32  0.137255   262    51\n",
       "33      33  0.115108   265   139\n",
       "34      34  0.104478   271    67\n",
       "35      35  0.000000   279   185\n",
       "36      36  0.107527   281    93\n",
       "37      37  0.000000   282   173\n",
       "38      38  0.000000   284    61\n",
       "39      39  0.023188   289   345\n",
       "40      40  0.010526   293    95\n",
       "41      41  0.188679   301    53\n",
       "42      42  0.000000   309    77\n",
       "43      43  0.220441   310   499\n",
       "44      44  0.049180   321   122\n",
       "45      45  0.037975   325    79\n",
       "46      46  0.016913   329   946\n",
       "47      47  0.022774   331   966\n",
       "48      48  0.099042   332   313\n",
       "49      49  0.610123   351   731\n",
       "..     ...       ...   ...   ...\n",
       "139    139  0.048454   749   970\n",
       "140    140  0.483680   750   337\n",
       "141    141  0.302326   771   301\n",
       "142    142  0.010309   772    97\n",
       "143    143  0.209779   773   634\n",
       "144    144  0.388282   781  1007\n",
       "145    145  0.112520   782   631\n",
       "146    146  0.183060   783   366\n",
       "147    147  0.537313   791   670\n",
       "148    148  0.030702   799   228\n",
       "149    149  0.440748   801   481\n",
       "150    150  0.313559   802   354\n",
       "151    151  0.224299   803   107\n",
       "152    152  0.043182   811   440\n",
       "153    153  0.620518   812  1004\n",
       "154    154  0.427754   813   699\n",
       "155    155  0.014815   821   540\n",
       "156    156  0.149254   822    67\n",
       "157    157  0.086022   823   186\n",
       "158    158  0.023881   829  1005\n",
       "159    159  0.008696   841   115\n",
       "160    160  0.407186   842   167\n",
       "161    161  0.663616   851   437\n",
       "162    162  0.326590   852   346\n",
       "163    163  0.092135   853   445\n",
       "164    164  0.069444   854   144\n",
       "165    165  0.121789   855  1051\n",
       "166    166  0.269553   856   716\n",
       "167    167  0.177437   861   913\n",
       "168    168  0.463992   862   972\n",
       "169    169  0.111888   869  1001\n",
       "170    170  0.365957   871   235\n",
       "171    171  0.015385   872   130\n",
       "172    172  0.121622   873   296\n",
       "173    173  0.000000   879   220\n",
       "174    174  0.140673   881   327\n",
       "175    175  0.188224   889  1036\n",
       "176    176  0.136452   900  1026\n",
       "177    177  0.193750   910   160\n",
       "178    178  0.183333   920   120\n",
       "179    179  0.427466   931  1034\n",
       "180    180  0.262515   932   819\n",
       "181    181  0.234694   941   294\n",
       "182    182  0.442287   949   927\n",
       "183    183  0.020408   951   147\n",
       "184    184  0.081250   952   160\n",
       "185    185  0.016410   960   975\n",
       "186    186  0.764423   980  1040\n",
       "187    187  0.000000   982    68\n",
       "188    188  0.000000   990    55\n",
       "\n",
       "[189 rows x 4 columns]"
      ]
     },
     "execution_count": 156,
     "metadata": {},
     "output_type": "execute_result"
    }
   ],
   "source": [
    "acc_per_class"
   ]
  },
  {
   "cell_type": "code",
   "execution_count": 160,
   "metadata": {},
   "outputs": [
    {
     "name": "stdout",
     "output_type": "stream",
     "text": [
      "                                            CompanyName   SICC  WordSum  \\\n",
      "314   BELL MOOR  PORTARLINGTON ROAD MANAGEMENT COMPANY   81100   196056   \n",
      "529                              MIG CONTRACT SERVICES   81100    34506   \n",
      "1803                          &  AVONMOR MEWS FREEHOLD   81100   526242   \n",
      "1807                     &  CLIFTON TERRACE MANAGEMENT   81100   432310   \n",
      "2004                     BUCKLAND CRESCENT RTM COMPANY   81100   147036   \n",
      "2065                 CLAREMONT ROAD MANAGEMENT COMPANY   81100    25850   \n",
      "2112                                 CROMWELL CRESCENT   81100    31513   \n",
      "2145                            DERHAM ROAD MANAGEMENT   81100   163534   \n",
      "2226           GOLDNEY ROAD CLIFTON MANAGEMENT COMPANY   81100   273429   \n",
      "2258                          HARECOURT ROAD ISLINGTON   81100    39834   \n",
      "2402                           MARKET STREET WOODSTOCK   81100    17634   \n",
      "2479              PARK ROAD IPSWICH MANAGEMENT COMPANY   81100    18023   \n",
      "2483                      PEMBERTON GARDENS MANAGEMENT   81100    44911   \n",
      "3037                              PROPERTY MAINTENANCE   81100     5684   \n",
      "3329                         10 BELMONT GROVE FREEHOLD   81100    64668   \n",
      "3332        10 BELSIZE PARK GARDENS MANAGEMENT COMPANY   81100   183871   \n",
      "3527                 10 FRIARS WALK MANAGEMENT COMPANY   81100    31458   \n",
      "3683                                  10 MORETON PLACE   81100    49244   \n",
      "3953                        10 VICTORIA SQUARE BRISTOL   81100    11981   \n",
      "4022      10/12 HORBURY CRESCENT RESIDENTS ASSOCIATION   81100   250038   \n",
      "\n",
      "     Industry                                         SICText  \n",
      "314       811  81100 - Combined facilities support activities  \n",
      "529       811  81100 - Combined facilities support activities  \n",
      "1803      811  81100 - Combined facilities support activities  \n",
      "1807      811  81100 - Combined facilities support activities  \n",
      "2004      811  81100 - Combined facilities support activities  \n",
      "2065      811  81100 - Combined facilities support activities  \n",
      "2112      811  81100 - Combined facilities support activities  \n",
      "2145      811  81100 - Combined facilities support activities  \n",
      "2226      811  81100 - Combined facilities support activities  \n",
      "2258      811  81100 - Combined facilities support activities  \n",
      "2402      811  81100 - Combined facilities support activities  \n",
      "2479      811  81100 - Combined facilities support activities  \n",
      "2483      811  81100 - Combined facilities support activities  \n",
      "3037      811  81100 - Combined facilities support activities  \n",
      "3329      811  81100 - Combined facilities support activities  \n",
      "3332      811  81100 - Combined facilities support activities  \n",
      "3527      811  81100 - Combined facilities support activities  \n",
      "3683      811  81100 - Combined facilities support activities  \n",
      "3953      811  81100 - Combined facilities support activities  \n",
      "4022      811  81100 - Combined facilities support activities  \n"
     ]
    }
   ],
   "source": [
    "print(wdf[wdf.Industry == '811'].head(20))"
   ]
  },
  {
   "cell_type": "markdown",
   "metadata": {
    "collapsed": true
   },
   "source": [
    "### Save Model"
   ]
  },
  {
   "cell_type": "code",
   "execution_count": 158,
   "metadata": {
    "collapsed": true
   },
   "outputs": [],
   "source": [
    "model.save('models/train%s-acc%s.h5' % (len(X_train), accuracy))"
   ]
  },
  {
   "cell_type": "markdown",
   "metadata": {
    "collapsed": true
   },
   "source": [
    "### Play with Model"
   ]
  },
  {
   "cell_type": "code",
   "execution_count": 161,
   "metadata": {},
   "outputs": [
    {
     "name": "stdout",
     "output_type": "stream",
     "text": [
      "10 BELSIZE PARK GARDENS MANAGEMENT COMPANY\n",
      "\t99.20%\t980\n",
      "\t48.18%\t559\n",
      "\t33.86%\t683\n",
      "\t14.84%\t811\n",
      "\t2.39%\t682\n",
      "\n"
     ]
    }
   ],
   "source": [
    "while True:\n",
    "    name = input()\n",
    "    if not name:\n",
    "        break\n",
    "    encoded_company_name = pad_sequences([custom_tokenize(name)], maxlen=maxlen, padding='post')\n",
    "    probas = sorted(enumerate(model.predict(encoded_company_name).flatten()), key=lambda x: x[1], reverse=True)[:5]\n",
    "    for i, p in probas:\n",
    "        print('\\t%0.2f%%\\t%s' % (p*100, industry_encoder.inverse_transform(i)[:100]))"
   ]
  },
  {
   "cell_type": "code",
   "execution_count": null,
   "metadata": {
    "collapsed": true
   },
   "outputs": [],
   "source": []
  }
 ],
 "metadata": {
  "kernelspec": {
   "display_name": "Python 3",
   "language": "python",
   "name": "python3"
  },
  "language_info": {
   "codemirror_mode": {
    "name": "ipython",
    "version": 3
   },
   "file_extension": ".py",
   "mimetype": "text/x-python",
   "name": "python",
   "nbconvert_exporter": "python",
   "pygments_lexer": "ipython3",
   "version": "3.6.3"
  }
 },
 "nbformat": 4,
 "nbformat_minor": 2
}
