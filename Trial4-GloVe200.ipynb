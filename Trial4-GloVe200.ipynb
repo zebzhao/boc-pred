{
 "cells": [
  {
   "cell_type": "markdown",
   "metadata": {},
   "source": [
    "### Imports & Display Options"
   ]
  },
  {
   "cell_type": "code",
   "execution_count": 1,
   "metadata": {
    "collapsed": true
   },
   "outputs": [],
   "source": [
    "%matplotlib inline\n",
    "import pandas as pd\n",
    "pd.options.display.max_columns = 999\n",
    "pd.options.display.max_rows = 100"
   ]
  },
  {
   "cell_type": "code",
   "execution_count": 2,
   "metadata": {
    "collapsed": true
   },
   "outputs": [],
   "source": [
    "from matplotlib import pylab"
   ]
  },
  {
   "cell_type": "code",
   "execution_count": 3,
   "metadata": {
    "collapsed": true
   },
   "outputs": [],
   "source": [
    "import numpy as np\n",
    "import feather\n",
    "from datetime import datetime\n",
    "import re"
   ]
  },
  {
   "cell_type": "code",
   "execution_count": 4,
   "metadata": {
    "collapsed": true
   },
   "outputs": [],
   "source": [
    "from sklearn.model_selection import train_test_split\n",
    "from sklearn.preprocessing import LabelEncoder\n",
    "from sklearn.metrics import confusion_matrix"
   ]
  },
  {
   "cell_type": "code",
   "execution_count": 5,
   "metadata": {},
   "outputs": [
    {
     "name": "stderr",
     "output_type": "stream",
     "text": [
      "Using TensorFlow backend.\n"
     ]
    }
   ],
   "source": [
    "from keras.utils import np_utils\n",
    "from keras.layers import LSTM, Convolution1D, Flatten, Dropout, Dense\n",
    "from keras.layers.embeddings import Embedding\n",
    "from keras.models import Sequential\n",
    "from keras.preprocessing.text import Tokenizer\n",
    "from keras.preprocessing.sequence import pad_sequences\n",
    "from keras.preprocessing.text import one_hot\n",
    "from keras.callbacks import TensorBoard"
   ]
  },
  {
   "cell_type": "markdown",
   "metadata": {},
   "source": [
    "### Import Data & Clean"
   ]
  },
  {
   "cell_type": "code",
   "execution_count": null,
   "metadata": {
    "collapsed": true
   },
   "outputs": [],
   "source": [
    "df = pd.read_csv('./BasicCompanyDataAsOneFile-2018-03-01.csv', nrows=1000000)\n",
    "df.head()"
   ]
  },
  {
   "cell_type": "code",
   "execution_count": null,
   "metadata": {
    "collapsed": true
   },
   "outputs": [],
   "source": [
    "def clean(df):\n",
    "    wdf = df[~df.CompanyName.str.contains('!')].dropna(subset=['Returns.LastMadeUpDate'])\n",
    "    wdf = wdf[['CompanyName', 'SICCode.SicText_1']]\n",
    "    wdf['CompanyName'] = wdf.CompanyName.str.replace('[\".,()\\']', ' ')\\\n",
    "        .str.replace('\\s+', ' ').str.strip()\\\n",
    "        .str.replace('LIMITED', 'LTD')\\\n",
    "        .str.replace('INCORPORATED', 'INC')\\\n",
    "        .str.replace('([A-Z])LTD', '\\\\1 LTD')\n",
    "    SICC = wdf['SICCode.SicText_1'].str.split(' - ').str[0]\n",
    "    wdf = wdf[(SICC != '99999') & SICC.str.isnumeric()]\n",
    "    wdf = wdf[wdf.CompanyName.str.count(' ') < 8]\n",
    "    return wdf"
   ]
  },
  {
   "cell_type": "code",
   "execution_count": null,
   "metadata": {
    "collapsed": true
   },
   "outputs": [],
   "source": [
    "wdf = clean(df)"
   ]
  },
  {
   "cell_type": "markdown",
   "metadata": {},
   "source": [
    "### Check for Class Imbalance"
   ]
  },
  {
   "cell_type": "code",
   "execution_count": null,
   "metadata": {
    "collapsed": true
   },
   "outputs": [],
   "source": [
    "def plot_frequency(df, top=50):\n",
    "    classes = df.groupby(['SICCode.SicText_1']).count().sort_values('CompanyName', ascending=False)\n",
    "    return classes.head(top).plot(kind='bar', figsize=(10, 3))"
   ]
  },
  {
   "cell_type": "code",
   "execution_count": null,
   "metadata": {
    "collapsed": true
   },
   "outputs": [],
   "source": [
    "plot_frequency(wdf)"
   ]
  },
  {
   "cell_type": "code",
   "execution_count": null,
   "metadata": {},
   "outputs": [],
   "source": [
    "min_class_count = 500\n",
    "print(' Classes below %s samples: %s/%s' % (min_class_count, (classes.CompanyName < min_class_count).sum(), len(classes.CompanyName)))"
   ]
  },
  {
   "cell_type": "code",
   "execution_count": null,
   "metadata": {
    "collapsed": true
   },
   "outputs": [],
   "source": [
    "classes[classes.CompanyName < min_class_count].sum()"
   ]
  },
  {
   "cell_type": "markdown",
   "metadata": {},
   "source": [
    "### Resample Data"
   ]
  },
  {
   "cell_type": "code",
   "execution_count": null,
   "metadata": {
    "collapsed": true
   },
   "outputs": [],
   "source": [
    "to_replace = classes[classes.CompanyName < min_class_count].index"
   ]
  },
  {
   "cell_type": "code",
   "execution_count": null,
   "metadata": {
    "collapsed": true
   },
   "outputs": [],
   "source": [
    "wdf['SICCode.SicText_1'] = wdf['SICCode.SicText_1'].replace(to_replace, '0 - Unknown')"
   ]
  },
  {
   "cell_type": "code",
   "execution_count": null,
   "metadata": {
    "collapsed": true
   },
   "outputs": [],
   "source": [
    "plot_frequency(wdf)"
   ]
  },
  {
   "cell_type": "code",
   "execution_count": null,
   "metadata": {
    "collapsed": true
   },
   "outputs": [],
   "source": [
    "def resample_class(df, y_value, freq=0.5):\n",
    "    np.random.seed(0)\n",
    "    criteria = np.random.rand(len(df)) < freq\n",
    "    return df[(df['SICCode.SicText_1'] != y_value) | criteria]"
   ]
  },
  {
   "cell_type": "code",
   "execution_count": null,
   "metadata": {
    "collapsed": true
   },
   "outputs": [],
   "source": [
    "classes.sort_values('CompanyName', ascending=False)"
   ]
  },
  {
   "cell_type": "code",
   "execution_count": null,
   "metadata": {
    "collapsed": true
   },
   "outputs": [],
   "source": [
    "wdf = resample_class(wdf, '0 - Unknown', freq=0.33)\n",
    "wdf = resample_class(wdf, '82990 - Other business support service activities n.e.c.', freq=0.66)"
   ]
  },
  {
   "cell_type": "code",
   "execution_count": null,
   "metadata": {},
   "outputs": [],
   "source": [
    "plot_frequency(wdf)"
   ]
  },
  {
   "cell_type": "markdown",
   "metadata": {},
   "source": [
    "### Pickle Working Set"
   ]
  },
  {
   "cell_type": "code",
   "execution_count": null,
   "metadata": {
    "collapsed": true
   },
   "outputs": [],
   "source": [
    "feather.write_dataframe(wdf, 'wdf.feather')"
   ]
  },
  {
   "cell_type": "code",
   "execution_count": 8,
   "metadata": {
    "collapsed": true
   },
   "outputs": [
    {
     "data": {
      "text/html": [
       "<div>\n",
       "<style>\n",
       "    .dataframe thead tr:only-child th {\n",
       "        text-align: right;\n",
       "    }\n",
       "\n",
       "    .dataframe thead th {\n",
       "        text-align: left;\n",
       "    }\n",
       "\n",
       "    .dataframe tbody tr th {\n",
       "        vertical-align: top;\n",
       "    }\n",
       "</style>\n",
       "<table border=\"1\" class=\"dataframe\">\n",
       "  <thead>\n",
       "    <tr style=\"text-align: right;\">\n",
       "      <th></th>\n",
       "      <th>CompanyName</th>\n",
       "      <th>SICCode.SicText_1</th>\n",
       "    </tr>\n",
       "  </thead>\n",
       "  <tbody>\n",
       "    <tr>\n",
       "      <th>0</th>\n",
       "      <td>1 C O LTD</td>\n",
       "      <td>70229 - Management consultancy activities othe...</td>\n",
       "    </tr>\n",
       "    <tr>\n",
       "      <th>1</th>\n",
       "      <td>243 RUGBY ROAD MANAGEMENT COMPANY LTD</td>\n",
       "      <td>98000 - Residents property management</td>\n",
       "    </tr>\n",
       "    <tr>\n",
       "      <th>2</th>\n",
       "      <td>309 WEST END LANE MANAGEMENT LTD</td>\n",
       "      <td>98000 - Residents property management</td>\n",
       "    </tr>\n",
       "    <tr>\n",
       "      <th>3</th>\n",
       "      <td>A TASTE OF TUSCANY LTD</td>\n",
       "      <td>56101 - Licensed restaurants</td>\n",
       "    </tr>\n",
       "    <tr>\n",
       "      <th>4</th>\n",
       "      <td>A CERAMICS LTD</td>\n",
       "      <td>86230 - Dental practice activities</td>\n",
       "    </tr>\n",
       "  </tbody>\n",
       "</table>\n",
       "</div>"
      ],
      "text/plain": [
       "                             CompanyName  \\\n",
       "0                              1 C O LTD   \n",
       "1  243 RUGBY ROAD MANAGEMENT COMPANY LTD   \n",
       "2       309 WEST END LANE MANAGEMENT LTD   \n",
       "3                 A TASTE OF TUSCANY LTD   \n",
       "4                         A CERAMICS LTD   \n",
       "\n",
       "                                   SICCode.SicText_1  \n",
       "0  70229 - Management consultancy activities othe...  \n",
       "1              98000 - Residents property management  \n",
       "2              98000 - Residents property management  \n",
       "3                       56101 - Licensed restaurants  \n",
       "4                 86230 - Dental practice activities  "
      ]
     },
     "execution_count": 8,
     "metadata": {},
     "output_type": "execute_result"
    }
   ],
   "source": [
    "wdf = feather.read_dataframe('wdf.feather')\n",
    "wdf.head()"
   ]
  },
  {
   "cell_type": "markdown",
   "metadata": {},
   "source": [
    "### Label Encoding"
   ]
  },
  {
   "cell_type": "code",
   "execution_count": 9,
   "metadata": {
    "scrolled": true
   },
   "outputs": [
    {
     "data": {
      "text/plain": [
       "(546800, 183)"
      ]
     },
     "execution_count": 9,
     "metadata": {},
     "output_type": "execute_result"
    }
   ],
   "source": [
    "encoder = LabelEncoder()\n",
    "encoder.fit(wdf['SICCode.SicText_1'])\n",
    "encoded_Y = encoder.transform(wdf['SICCode.SicText_1'])\n",
    "labels = np_utils.to_categorical(encoded_Y)\n",
    "labels.shape"
   ]
  },
  {
   "cell_type": "code",
   "execution_count": 10,
   "metadata": {
    "collapsed": true
   },
   "outputs": [],
   "source": [
    "num_classes = labels.shape[1]"
   ]
  },
  {
   "cell_type": "markdown",
   "metadata": {},
   "source": [
    "### Text Encoding"
   ]
  },
  {
   "cell_type": "code",
   "execution_count": 11,
   "metadata": {
    "collapsed": true
   },
   "outputs": [],
   "source": [
    "def load_glove_embeddings(fp, embedding_dim, include_empty_char=True):\n",
    "    \"\"\"\n",
    "    Loads pre-trained word embeddings (GloVe embeddings)\n",
    "        Inputs: - fp: filepath of pre-trained glove embeddings\n",
    "                - embedding_dim: dimension of each vector embedding\n",
    "                - generate_matrix: whether to generate an embedding matrix\n",
    "        Outputs:\n",
    "                - word2coefs: Dictionary. Word to its corresponding coefficients\n",
    "                - word2index: Dictionary. Word to word-index\n",
    "                - embedding_matrix: Embedding matrix for Keras Embedding layer\n",
    "    \"\"\"\n",
    "    # First, build the \"word2coefs\" and \"word2index\"\n",
    "    word2coefs = {} # word to its corresponding coefficients\n",
    "    word2index = {} # word to word-index\n",
    "    with open(fp) as f:\n",
    "        for idx, line in enumerate(f):\n",
    "            try:\n",
    "                data = [x.strip().lower() for x in line.split()]\n",
    "                word = data[0]\n",
    "                coefs = np.asarray(data[1:embedding_dim+1], dtype='float32')\n",
    "                word2coefs[word] = coefs\n",
    "                if word not in word2index:\n",
    "                    word2index[word] = len(word2index)\n",
    "            except Exception as e:\n",
    "                print('Exception occurred in `load_glove_embeddings`:', e)\n",
    "                continue\n",
    "        # End of for loop.\n",
    "    # End of with open\n",
    "    if include_empty_char:\n",
    "        word2index[''] = len(word2index)\n",
    "    # Second, build the \"embedding_matrix\"\n",
    "    # Words not found in embedding index will be all-zeros. Hence, the \"+1\".\n",
    "    vocab_size = len(word2coefs)+1 if include_empty_char else len(word2coefs)\n",
    "    embedding_matrix = np.zeros((vocab_size, embedding_dim))\n",
    "    for word, idx in word2index.items():\n",
    "        embedding_vec = word2coefs.get(word)\n",
    "        if embedding_vec is not None and embedding_vec.shape[0]==embedding_dim:\n",
    "            embedding_matrix[idx] = np.asarray(embedding_vec)\n",
    "    # return word2coefs, word2index, embedding_matrix\n",
    "    return word2index, np.asarray(embedding_matrix)"
   ]
  },
  {
   "cell_type": "code",
   "execution_count": 26,
   "metadata": {},
   "outputs": [],
   "source": [
    "word2index, embedding_matrix = load_glove_embeddings('glove.6B/glove.6B.200d.txt', embedding_dim=200)"
   ]
  },
  {
   "cell_type": "code",
   "execution_count": 15,
   "metadata": {},
   "outputs": [],
   "source": [
    "def custom_tokenize(d):\n",
    "    return [word2index.get(re.sub(r'[^\\w\\s]','',w).lower(), 0) for w in d.split()]"
   ]
  },
  {
   "cell_type": "code",
   "execution_count": 27,
   "metadata": {},
   "outputs": [
    {
     "name": "stdout",
     "output_type": "stream",
     "text": [
      "[37, 14, 29, 3292]\n",
      "[102, 14, 37, 29, 3292]\n"
     ]
    },
    {
     "data": {
      "text/plain": [
       "(400001, 200)"
      ]
     },
     "execution_count": 27,
     "metadata": {},
     "output_type": "execute_result"
    }
   ],
   "source": [
    "vocab_size, embedding_dim = embedding_matrix.shape\n",
    "maxlen = 10\n",
    "print(custom_tokenize('This is an apple'))\n",
    "print(custom_tokenize('what is this, an apple?'))\n",
    "vocab_size, embedding_dim"
   ]
  },
  {
   "cell_type": "code",
   "execution_count": 28,
   "metadata": {},
   "outputs": [],
   "source": [
    "encoded_company_names = [custom_tokenize(d) for d in wdf.CompanyName]\n",
    "encoded_company_names = [d for d in encoded_company_names]"
   ]
  },
  {
   "cell_type": "code",
   "execution_count": 29,
   "metadata": {
    "collapsed": true
   },
   "outputs": [],
   "source": [
    "encoded_company_names = pad_sequences(encoded_company_names, maxlen=maxlen, padding='post')"
   ]
  },
  {
   "cell_type": "code",
   "execution_count": 30,
   "metadata": {},
   "outputs": [
    {
     "data": {
      "text/plain": [
       "(546800, 546800)"
      ]
     },
     "execution_count": 30,
     "metadata": {},
     "output_type": "execute_result"
    }
   ],
   "source": [
    "# Sanity check\n",
    "len(encoded_company_names), len(labels)"
   ]
  },
  {
   "cell_type": "markdown",
   "metadata": {},
   "source": [
    "### Train/Test Split"
   ]
  },
  {
   "cell_type": "code",
   "execution_count": 31,
   "metadata": {},
   "outputs": [
    {
     "data": {
      "text/plain": [
       "(410100, 183)"
      ]
     },
     "execution_count": 31,
     "metadata": {},
     "output_type": "execute_result"
    }
   ],
   "source": [
    "X_train, X_test, y_train, y_test = train_test_split(\n",
    "    encoded_company_names, labels, test_size=0.25, random_state=42)\n",
    "y_train.shape"
   ]
  },
  {
   "cell_type": "markdown",
   "metadata": {},
   "source": [
    "### Model"
   ]
  },
  {
   "cell_type": "code",
   "execution_count": 32,
   "metadata": {},
   "outputs": [
    {
     "name": "stdout",
     "output_type": "stream",
     "text": [
      "_________________________________________________________________\n",
      "Layer (type)                 Output Shape              Param #   \n",
      "=================================================================\n",
      "embedding_2 (Embedding)      (None, 10, 200)           80000200  \n",
      "_________________________________________________________________\n",
      "flatten_2 (Flatten)          (None, 2000)              0         \n",
      "_________________________________________________________________\n",
      "dense_2 (Dense)              (None, 183)               366183    \n",
      "=================================================================\n",
      "Total params: 80,366,383\n",
      "Trainable params: 366,183\n",
      "Non-trainable params: 80,000,200\n",
      "_________________________________________________________________\n"
     ]
    }
   ],
   "source": [
    "embedding_layer = Embedding(input_dim=vocab_size, output_dim=embedding_dim, input_length=maxlen,\n",
    "                            weights=[embedding_matrix], trainable=False)\n",
    "model = Sequential()\n",
    "model.add(embedding_layer)\n",
    "model.add(Flatten())\n",
    "model.add(Dense(num_classes, activation='sigmoid'))\n",
    "model.compile(optimizer='adam', loss='categorical_crossentropy', metrics=['categorical_accuracy'])\n",
    "model.summary()"
   ]
  },
  {
   "cell_type": "markdown",
   "metadata": {},
   "source": [
    "### Hook up Tensorboard"
   ]
  },
  {
   "cell_type": "markdown",
   "metadata": {},
   "source": [
    "`tensorboard --logdir='tmp'`"
   ]
  },
  {
   "cell_type": "code",
   "execution_count": 33,
   "metadata": {},
   "outputs": [
    {
     "data": {
      "text/plain": [
       "'tmp/GloVe200-flatten-dense183-2018-03-21 17-05-19'"
      ]
     },
     "execution_count": 33,
     "metadata": {},
     "output_type": "execute_result"
    }
   ],
   "source": [
    "date_suffix = str(datetime.now()).replace(':', '-').split('.')[0]\n",
    "temp_folder = 'tmp/GloVe%s-flatten-dense%s-%s' % (\n",
    "    embedding_dim, num_classes, date_suffix)\n",
    "temp_folder"
   ]
  },
  {
   "cell_type": "markdown",
   "metadata": {},
   "source": [
    "### Train Model"
   ]
  },
  {
   "cell_type": "code",
   "execution_count": 34,
   "metadata": {},
   "outputs": [
    {
     "name": "stdout",
     "output_type": "stream",
     "text": [
      "Train on 410100 samples, validate on 136700 samples\n",
      "Epoch 1/8\n",
      "410100/410100 [==============================] - 55s 133us/step - loss: 3.5803 - categorical_accuracy: 0.2207 - val_loss: 3.5008 - val_categorical_accuracy: 0.2344\n",
      "Epoch 2/8\n",
      "410100/410100 [==============================] - 55s 135us/step - loss: 3.4047 - categorical_accuracy: 0.2449 - val_loss: 3.4583 - val_categorical_accuracy: 0.2448\n",
      "Epoch 3/8\n",
      "410100/410100 [==============================] - 56s 137us/step - loss: 3.3708 - categorical_accuracy: 0.2473 - val_loss: 3.5143 - val_categorical_accuracy: 0.2422\n",
      "Epoch 4/8\n",
      "410100/410100 [==============================] - 55s 135us/step - loss: 3.3522 - categorical_accuracy: 0.2494 - val_loss: 3.4851 - val_categorical_accuracy: 0.2428\n",
      "Epoch 5/8\n",
      "410100/410100 [==============================] - 55s 135us/step - loss: 3.3404 - categorical_accuracy: 0.2505 - val_loss: 3.5225 - val_categorical_accuracy: 0.2386\n",
      "Epoch 6/8\n",
      "410100/410100 [==============================] - 56s 136us/step - loss: 3.3318 - categorical_accuracy: 0.2518 - val_loss: 3.5163 - val_categorical_accuracy: 0.2485\n",
      "Epoch 7/8\n",
      "410100/410100 [==============================] - 57s 138us/step - loss: 3.3259 - categorical_accuracy: 0.2523 - val_loss: 3.5192 - val_categorical_accuracy: 0.2420\n",
      "Epoch 8/8\n",
      "410100/410100 [==============================] - 56s 136us/step - loss: 3.3205 - categorical_accuracy: 0.2528 - val_loss: 3.5156 - val_categorical_accuracy: 0.2409\n"
     ]
    },
    {
     "data": {
      "text/plain": [
       "<keras.callbacks.History at 0x10d324dd8>"
      ]
     },
     "execution_count": 34,
     "metadata": {},
     "output_type": "execute_result"
    }
   ],
   "source": [
    "model.fit(\n",
    "    X_train, y_train, epochs=8,\n",
    "    validation_data=(X_test, y_test),\n",
    "    callbacks=[TensorBoard(log_dir=temp_folder)])"
   ]
  },
  {
   "cell_type": "markdown",
   "metadata": {},
   "source": [
    "### Testing/Validation"
   ]
  },
  {
   "cell_type": "code",
   "execution_count": 35,
   "metadata": {},
   "outputs": [
    {
     "name": "stdout",
     "output_type": "stream",
     "text": [
      "136700/136700 [==============================] - 6s 41us/step\n"
     ]
    },
    {
     "data": {
      "text/plain": [
       "0.2409363569887171"
      ]
     },
     "execution_count": 35,
     "metadata": {},
     "output_type": "execute_result"
    }
   ],
   "source": [
    "loss, accuracy = model.evaluate(X_test, y_test)\n",
    "accuracy"
   ]
  },
  {
   "cell_type": "code",
   "execution_count": 36,
   "metadata": {},
   "outputs": [
    {
     "data": {
      "text/plain": [
       "((136700,), (136700,))"
      ]
     },
     "execution_count": 36,
     "metadata": {},
     "output_type": "execute_result"
    }
   ],
   "source": [
    "y_labels = np.argmax(y_test, axis=1)\n",
    "y_pred = model.predict_classes(X_test)\n",
    "y_labels.shape, y_pred.shape"
   ]
  },
  {
   "cell_type": "code",
   "execution_count": 37,
   "metadata": {},
   "outputs": [
    {
     "name": "stdout",
     "output_type": "stream",
     "text": [
      "Verifying accuracy 0.240936356986\n"
     ]
    }
   ],
   "source": [
    "print('Verifying accuracy', (y_labels==y_pred).sum()/len(y_pred))"
   ]
  },
  {
   "cell_type": "code",
   "execution_count": 38,
   "metadata": {
    "collapsed": true
   },
   "outputs": [],
   "source": [
    "def plot_confusion_matrix(cm, classes):\n",
    "    pylab.clf()\n",
    "    pylab.matshow(cm, fignum=False, cmap='Blues', vmin=0, vmax=0.6)\n",
    "    pylab.colorbar()\n",
    "    pylab.grid(False)\n",
    "    pylab.xlabel('Predicted')\n",
    "    pylab.ylabel('Actual')\n",
    "    pylab.show()"
   ]
  },
  {
   "cell_type": "code",
   "execution_count": 39,
   "metadata": {},
   "outputs": [
    {
     "data": {
      "image/png": "[encoded data removed]",
      "text/plain": [
       "<matplotlib.figure.Figure at 0x111c90f60>"
      ]
     },
     "metadata": {},
     "output_type": "display_data"
    }
   ],
   "source": [
    "plot_confusion_matrix(confusion_matrix(y_pred, y_labels), [])"
   ]
  },
  {
   "cell_type": "markdown",
   "metadata": {
    "collapsed": true
   },
   "source": [
    "### Save Model"
   ]
  },
  {
   "cell_type": "code",
   "execution_count": 40,
   "metadata": {
    "collapsed": true
   },
   "outputs": [],
   "source": [
    "model.save('models/train%s-acc%s.h5' % (len(X_train), accuracy))"
   ]
  },
  {
   "cell_type": "markdown",
   "metadata": {
    "collapsed": true
   },
   "source": [
    "### Play with Model"
   ]
  },
  {
   "cell_type": "code",
   "execution_count": null,
   "metadata": {
    "scrolled": false
   },
   "outputs": [
    {
     "name": "stdout",
     "output_type": "stream",
     "text": [
      "Bob's Haircut\n",
      "\t98.53%\t96020 - Hairdressing and other beauty treatment\n",
      "\t82.56%\t85590 - Other education n.e.c.\n",
      "\t53.49%\t90030 - Artistic creation\n",
      "\t53.35%\t96040 - Physical well-being activities\n",
      "\t49.59%\t62020 - Information technology consultancy activities\n",
      "Bob's Salon\n",
      "\t98.60%\t96020 - Hairdressing and other beauty treatment\n",
      "\t44.99%\t90040 - Operation of arts facilities\n",
      "\t40.38%\t0 - Unknown\n",
      "\t33.40%\t90030 - Artistic creation\n",
      "\t23.95%\t96090 - Other service activities n.e.c.\n",
      "Bob's Pizza\n",
      "\t99.89%\t56103 - Take-away food shops and mobile food stands\n",
      "\t86.73%\t56290 - Other food services\n",
      "\t81.66%\t0 - Unknown\n",
      "\t72.55%\t56101 - Licensed restaurants\n",
      "\t69.86%\t56102 - Unlicensed restaurants and cafes\n",
      "Bob's Auto\n",
      "\t91.52%\t45200 - Maintenance and repair of motor vehicles\n",
      "\t73.31%\t0 - Unknown\n",
      "\t41.37%\t82990 - Other business support service activities n.e.c.\n",
      "\t31.94%\t96090 - Other service activities n.e.c.\n",
      "\t24.53%\t45320 - Retail trade of motor vehicle parts and accessories\n",
      "Bob's Market\n",
      "\t74.81%\t0 - Unknown\n",
      "\t63.71%\t62020 - Information technology consultancy activities\n",
      "\t51.42%\t94990 - Activities of other membership organizations n.e.c.\n",
      "\t47.67%\t82990 - Other business support service activities n.e.c.\n",
      "\t41.22%\t90040 - Operation of arts facilities\n",
      "Bob's Kebabs\n",
      "\t96.93%\t56103 - Take-away food shops and mobile food stands\n",
      "\t79.00%\t85100 - Pre-primary education\n",
      "\t72.92%\t0 - Unknown\n",
      "\t69.37%\t43320 - Joinery installation\n",
      "\t61.92%\t88990 - Other social work activities without accommodation n.e.c.\n",
      "Bob's Fries\n",
      "\t94.07%\t56103 - Take-away food shops and mobile food stands\n",
      "\t92.02%\t0 - Unknown\n",
      "\t76.47%\t56290 - Other food services\n",
      "\t53.52%\t85590 - Other education n.e.c.\n",
      "\t52.13%\t56102 - Unlicensed restaurants and cafes\n",
      "Microsoft\n",
      "\t94.32%\t62020 - Information technology consultancy activities\n",
      "\t76.01%\t82990 - Other business support service activities n.e.c.\n",
      "\t74.83%\t62090 - Other information technology service activities\n",
      "\t74.08%\t85590 - Other education n.e.c.\n",
      "\t64.35%\t62012 - Business and domestic software development\n",
      "Apple\n",
      "\t89.78%\t62020 - Information technology consultancy activities\n",
      "\t78.08%\t82990 - Other business support service activities n.e.c.\n",
      "\t76.70%\t85590 - Other education n.e.c.\n",
      "\t64.34%\t0 - Unknown\n",
      "\t62.91%\t62090 - Other information technology service activities\n",
      "Google\n",
      "\t92.81%\t62020 - Information technology consultancy activities\n",
      "\t86.84%\t62012 - Business and domestic software development\n",
      "\t81.62%\t62090 - Other information technology service activities\n",
      "\t80.12%\t85590 - Other education n.e.c.\n",
      "\t79.89%\t82990 - Other business support service activities n.e.c.\n",
      "Shopper's Drugmart\n",
      "\t94.40%\t94990 - Activities of other membership organizations n.e.c.\n",
      "\t79.33%\t82990 - Other business support service activities n.e.c.\n",
      "\t70.46%\t88990 - Other social work activities without accommodation n.e.c.\n",
      "\t69.08%\t0 - Unknown\n",
      "\t61.66%\t85590 - Other education n.e.c.\n",
      "St Paul's\n",
      "\t80.37%\t85590 - Other education n.e.c.\n",
      "\t50.89%\t0 - Unknown\n",
      "\t36.54%\t47730 - Dispensing chemist in specialised stores\n",
      "\t32.76%\t62020 - Information technology consultancy activities\n",
      "\t32.44%\t86900 - Other human health activities\n",
      "Church of Jesus\n",
      "\t100.00%\t94910 - Activities of religious organizations\n",
      "\t86.30%\t88990 - Other social work activities without accommodation n.e.c.\n",
      "\t75.80%\t85590 - Other education n.e.c.\n",
      "\t45.24%\t59111 - Motion picture production activities\n",
      "\t22.68%\t73110 - Advertising agencies\n",
      "Bob's Bistro\n",
      "\t88.89%\t56102 - Unlicensed restaurants and cafes\n",
      "\t85.57%\t56101 - Licensed restaurants\n",
      "\t84.17%\t56103 - Take-away food shops and mobile food stands\n",
      "\t82.38%\t0 - Unknown\n",
      "\t76.49%\t90040 - Operation of arts facilities\n",
      "Bob's Cafe\n",
      "\t97.97%\t56102 - Unlicensed restaurants and cafes\n",
      "\t74.86%\t90040 - Operation of arts facilities\n",
      "\t68.63%\t56103 - Take-away food shops and mobile food stands\n",
      "\t66.13%\t0 - Unknown\n",
      "\t59.78%\t56101 - Licensed restaurants\n",
      "Thai Express\n",
      "\t99.40%\t56103 - Take-away food shops and mobile food stands\n",
      "\t99.35%\t94910 - Activities of religious organizations\n",
      "\t99.10%\t94990 - Activities of other membership organizations n.e.c.\n",
      "\t90.54%\t56101 - Licensed restaurants\n",
      "\t88.64%\t0 - Unknown\n",
      "Bob's Primary\n",
      "\t96.81%\t85100 - Pre-primary education\n",
      "\t94.74%\t85590 - Other education n.e.c.\n",
      "\t78.35%\t85200 - Primary education\n",
      "\t76.52%\t0 - Unknown\n",
      "\t65.08%\t90040 - Operation of arts facilities\n",
      "Bob's College\n",
      "\t99.61%\t85590 - Other education n.e.c.\n",
      "\t99.41%\t85310 - General secondary education\n",
      "\t96.69%\t85200 - Primary education\n",
      "\t89.07%\t85100 - Pre-primary education\n",
      "\t64.79%\t85520 - Cultural education\n",
      "Harvard College\n",
      "\t99.96%\t85590 - Other education n.e.c.\n",
      "\t99.31%\t85310 - General secondary education\n",
      "\t98.77%\t85600 - Educational support services\n",
      "\t97.55%\t85200 - Primary education\n",
      "\t93.65%\t58110 - Book publishing\n",
      "Bob's Repairs\n",
      "\t69.78%\t0 - Unknown\n",
      "\t40.13%\t96090 - Other service activities n.e.c.\n",
      "\t25.56%\t82990 - Other business support service activities n.e.c.\n",
      "\t25.24%\t42990 - Construction of other civil engineering projects n.e.c.\n",
      "\t21.81%\t43320 - Joinery installation\n",
      "Bob's Construction Company\n",
      "\t55.64%\t41100 - Development of building projects\n",
      "\t47.15%\t42990 - Construction of other civil engineering projects n.e.c.\n",
      "\t44.14%\t41201 - Construction of commercial buildings\n",
      "\t32.58%\t41202 - Construction of domestic buildings\n",
      "\t31.68%\t0 - Unknown\n",
      "B & B Engineering Services\n",
      "\t66.18%\t0 - Unknown\n",
      "\t46.06%\t25990 - Manufacture of other fabricated metal products n.e.c.\n",
      "\t45.70%\t71111 - Architectural activities\n",
      "\t42.23%\t4521 - Gen construction & civil engineer\n",
      "\t34.03%\t33200 - Installation of industrial machinery and equipment\n",
      "P Medical\n",
      "\t95.38%\t86101 - Hospital activities\n",
      "\t90.93%\t86900 - Other human health activities\n",
      "\t90.20%\t86210 - General medical practice activities\n",
      "\t75.18%\t88990 - Other social work activities without accommodation n.e.c.\n",
      "\t71.37%\t86220 - Specialists medical practice activities\n",
      "P Hospital\n",
      "\t99.85%\t86101 - Hospital activities\n",
      "\t98.74%\t86210 - General medical practice activities\n",
      "\t98.17%\t86900 - Other human health activities\n",
      "\t93.95%\t88990 - Other social work activities without accommodation n.e.c.\n",
      "\t90.76%\t86220 - Specialists medical practice activities\n",
      "K Barbeque\n",
      "\t87.00%\t88990 - Other social work activities without accommodation n.e.c.\n",
      "\t85.17%\t56103 - Take-away food shops and mobile food stands\n",
      "\t74.25%\t0 - Unknown\n",
      "\t66.87%\t56102 - Unlicensed restaurants and cafes\n",
      "\t63.49%\t62020 - Information technology consultancy activities\n",
      "P Bike Shop\n",
      "\t29.87%\t47640 - Retail sale of sports goods, fishing gear, camping goods, boats and bicycles\n",
      "\t12.47%\t0 - Unknown\n",
      "\t6.35%\t96090 - Other service activities n.e.c.\n",
      "\t1.48%\t47190 - Other retail sale in non-specialised stores\n",
      "\t1.36%\t82990 - Other business support service activities n.e.c.\n",
      "Duke's Cycle\n",
      "\t84.58%\t35110 - Production of electricity\n",
      "\t81.84%\t0 - Unknown\n",
      "\t68.71%\t94990 - Activities of other membership organizations n.e.c.\n",
      "\t66.37%\t96090 - Other service activities n.e.c.\n",
      "\t63.51%\t93290 - Other amusement and recreation activities n.e.c.\n"
     ]
    }
   ],
   "source": [
    "while True:\n",
    "    name = input()\n",
    "    if not name:\n",
    "        break\n",
    "    encoded_company_name = pad_sequences([custom_tokenize(name)], maxlen=maxlen, padding='post')\n",
    "    probas = sorted(enumerate(model.predict(encoded_company_name).flatten()), key=lambda x: x[1], reverse=True)[:5]\n",
    "    for i, p in probas:\n",
    "        print('\\t%0.2f%%\\t%s' % (p*100, encoder.inverse_transform(i)[:100]))"
   ]
  },
  {
   "cell_type": "code",
   "execution_count": null,
   "metadata": {
    "collapsed": true
   },
   "outputs": [],
   "source": []
  }
 ],
 "metadata": {
  "kernelspec": {
   "display_name": "Python 3",
   "language": "python",
   "name": "python3"
  },
  "language_info": {
   "codemirror_mode": {
    "name": "ipython",
    "version": 3
   },
   "file_extension": ".py",
   "mimetype": "text/x-python",
   "name": "python",
   "nbconvert_exporter": "python",
   "pygments_lexer": "ipython3",
   "version": "3.6.3"
  }
 },
 "nbformat": 4,
 "nbformat_minor": 2
}
