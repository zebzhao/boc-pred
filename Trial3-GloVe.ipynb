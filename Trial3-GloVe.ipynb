{
 "cells": [
  {
   "cell_type": "markdown",
   "metadata": {},
   "source": [
    "### Imports & Display Options"
   ]
  },
  {
   "cell_type": "code",
   "execution_count": 2,
   "metadata": {
    "collapsed": true
   },
   "outputs": [],
   "source": [
    "%matplotlib inline\n",
    "import pandas as pd\n",
    "pd.options.display.max_columns = 999\n",
    "pd.options.display.max_rows = 100"
   ]
  },
  {
   "cell_type": "code",
   "execution_count": 3,
   "metadata": {
    "collapsed": true
   },
   "outputs": [],
   "source": [
    "from matplotlib import pylab"
   ]
  },
  {
   "cell_type": "code",
   "execution_count": 15,
   "metadata": {
    "collapsed": true
   },
   "outputs": [],
   "source": [
    "import numpy as np\n",
    "import feather\n",
    "from datetime import datetime\n",
    "import re"
   ]
  },
  {
   "cell_type": "code",
   "execution_count": 5,
   "metadata": {
    "collapsed": true
   },
   "outputs": [],
   "source": [
    "from sklearn.model_selection import train_test_split\n",
    "from sklearn.preprocessing import LabelEncoder\n",
    "from sklearn.metrics import confusion_matrix"
   ]
  },
  {
   "cell_type": "code",
   "execution_count": 1,
   "metadata": {},
   "outputs": [
    {
     "name": "stderr",
     "output_type": "stream",
     "text": [
      "Using TensorFlow backend.\n"
     ]
    }
   ],
   "source": [
    "from keras.utils import np_utils\n",
    "from keras.layers import LSTM, Convolution1D, Flatten, Dropout, Dense\n",
    "from keras.layers.embeddings import Embedding\n",
    "from keras.models import Sequential\n",
    "from keras.preprocessing.text import Tokenizer\n",
    "from keras.preprocessing.sequence import pad_sequences\n",
    "from keras.preprocessing.text import one_hot\n",
    "from keras.callbacks import TensorBoard"
   ]
  },
  {
   "cell_type": "markdown",
   "metadata": {},
   "source": [
    "### Import Data & Clean"
   ]
  },
  {
   "cell_type": "code",
   "execution_count": 3,
   "metadata": {
    "collapsed": true
   },
   "outputs": [
    {
     "name": "stderr",
     "output_type": "stream",
     "text": [
      "/Users/zeb.zhao/anaconda3/lib/python3.6/site-packages/IPython/core/interactiveshell.py:2698: DtypeWarning: Columns (41,42,43,44,45,46,47,48,49,50,51,52) have mixed types. Specify dtype option on import or set low_memory=False.\n",
      "  interactivity=interactivity, compiler=compiler, result=result)\n"
     ]
    },
    {
     "data": {
      "text/html": [
       "<div>\n",
       "<style>\n",
       "    .dataframe thead tr:only-child th {\n",
       "        text-align: right;\n",
       "    }\n",
       "\n",
       "    .dataframe thead th {\n",
       "        text-align: left;\n",
       "    }\n",
       "\n",
       "    .dataframe tbody tr th {\n",
       "        vertical-align: top;\n",
       "    }\n",
       "</style>\n",
       "<table border=\"1\" class=\"dataframe\">\n",
       "  <thead>\n",
       "    <tr style=\"text-align: right;\">\n",
       "      <th></th>\n",
       "      <th>CompanyName</th>\n",
       "      <th>CompanyNumber</th>\n",
       "      <th>RegAddress.CareOf</th>\n",
       "      <th>RegAddress.POBox</th>\n",
       "      <th>RegAddress.AddressLine1</th>\n",
       "      <th>RegAddress.AddressLine2</th>\n",
       "      <th>RegAddress.PostTown</th>\n",
       "      <th>RegAddress.County</th>\n",
       "      <th>RegAddress.Country</th>\n",
       "      <th>RegAddress.PostCode</th>\n",
       "      <th>CompanyCategory</th>\n",
       "      <th>CompanyStatus</th>\n",
       "      <th>CountryOfOrigin</th>\n",
       "      <th>DissolutionDate</th>\n",
       "      <th>IncorporationDate</th>\n",
       "      <th>Accounts.AccountRefDay</th>\n",
       "      <th>Accounts.AccountRefMonth</th>\n",
       "      <th>Accounts.NextDueDate</th>\n",
       "      <th>Accounts.LastMadeUpDate</th>\n",
       "      <th>Accounts.AccountCategory</th>\n",
       "      <th>Returns.NextDueDate</th>\n",
       "      <th>Returns.LastMadeUpDate</th>\n",
       "      <th>Mortgages.NumMortCharges</th>\n",
       "      <th>Mortgages.NumMortOutstanding</th>\n",
       "      <th>Mortgages.NumMortPartSatisfied</th>\n",
       "      <th>Mortgages.NumMortSatisfied</th>\n",
       "      <th>SICCode.SicText_1</th>\n",
       "      <th>SICCode.SicText_2</th>\n",
       "      <th>SICCode.SicText_3</th>\n",
       "      <th>SICCode.SicText_4</th>\n",
       "      <th>LimitedPartnerships.NumGenPartners</th>\n",
       "      <th>LimitedPartnerships.NumLimPartners</th>\n",
       "      <th>URI</th>\n",
       "      <th>PreviousName_1.CONDATE</th>\n",
       "      <th>PreviousName_1.CompanyName</th>\n",
       "      <th>PreviousName_2.CONDATE</th>\n",
       "      <th>PreviousName_2.CompanyName</th>\n",
       "      <th>PreviousName_3.CONDATE</th>\n",
       "      <th>PreviousName_3.CompanyName</th>\n",
       "      <th>PreviousName_4.CONDATE</th>\n",
       "      <th>PreviousName_4.CompanyName</th>\n",
       "      <th>PreviousName_5.CONDATE</th>\n",
       "      <th>PreviousName_5.CompanyName</th>\n",
       "      <th>PreviousName_6.CONDATE</th>\n",
       "      <th>PreviousName_6.CompanyName</th>\n",
       "      <th>PreviousName_7.CONDATE</th>\n",
       "      <th>PreviousName_7.CompanyName</th>\n",
       "      <th>PreviousName_8.CONDATE</th>\n",
       "      <th>PreviousName_8.CompanyName</th>\n",
       "      <th>PreviousName_9.CONDATE</th>\n",
       "      <th>PreviousName_9.CompanyName</th>\n",
       "      <th>PreviousName_10.CONDATE</th>\n",
       "      <th>PreviousName_10.CompanyName</th>\n",
       "      <th>ConfStmtNextDueDate</th>\n",
       "      <th>ConfStmtLastMadeUpDate</th>\n",
       "    </tr>\n",
       "  </thead>\n",
       "  <tbody>\n",
       "    <tr>\n",
       "      <th>0</th>\n",
       "      <td>! LTD</td>\n",
       "      <td>08209948</td>\n",
       "      <td>NaN</td>\n",
       "      <td>NaN</td>\n",
       "      <td>METROHOUSE 57 PEPPER ROAD</td>\n",
       "      <td>HUNSLET</td>\n",
       "      <td>LEEDS</td>\n",
       "      <td>YORKSHIRE</td>\n",
       "      <td>NaN</td>\n",
       "      <td>LS10 2RU</td>\n",
       "      <td>Private Limited Company</td>\n",
       "      <td>Active</td>\n",
       "      <td>United Kingdom</td>\n",
       "      <td>NaN</td>\n",
       "      <td>11/09/2012</td>\n",
       "      <td>30.0</td>\n",
       "      <td>9.0</td>\n",
       "      <td>30/06/2018</td>\n",
       "      <td>30/09/2016</td>\n",
       "      <td>DORMANT</td>\n",
       "      <td>09/10/2016</td>\n",
       "      <td>11/09/2015</td>\n",
       "      <td>0</td>\n",
       "      <td>0</td>\n",
       "      <td>0</td>\n",
       "      <td>0</td>\n",
       "      <td>99999 - Dormant Company</td>\n",
       "      <td>NaN</td>\n",
       "      <td>NaN</td>\n",
       "      <td>NaN</td>\n",
       "      <td>0</td>\n",
       "      <td>0</td>\n",
       "      <td>http://business.data.gov.uk/id/company/08209948</td>\n",
       "      <td>NaN</td>\n",
       "      <td>NaN</td>\n",
       "      <td>NaN</td>\n",
       "      <td>NaN</td>\n",
       "      <td>NaN</td>\n",
       "      <td>NaN</td>\n",
       "      <td>NaN</td>\n",
       "      <td>NaN</td>\n",
       "      <td>NaN</td>\n",
       "      <td>NaN</td>\n",
       "      <td>NaN</td>\n",
       "      <td>NaN</td>\n",
       "      <td>NaN</td>\n",
       "      <td>NaN</td>\n",
       "      <td>NaN</td>\n",
       "      <td>NaN</td>\n",
       "      <td>NaN</td>\n",
       "      <td>NaN</td>\n",
       "      <td>NaN</td>\n",
       "      <td>NaN</td>\n",
       "      <td>25/09/2019</td>\n",
       "      <td>11/09/2017</td>\n",
       "    </tr>\n",
       "    <tr>\n",
       "      <th>1</th>\n",
       "      <td>!NNOV8 LIMITED</td>\n",
       "      <td>11006939</td>\n",
       "      <td>NaN</td>\n",
       "      <td>NaN</td>\n",
       "      <td>C/O FRANK HIRTH 1ST FLOOR</td>\n",
       "      <td>236 GRAY'S INN ROAD</td>\n",
       "      <td>LONDON</td>\n",
       "      <td>NaN</td>\n",
       "      <td>UNITED KINGDOM</td>\n",
       "      <td>WC1X 8HB</td>\n",
       "      <td>Private Limited Company</td>\n",
       "      <td>Active</td>\n",
       "      <td>United Kingdom</td>\n",
       "      <td>NaN</td>\n",
       "      <td>11/10/2017</td>\n",
       "      <td>31.0</td>\n",
       "      <td>3.0</td>\n",
       "      <td>11/07/2019</td>\n",
       "      <td>NaN</td>\n",
       "      <td>NO ACCOUNTS FILED</td>\n",
       "      <td>08/11/2018</td>\n",
       "      <td>NaN</td>\n",
       "      <td>0</td>\n",
       "      <td>0</td>\n",
       "      <td>0</td>\n",
       "      <td>0</td>\n",
       "      <td>62090 - Other information technology service a...</td>\n",
       "      <td>NaN</td>\n",
       "      <td>NaN</td>\n",
       "      <td>NaN</td>\n",
       "      <td>0</td>\n",
       "      <td>0</td>\n",
       "      <td>http://business.data.gov.uk/id/company/11006939</td>\n",
       "      <td>NaN</td>\n",
       "      <td>NaN</td>\n",
       "      <td>NaN</td>\n",
       "      <td>NaN</td>\n",
       "      <td>NaN</td>\n",
       "      <td>NaN</td>\n",
       "      <td>NaN</td>\n",
       "      <td>NaN</td>\n",
       "      <td>NaN</td>\n",
       "      <td>NaN</td>\n",
       "      <td>NaN</td>\n",
       "      <td>NaN</td>\n",
       "      <td>NaN</td>\n",
       "      <td>NaN</td>\n",
       "      <td>NaN</td>\n",
       "      <td>NaN</td>\n",
       "      <td>NaN</td>\n",
       "      <td>NaN</td>\n",
       "      <td>NaN</td>\n",
       "      <td>NaN</td>\n",
       "      <td>24/10/2019</td>\n",
       "      <td>NaN</td>\n",
       "    </tr>\n",
       "    <tr>\n",
       "      <th>2</th>\n",
       "      <td>!NSPIRED LTD</td>\n",
       "      <td>SC421617</td>\n",
       "      <td>NaN</td>\n",
       "      <td>NaN</td>\n",
       "      <td>26 POLMUIR ROAD</td>\n",
       "      <td>NaN</td>\n",
       "      <td>ABERDEEN</td>\n",
       "      <td>NaN</td>\n",
       "      <td>UNITED KINGDOM</td>\n",
       "      <td>AB11 7SY</td>\n",
       "      <td>Private Limited Company</td>\n",
       "      <td>Active</td>\n",
       "      <td>United Kingdom</td>\n",
       "      <td>NaN</td>\n",
       "      <td>11/04/2012</td>\n",
       "      <td>30.0</td>\n",
       "      <td>3.0</td>\n",
       "      <td>30/12/2018</td>\n",
       "      <td>30/03/2017</td>\n",
       "      <td>TOTAL EXEMPTION FULL</td>\n",
       "      <td>09/05/2017</td>\n",
       "      <td>11/04/2016</td>\n",
       "      <td>0</td>\n",
       "      <td>0</td>\n",
       "      <td>0</td>\n",
       "      <td>0</td>\n",
       "      <td>70229 - Management consultancy activities othe...</td>\n",
       "      <td>NaN</td>\n",
       "      <td>NaN</td>\n",
       "      <td>NaN</td>\n",
       "      <td>0</td>\n",
       "      <td>0</td>\n",
       "      <td>http://business.data.gov.uk/id/company/SC421617</td>\n",
       "      <td>NaN</td>\n",
       "      <td>NaN</td>\n",
       "      <td>NaN</td>\n",
       "      <td>NaN</td>\n",
       "      <td>NaN</td>\n",
       "      <td>NaN</td>\n",
       "      <td>NaN</td>\n",
       "      <td>NaN</td>\n",
       "      <td>NaN</td>\n",
       "      <td>NaN</td>\n",
       "      <td>NaN</td>\n",
       "      <td>NaN</td>\n",
       "      <td>NaN</td>\n",
       "      <td>NaN</td>\n",
       "      <td>NaN</td>\n",
       "      <td>NaN</td>\n",
       "      <td>NaN</td>\n",
       "      <td>NaN</td>\n",
       "      <td>NaN</td>\n",
       "      <td>NaN</td>\n",
       "      <td>25/04/2020</td>\n",
       "      <td>11/04/2017</td>\n",
       "    </tr>\n",
       "    <tr>\n",
       "      <th>3</th>\n",
       "      <td>!NVERTD DESIGNS LIMITED</td>\n",
       "      <td>09152972</td>\n",
       "      <td>NaN</td>\n",
       "      <td>NaN</td>\n",
       "      <td>55A HIGH STREET</td>\n",
       "      <td>NaN</td>\n",
       "      <td>SILSOE</td>\n",
       "      <td>BEDFORDSHIRE</td>\n",
       "      <td>NaN</td>\n",
       "      <td>MK45 4EW</td>\n",
       "      <td>Private Limited Company</td>\n",
       "      <td>Active</td>\n",
       "      <td>United Kingdom</td>\n",
       "      <td>NaN</td>\n",
       "      <td>30/07/2014</td>\n",
       "      <td>31.0</td>\n",
       "      <td>7.0</td>\n",
       "      <td>30/04/2019</td>\n",
       "      <td>31/07/2017</td>\n",
       "      <td>NaN</td>\n",
       "      <td>27/08/2016</td>\n",
       "      <td>30/07/2015</td>\n",
       "      <td>0</td>\n",
       "      <td>0</td>\n",
       "      <td>0</td>\n",
       "      <td>0</td>\n",
       "      <td>58190 - Other publishing activities</td>\n",
       "      <td>NaN</td>\n",
       "      <td>NaN</td>\n",
       "      <td>NaN</td>\n",
       "      <td>0</td>\n",
       "      <td>0</td>\n",
       "      <td>http://business.data.gov.uk/id/company/09152972</td>\n",
       "      <td>NaN</td>\n",
       "      <td>NaN</td>\n",
       "      <td>NaN</td>\n",
       "      <td>NaN</td>\n",
       "      <td>NaN</td>\n",
       "      <td>NaN</td>\n",
       "      <td>NaN</td>\n",
       "      <td>NaN</td>\n",
       "      <td>NaN</td>\n",
       "      <td>NaN</td>\n",
       "      <td>NaN</td>\n",
       "      <td>NaN</td>\n",
       "      <td>NaN</td>\n",
       "      <td>NaN</td>\n",
       "      <td>NaN</td>\n",
       "      <td>NaN</td>\n",
       "      <td>NaN</td>\n",
       "      <td>NaN</td>\n",
       "      <td>NaN</td>\n",
       "      <td>NaN</td>\n",
       "      <td>13/08/2020</td>\n",
       "      <td>30/07/2017</td>\n",
       "    </tr>\n",
       "    <tr>\n",
       "      <th>4</th>\n",
       "      <td>!OBAC LIMITED</td>\n",
       "      <td>FC031362</td>\n",
       "      <td>NaN</td>\n",
       "      <td>NaN</td>\n",
       "      <td>1ST AND 2ND FLOORS ELIZABETH HOUSE</td>\n",
       "      <td>LES RUETIES BRAYES</td>\n",
       "      <td>ST PETER PORT</td>\n",
       "      <td>GUERNSEY</td>\n",
       "      <td>GUERNSEY</td>\n",
       "      <td>GY1 1EW</td>\n",
       "      <td>Other company type</td>\n",
       "      <td>Active</td>\n",
       "      <td>CHANNEL ISLANDS</td>\n",
       "      <td>NaN</td>\n",
       "      <td>30/11/2012</td>\n",
       "      <td>31.0</td>\n",
       "      <td>12.0</td>\n",
       "      <td>NaN</td>\n",
       "      <td>31/12/2016</td>\n",
       "      <td>GROUP</td>\n",
       "      <td>NaN</td>\n",
       "      <td>NaN</td>\n",
       "      <td>0</td>\n",
       "      <td>0</td>\n",
       "      <td>0</td>\n",
       "      <td>0</td>\n",
       "      <td>None Supplied</td>\n",
       "      <td>NaN</td>\n",
       "      <td>NaN</td>\n",
       "      <td>NaN</td>\n",
       "      <td>0</td>\n",
       "      <td>0</td>\n",
       "      <td>http://business.data.gov.uk/id/company/FC031362</td>\n",
       "      <td>NaN</td>\n",
       "      <td>NaN</td>\n",
       "      <td>NaN</td>\n",
       "      <td>NaN</td>\n",
       "      <td>NaN</td>\n",
       "      <td>NaN</td>\n",
       "      <td>NaN</td>\n",
       "      <td>NaN</td>\n",
       "      <td>NaN</td>\n",
       "      <td>NaN</td>\n",
       "      <td>NaN</td>\n",
       "      <td>NaN</td>\n",
       "      <td>NaN</td>\n",
       "      <td>NaN</td>\n",
       "      <td>NaN</td>\n",
       "      <td>NaN</td>\n",
       "      <td>NaN</td>\n",
       "      <td>NaN</td>\n",
       "      <td>NaN</td>\n",
       "      <td>NaN</td>\n",
       "      <td>NaN</td>\n",
       "      <td>NaN</td>\n",
       "    </tr>\n",
       "  </tbody>\n",
       "</table>\n",
       "</div>"
      ],
      "text/plain": [
       "               CompanyName  CompanyNumber RegAddress.CareOf RegAddress.POBox  \\\n",
       "0                    ! LTD       08209948               NaN              NaN   \n",
       "1           !NNOV8 LIMITED       11006939               NaN              NaN   \n",
       "2             !NSPIRED LTD       SC421617               NaN              NaN   \n",
       "3  !NVERTD DESIGNS LIMITED       09152972               NaN              NaN   \n",
       "4            !OBAC LIMITED       FC031362               NaN              NaN   \n",
       "\n",
       "              RegAddress.AddressLine1  RegAddress.AddressLine2  \\\n",
       "0           METROHOUSE 57 PEPPER ROAD                  HUNSLET   \n",
       "1           C/O FRANK HIRTH 1ST FLOOR      236 GRAY'S INN ROAD   \n",
       "2                     26 POLMUIR ROAD                      NaN   \n",
       "3                     55A HIGH STREET                      NaN   \n",
       "4  1ST AND 2ND FLOORS ELIZABETH HOUSE       LES RUETIES BRAYES   \n",
       "\n",
       "  RegAddress.PostTown RegAddress.County RegAddress.Country  \\\n",
       "0               LEEDS         YORKSHIRE                NaN   \n",
       "1              LONDON               NaN     UNITED KINGDOM   \n",
       "2            ABERDEEN               NaN     UNITED KINGDOM   \n",
       "3              SILSOE      BEDFORDSHIRE                NaN   \n",
       "4       ST PETER PORT          GUERNSEY           GUERNSEY   \n",
       "\n",
       "  RegAddress.PostCode          CompanyCategory CompanyStatus  CountryOfOrigin  \\\n",
       "0            LS10 2RU  Private Limited Company        Active   United Kingdom   \n",
       "1            WC1X 8HB  Private Limited Company        Active   United Kingdom   \n",
       "2            AB11 7SY  Private Limited Company        Active   United Kingdom   \n",
       "3            MK45 4EW  Private Limited Company        Active   United Kingdom   \n",
       "4             GY1 1EW       Other company type        Active  CHANNEL ISLANDS   \n",
       "\n",
       "   DissolutionDate IncorporationDate  Accounts.AccountRefDay  \\\n",
       "0              NaN        11/09/2012                    30.0   \n",
       "1              NaN        11/10/2017                    31.0   \n",
       "2              NaN        11/04/2012                    30.0   \n",
       "3              NaN        30/07/2014                    31.0   \n",
       "4              NaN        30/11/2012                    31.0   \n",
       "\n",
       "   Accounts.AccountRefMonth Accounts.NextDueDate Accounts.LastMadeUpDate  \\\n",
       "0                       9.0           30/06/2018              30/09/2016   \n",
       "1                       3.0           11/07/2019                     NaN   \n",
       "2                       3.0           30/12/2018              30/03/2017   \n",
       "3                       7.0           30/04/2019              31/07/2017   \n",
       "4                      12.0                  NaN              31/12/2016   \n",
       "\n",
       "  Accounts.AccountCategory Returns.NextDueDate Returns.LastMadeUpDate  \\\n",
       "0                  DORMANT          09/10/2016             11/09/2015   \n",
       "1        NO ACCOUNTS FILED          08/11/2018                    NaN   \n",
       "2     TOTAL EXEMPTION FULL          09/05/2017             11/04/2016   \n",
       "3                      NaN          27/08/2016             30/07/2015   \n",
       "4                    GROUP                 NaN                    NaN   \n",
       "\n",
       "   Mortgages.NumMortCharges  Mortgages.NumMortOutstanding  \\\n",
       "0                         0                             0   \n",
       "1                         0                             0   \n",
       "2                         0                             0   \n",
       "3                         0                             0   \n",
       "4                         0                             0   \n",
       "\n",
       "   Mortgages.NumMortPartSatisfied  Mortgages.NumMortSatisfied  \\\n",
       "0                               0                           0   \n",
       "1                               0                           0   \n",
       "2                               0                           0   \n",
       "3                               0                           0   \n",
       "4                               0                           0   \n",
       "\n",
       "                                   SICCode.SicText_1 SICCode.SicText_2  \\\n",
       "0                            99999 - Dormant Company               NaN   \n",
       "1  62090 - Other information technology service a...               NaN   \n",
       "2  70229 - Management consultancy activities othe...               NaN   \n",
       "3                58190 - Other publishing activities               NaN   \n",
       "4                                      None Supplied               NaN   \n",
       "\n",
       "  SICCode.SicText_3 SICCode.SicText_4  LimitedPartnerships.NumGenPartners  \\\n",
       "0               NaN               NaN                                   0   \n",
       "1               NaN               NaN                                   0   \n",
       "2               NaN               NaN                                   0   \n",
       "3               NaN               NaN                                   0   \n",
       "4               NaN               NaN                                   0   \n",
       "\n",
       "   LimitedPartnerships.NumLimPartners  \\\n",
       "0                                   0   \n",
       "1                                   0   \n",
       "2                                   0   \n",
       "3                                   0   \n",
       "4                                   0   \n",
       "\n",
       "                                               URI PreviousName_1.CONDATE  \\\n",
       "0  http://business.data.gov.uk/id/company/08209948                    NaN   \n",
       "1  http://business.data.gov.uk/id/company/11006939                    NaN   \n",
       "2  http://business.data.gov.uk/id/company/SC421617                    NaN   \n",
       "3  http://business.data.gov.uk/id/company/09152972                    NaN   \n",
       "4  http://business.data.gov.uk/id/company/FC031362                    NaN   \n",
       "\n",
       "   PreviousName_1.CompanyName  PreviousName_2.CONDATE  \\\n",
       "0                         NaN                     NaN   \n",
       "1                         NaN                     NaN   \n",
       "2                         NaN                     NaN   \n",
       "3                         NaN                     NaN   \n",
       "4                         NaN                     NaN   \n",
       "\n",
       "   PreviousName_2.CompanyName PreviousName_3.CONDATE  \\\n",
       "0                         NaN                    NaN   \n",
       "1                         NaN                    NaN   \n",
       "2                         NaN                    NaN   \n",
       "3                         NaN                    NaN   \n",
       "4                         NaN                    NaN   \n",
       "\n",
       "   PreviousName_3.CompanyName PreviousName_4.CONDATE  \\\n",
       "0                         NaN                    NaN   \n",
       "1                         NaN                    NaN   \n",
       "2                         NaN                    NaN   \n",
       "3                         NaN                    NaN   \n",
       "4                         NaN                    NaN   \n",
       "\n",
       "   PreviousName_4.CompanyName PreviousName_5.CONDATE  \\\n",
       "0                         NaN                    NaN   \n",
       "1                         NaN                    NaN   \n",
       "2                         NaN                    NaN   \n",
       "3                         NaN                    NaN   \n",
       "4                         NaN                    NaN   \n",
       "\n",
       "   PreviousName_5.CompanyName PreviousName_6.CONDATE  \\\n",
       "0                         NaN                    NaN   \n",
       "1                         NaN                    NaN   \n",
       "2                         NaN                    NaN   \n",
       "3                         NaN                    NaN   \n",
       "4                         NaN                    NaN   \n",
       "\n",
       "   PreviousName_6.CompanyName PreviousName_7.CONDATE  \\\n",
       "0                         NaN                    NaN   \n",
       "1                         NaN                    NaN   \n",
       "2                         NaN                    NaN   \n",
       "3                         NaN                    NaN   \n",
       "4                         NaN                    NaN   \n",
       "\n",
       "   PreviousName_7.CompanyName PreviousName_8.CONDATE  \\\n",
       "0                         NaN                    NaN   \n",
       "1                         NaN                    NaN   \n",
       "2                         NaN                    NaN   \n",
       "3                         NaN                    NaN   \n",
       "4                         NaN                    NaN   \n",
       "\n",
       "   PreviousName_8.CompanyName PreviousName_9.CONDATE  \\\n",
       "0                         NaN                    NaN   \n",
       "1                         NaN                    NaN   \n",
       "2                         NaN                    NaN   \n",
       "3                         NaN                    NaN   \n",
       "4                         NaN                    NaN   \n",
       "\n",
       "   PreviousName_9.CompanyName PreviousName_10.CONDATE  \\\n",
       "0                         NaN                     NaN   \n",
       "1                         NaN                     NaN   \n",
       "2                         NaN                     NaN   \n",
       "3                         NaN                     NaN   \n",
       "4                         NaN                     NaN   \n",
       "\n",
       "   PreviousName_10.CompanyName ConfStmtNextDueDate  ConfStmtLastMadeUpDate  \n",
       "0                          NaN          25/09/2019              11/09/2017  \n",
       "1                          NaN          24/10/2019                     NaN  \n",
       "2                          NaN          25/04/2020              11/04/2017  \n",
       "3                          NaN          13/08/2020              30/07/2017  \n",
       "4                          NaN                 NaN                     NaN  "
      ]
     },
     "execution_count": 3,
     "metadata": {},
     "output_type": "execute_result"
    }
   ],
   "source": [
    "df = pd.read_csv('./BasicCompanyDataAsOneFile-2018-03-01.csv', nrows=1000000)\n",
    "df.head()"
   ]
  },
  {
   "cell_type": "code",
   "execution_count": 4,
   "metadata": {
    "collapsed": true
   },
   "outputs": [],
   "source": [
    "def clean(df):\n",
    "    wdf = df[~df.CompanyName.str.contains('!')].dropna(subset=['Returns.LastMadeUpDate'])\n",
    "    wdf = wdf[['CompanyName', 'SICCode.SicText_1']]\n",
    "    wdf['CompanyName'] = wdf.CompanyName.str.replace('[\".,()\\']', ' ')\\\n",
    "        .str.replace('\\s+', ' ').str.strip()\\\n",
    "        .str.replace('LIMITED', 'LTD')\\\n",
    "        .str.replace('INCORPORATED', 'INC')\\\n",
    "        .str.replace('([A-Z])LTD', '\\\\1 LTD')\n",
    "    SICC = wdf['SICCode.SicText_1'].str.split(' - ').str[0]\n",
    "    wdf = wdf[(SICC != '99999') & SICC.str.isnumeric()]\n",
    "    wdf = wdf[wdf.CompanyName.str.count(' ') < 8]\n",
    "    return wdf"
   ]
  },
  {
   "cell_type": "code",
   "execution_count": 5,
   "metadata": {
    "collapsed": true
   },
   "outputs": [],
   "source": [
    "wdf = clean(df)"
   ]
  },
  {
   "cell_type": "markdown",
   "metadata": {},
   "source": [
    "### Check for Class Imbalance"
   ]
  },
  {
   "cell_type": "code",
   "execution_count": 28,
   "metadata": {
    "collapsed": true
   },
   "outputs": [],
   "source": [
    "def plot_frequency(df, top=50):\n",
    "    classes = df.groupby(['SICCode.SicText_1']).count().sort_values('CompanyName', ascending=False)\n",
    "    return classes.head(top).plot(kind='bar', figsize=(10, 3))"
   ]
  },
  {
   "cell_type": "code",
   "execution_count": 29,
   "metadata": {
    "collapsed": true
   },
   "outputs": [
    {
     "data": {
      "text/plain": [
       "<matplotlib.axes._subplots.AxesSubplot at 0x1a4410dbe0>"
      ]
     },
     "execution_count": 29,
     "metadata": {},
     "output_type": "execute_result"
    },
    {
     "data": {
      "image/png": "[encoded data removed]",
      "text/plain": [
       "<matplotlib.figure.Figure at 0x1a441e3358>"
      ]
     },
     "metadata": {},
     "output_type": "display_data"
    }
   ],
   "source": [
    "plot_frequency(wdf)"
   ]
  },
  {
   "cell_type": "code",
   "execution_count": 19,
   "metadata": {},
   "outputs": [
    {
     "name": "stdout",
     "output_type": "stream",
     "text": [
      " Classes below 500 samples: 916/1098\n"
     ]
    }
   ],
   "source": [
    "min_class_count = 500\n",
    "print(' Classes below %s samples: %s/%s' % (min_class_count, (classes.CompanyName < min_class_count).sum(), len(classes.CompanyName)))"
   ]
  },
  {
   "cell_type": "code",
   "execution_count": 20,
   "metadata": {
    "collapsed": true
   },
   "outputs": [
    {
     "data": {
      "text/plain": [
       "CompanyName    74227\n",
       "dtype: int64"
      ]
     },
     "execution_count": 20,
     "metadata": {},
     "output_type": "execute_result"
    }
   ],
   "source": [
    "classes[classes.CompanyName < min_class_count].sum()"
   ]
  },
  {
   "cell_type": "markdown",
   "metadata": {},
   "source": [
    "### Resample Data"
   ]
  },
  {
   "cell_type": "code",
   "execution_count": 23,
   "metadata": {
    "collapsed": true
   },
   "outputs": [],
   "source": [
    "to_replace = classes[classes.CompanyName < min_class_count].index"
   ]
  },
  {
   "cell_type": "code",
   "execution_count": 26,
   "metadata": {
    "collapsed": true
   },
   "outputs": [],
   "source": [
    "wdf['SICCode.SicText_1'] = wdf['SICCode.SicText_1'].replace(to_replace, '0 - Unknown')"
   ]
  },
  {
   "cell_type": "code",
   "execution_count": null,
   "metadata": {
    "collapsed": true
   },
   "outputs": [],
   "source": [
    "plot_frequency(wdf)"
   ]
  },
  {
   "cell_type": "code",
   "execution_count": 37,
   "metadata": {
    "collapsed": true
   },
   "outputs": [],
   "source": [
    "def resample_class(df, y_value, freq=0.5):\n",
    "    np.random.seed(0)\n",
    "    criteria = np.random.rand(len(df)) < freq\n",
    "    return df[(df['SICCode.SicText_1'] != y_value) | criteria]"
   ]
  },
  {
   "cell_type": "code",
   "execution_count": 35,
   "metadata": {
    "collapsed": true
   },
   "outputs": [
    {
     "data": {
      "text/html": [
       "<div>\n",
       "<style>\n",
       "    .dataframe thead tr:only-child th {\n",
       "        text-align: right;\n",
       "    }\n",
       "\n",
       "    .dataframe thead th {\n",
       "        text-align: left;\n",
       "    }\n",
       "\n",
       "    .dataframe tbody tr th {\n",
       "        vertical-align: top;\n",
       "    }\n",
       "</style>\n",
       "<table border=\"1\" class=\"dataframe\">\n",
       "  <thead>\n",
       "    <tr style=\"text-align: right;\">\n",
       "      <th></th>\n",
       "      <th>CompanyName</th>\n",
       "    </tr>\n",
       "    <tr>\n",
       "      <th>SICCode.SicText_1</th>\n",
       "      <th></th>\n",
       "    </tr>\n",
       "  </thead>\n",
       "  <tbody>\n",
       "    <tr>\n",
       "      <th>82990 - Other business support service activities n.e.c.</th>\n",
       "      <td>42736</td>\n",
       "    </tr>\n",
       "    <tr>\n",
       "      <th>98000 - Residents property management</th>\n",
       "      <td>29481</td>\n",
       "    </tr>\n",
       "    <tr>\n",
       "      <th>70229 - Management consultancy activities other than financial management</th>\n",
       "      <td>28168</td>\n",
       "    </tr>\n",
       "    <tr>\n",
       "      <th>68209 - Other letting and operating of own or leased real estate</th>\n",
       "      <td>21073</td>\n",
       "    </tr>\n",
       "    <tr>\n",
       "      <th>62020 - Information technology consultancy activities</th>\n",
       "      <td>20159</td>\n",
       "    </tr>\n",
       "    <tr>\n",
       "      <th>96090 - Other service activities n.e.c.</th>\n",
       "      <td>16726</td>\n",
       "    </tr>\n",
       "    <tr>\n",
       "      <th>74990 - Non-trading company</th>\n",
       "      <td>16184</td>\n",
       "    </tr>\n",
       "    <tr>\n",
       "      <th>41100 - Development of building projects</th>\n",
       "      <td>14030</td>\n",
       "    </tr>\n",
       "    <tr>\n",
       "      <th>74909 - Other professional, scientific and technical activities n.e.c.</th>\n",
       "      <td>12875</td>\n",
       "    </tr>\n",
       "    <tr>\n",
       "      <th>68100 - Buying and selling of own real estate</th>\n",
       "      <td>10094</td>\n",
       "    </tr>\n",
       "    <tr>\n",
       "      <th>68320 - Management of real estate on a fee or contract basis</th>\n",
       "      <td>9972</td>\n",
       "    </tr>\n",
       "    <tr>\n",
       "      <th>62090 - Other information technology service activities</th>\n",
       "      <td>9653</td>\n",
       "    </tr>\n",
       "    <tr>\n",
       "      <th>86900 - Other human health activities</th>\n",
       "      <td>8556</td>\n",
       "    </tr>\n",
       "    <tr>\n",
       "      <th>69201 - Accounting and auditing activities</th>\n",
       "      <td>7783</td>\n",
       "    </tr>\n",
       "    <tr>\n",
       "      <th>43999 - Other specialised construction activities n.e.c.</th>\n",
       "      <td>7679</td>\n",
       "    </tr>\n",
       "    <tr>\n",
       "      <th>70100 - Activities of head offices</th>\n",
       "      <td>7032</td>\n",
       "    </tr>\n",
       "    <tr>\n",
       "      <th>62012 - Business and domestic software development</th>\n",
       "      <td>6822</td>\n",
       "    </tr>\n",
       "    <tr>\n",
       "      <th>49410 - Freight transport by road</th>\n",
       "      <td>6708</td>\n",
       "    </tr>\n",
       "    <tr>\n",
       "      <th>43210 - Electrical installation</th>\n",
       "      <td>6624</td>\n",
       "    </tr>\n",
       "    <tr>\n",
       "      <th>41202 - Construction of domestic buildings</th>\n",
       "      <td>6393</td>\n",
       "    </tr>\n",
       "    <tr>\n",
       "      <th>45200 - Maintenance and repair of motor vehicles</th>\n",
       "      <td>5973</td>\n",
       "    </tr>\n",
       "    <tr>\n",
       "      <th>64999 - Financial intermediation not elsewhere classified</th>\n",
       "      <td>5713</td>\n",
       "    </tr>\n",
       "    <tr>\n",
       "      <th>43390 - Other building completion and finishing</th>\n",
       "      <td>5389</td>\n",
       "    </tr>\n",
       "    <tr>\n",
       "      <th>43220 - Plumbing, heat and air-conditioning installation</th>\n",
       "      <td>5045</td>\n",
       "    </tr>\n",
       "    <tr>\n",
       "      <th>56101 - Licensed restaurants</th>\n",
       "      <td>4157</td>\n",
       "    </tr>\n",
       "    <tr>\n",
       "      <th>71129 - Other engineering activities</th>\n",
       "      <td>4131</td>\n",
       "    </tr>\n",
       "    <tr>\n",
       "      <th>47910 - Retail sale via mail order houses or via Internet</th>\n",
       "      <td>3950</td>\n",
       "    </tr>\n",
       "    <tr>\n",
       "      <th>96020 - Hairdressing and other beauty treatment</th>\n",
       "      <td>3905</td>\n",
       "    </tr>\n",
       "    <tr>\n",
       "      <th>32990 - Other manufacturing n.e.c.</th>\n",
       "      <td>3893</td>\n",
       "    </tr>\n",
       "    <tr>\n",
       "      <th>85590 - Other education n.e.c.</th>\n",
       "      <td>3680</td>\n",
       "    </tr>\n",
       "    <tr>\n",
       "      <th>41201 - Construction of commercial buildings</th>\n",
       "      <td>3677</td>\n",
       "    </tr>\n",
       "    <tr>\n",
       "      <th>47990 - Other retail sale not in stores, stalls or markets</th>\n",
       "      <td>3599</td>\n",
       "    </tr>\n",
       "    <tr>\n",
       "      <th>64209 - Activities of other holding companies n.e.c.</th>\n",
       "      <td>3584</td>\n",
       "    </tr>\n",
       "    <tr>\n",
       "      <th>68310 - Real estate agencies</th>\n",
       "      <td>3331</td>\n",
       "    </tr>\n",
       "    <tr>\n",
       "      <th>71111 - Architectural activities</th>\n",
       "      <td>3226</td>\n",
       "    </tr>\n",
       "    <tr>\n",
       "      <th>74100 - specialised design activities</th>\n",
       "      <td>3184</td>\n",
       "    </tr>\n",
       "    <tr>\n",
       "      <th>63990 - Other information service activities n.e.c.</th>\n",
       "      <td>3032</td>\n",
       "    </tr>\n",
       "    <tr>\n",
       "      <th>90030 - Artistic creation</th>\n",
       "      <td>3028</td>\n",
       "    </tr>\n",
       "    <tr>\n",
       "      <th>43290 - Other construction installation</th>\n",
       "      <td>2963</td>\n",
       "    </tr>\n",
       "    <tr>\n",
       "      <th>42990 - Construction of other civil engineering projects n.e.c.</th>\n",
       "      <td>2932</td>\n",
       "    </tr>\n",
       "    <tr>\n",
       "      <th>46900 - Non-specialised wholesale trade</th>\n",
       "      <td>2856</td>\n",
       "    </tr>\n",
       "    <tr>\n",
       "      <th>78109 - Other activities of employment placement agencies</th>\n",
       "      <td>2664</td>\n",
       "    </tr>\n",
       "    <tr>\n",
       "      <th>56302 - Public houses and bars</th>\n",
       "      <td>2627</td>\n",
       "    </tr>\n",
       "    <tr>\n",
       "      <th>88990 - Other social work activities without accommodation n.e.c.</th>\n",
       "      <td>2616</td>\n",
       "    </tr>\n",
       "    <tr>\n",
       "      <th>73110 - Advertising agencies</th>\n",
       "      <td>2562</td>\n",
       "    </tr>\n",
       "    <tr>\n",
       "      <th>56103 - Take-away food shops and mobile food stands</th>\n",
       "      <td>2521</td>\n",
       "    </tr>\n",
       "    <tr>\n",
       "      <th>55900 - Other accommodation</th>\n",
       "      <td>2487</td>\n",
       "    </tr>\n",
       "    <tr>\n",
       "      <th>45112 - Sale of used cars and light motor vehicles</th>\n",
       "      <td>2486</td>\n",
       "    </tr>\n",
       "    <tr>\n",
       "      <th>86210 - General medical practice activities</th>\n",
       "      <td>2454</td>\n",
       "    </tr>\n",
       "    <tr>\n",
       "      <th>43320 - Joinery installation</th>\n",
       "      <td>2442</td>\n",
       "    </tr>\n",
       "    <tr>\n",
       "      <th>...</th>\n",
       "      <td>...</td>\n",
       "    </tr>\n",
       "    <tr>\n",
       "      <th>5040 - Sale, repair etc. m'cycles &amp; parts</th>\n",
       "      <td>1</td>\n",
       "    </tr>\n",
       "    <tr>\n",
       "      <th>7230 - Data processing</th>\n",
       "      <td>1</td>\n",
       "    </tr>\n",
       "    <tr>\n",
       "      <th>2451 - Manufacture soap &amp; detergents, polishes etc.</th>\n",
       "      <td>1</td>\n",
       "    </tr>\n",
       "    <tr>\n",
       "      <th>1561 - Manufacture of grain mill products</th>\n",
       "      <td>1</td>\n",
       "    </tr>\n",
       "    <tr>\n",
       "      <th>9213 - Motion picture projection</th>\n",
       "      <td>1</td>\n",
       "    </tr>\n",
       "    <tr>\n",
       "      <th>2923 - Manufacture non-domestic ventilation</th>\n",
       "      <td>1</td>\n",
       "    </tr>\n",
       "    <tr>\n",
       "      <th>2111 - Manufacture of pulp</th>\n",
       "      <td>1</td>\n",
       "    </tr>\n",
       "    <tr>\n",
       "      <th>2861 - Manufacture of cutlery</th>\n",
       "      <td>1</td>\n",
       "    </tr>\n",
       "    <tr>\n",
       "      <th>1421 - Operation of gravel and sand pits</th>\n",
       "      <td>1</td>\n",
       "    </tr>\n",
       "    <tr>\n",
       "      <th>9303 - Funeral and related activities</th>\n",
       "      <td>1</td>\n",
       "    </tr>\n",
       "    <tr>\n",
       "      <th>0202 - Forestry &amp; logging related services</th>\n",
       "      <td>1</td>\n",
       "    </tr>\n",
       "    <tr>\n",
       "      <th>3001 - Manufacture of office machinery</th>\n",
       "      <td>1</td>\n",
       "    </tr>\n",
       "    <tr>\n",
       "      <th>1712 - Prepare &amp; spin woollen-type fibres</th>\n",
       "      <td>1</td>\n",
       "    </tr>\n",
       "    <tr>\n",
       "      <th>0150 - Hunting and game rearing inc. services</th>\n",
       "      <td>1</td>\n",
       "    </tr>\n",
       "    <tr>\n",
       "      <th>1711 - Prepare &amp; spin cotton-type fibres</th>\n",
       "      <td>1</td>\n",
       "    </tr>\n",
       "    <tr>\n",
       "      <th>2943 - Manufacture of other machine tools not elsewhere classified</th>\n",
       "      <td>1</td>\n",
       "    </tr>\n",
       "    <tr>\n",
       "      <th>9240 - News agency activities</th>\n",
       "      <td>1</td>\n",
       "    </tr>\n",
       "    <tr>\n",
       "      <th>1596 - Manufacture of beer</th>\n",
       "      <td>1</td>\n",
       "    </tr>\n",
       "    <tr>\n",
       "      <th>7525 - Fire service activities</th>\n",
       "      <td>1</td>\n",
       "    </tr>\n",
       "    <tr>\n",
       "      <th>9252 - Museum &amp; preservation of history</th>\n",
       "      <td>1</td>\n",
       "    </tr>\n",
       "    <tr>\n",
       "      <th>0130 - Crops combined with animals, mixed farms</th>\n",
       "      <td>1</td>\n",
       "    </tr>\n",
       "    <tr>\n",
       "      <th>2753 - Casting of light metals</th>\n",
       "      <td>1</td>\n",
       "    </tr>\n",
       "    <tr>\n",
       "      <th>1595 - Manufacture other non-distilled fermented drinks</th>\n",
       "      <td>1</td>\n",
       "    </tr>\n",
       "    <tr>\n",
       "      <th>2971 - Manufacture of electric domestic appliances</th>\n",
       "      <td>1</td>\n",
       "    </tr>\n",
       "    <tr>\n",
       "      <th>2931 - Manufacture of agricultural tractors</th>\n",
       "      <td>1</td>\n",
       "    </tr>\n",
       "    <tr>\n",
       "      <th>2822 - Manufacture central heating rads &amp; boilers</th>\n",
       "      <td>1</td>\n",
       "    </tr>\n",
       "    <tr>\n",
       "      <th>01260 - Growing of oleaginous fruits</th>\n",
       "      <td>1</td>\n",
       "    </tr>\n",
       "    <tr>\n",
       "      <th>1594 - Manufacture of cider &amp; other fruit wines</th>\n",
       "      <td>1</td>\n",
       "    </tr>\n",
       "    <tr>\n",
       "      <th>3161 - Manufacture electric equipment, engines etc.</th>\n",
       "      <td>1</td>\n",
       "    </tr>\n",
       "    <tr>\n",
       "      <th>1520 - Process &amp; preserve fish &amp; products</th>\n",
       "      <td>1</td>\n",
       "    </tr>\n",
       "    <tr>\n",
       "      <th>7512 - Regulation health, education, etc.</th>\n",
       "      <td>1</td>\n",
       "    </tr>\n",
       "    <tr>\n",
       "      <th>1591 - Manufacture distilled potable alcoholic drinks</th>\n",
       "      <td>1</td>\n",
       "    </tr>\n",
       "    <tr>\n",
       "      <th>8041 - Driving school activities</th>\n",
       "      <td>1</td>\n",
       "    </tr>\n",
       "    <tr>\n",
       "      <th>1571 - Manufacture of prepared farm animal feeds</th>\n",
       "      <td>1</td>\n",
       "    </tr>\n",
       "    <tr>\n",
       "      <th>3622 - Manufacture of jewellery &amp; related</th>\n",
       "      <td>1</td>\n",
       "    </tr>\n",
       "    <tr>\n",
       "      <th>0123 - Farming of swine</th>\n",
       "      <td>1</td>\n",
       "    </tr>\n",
       "    <tr>\n",
       "      <th>3640 - Manufacture of sports goods</th>\n",
       "      <td>1</td>\n",
       "    </tr>\n",
       "    <tr>\n",
       "      <th>01220 - Growing of tropical and subtropical fruits</th>\n",
       "      <td>1</td>\n",
       "    </tr>\n",
       "    <tr>\n",
       "      <th>3650 - Manufacture of games and toys</th>\n",
       "      <td>1</td>\n",
       "    </tr>\n",
       "    <tr>\n",
       "      <th>0122 - Farm sheep, goats, horses, etc.</th>\n",
       "      <td>1</td>\n",
       "    </tr>\n",
       "    <tr>\n",
       "      <th>4010 - Production</th>\n",
       "      <td>1</td>\n",
       "    </tr>\n",
       "    <tr>\n",
       "      <th>0121 - Farming of cattle, dairy farming</th>\n",
       "      <td>1</td>\n",
       "    </tr>\n",
       "    <tr>\n",
       "      <th>8022 - Technical &amp; vocational secondary</th>\n",
       "      <td>1</td>\n",
       "    </tr>\n",
       "    <tr>\n",
       "      <th>01150 - Growing of tobacco</th>\n",
       "      <td>1</td>\n",
       "    </tr>\n",
       "    <tr>\n",
       "      <th>4022 - Distribution &amp; trade of gaseous fuels through mains</th>\n",
       "      <td>1</td>\n",
       "    </tr>\n",
       "    <tr>\n",
       "      <th>4030 - Steam and hot water supply</th>\n",
       "      <td>1</td>\n",
       "    </tr>\n",
       "    <tr>\n",
       "      <th>0113 - Grow fruit, nuts, beverage &amp; spice crops</th>\n",
       "      <td>1</td>\n",
       "    </tr>\n",
       "    <tr>\n",
       "      <th>1552 - Manufacture of ice cream</th>\n",
       "      <td>1</td>\n",
       "    </tr>\n",
       "    <tr>\n",
       "      <th>9900 - Extra-territorial organisations</th>\n",
       "      <td>1</td>\n",
       "    </tr>\n",
       "    <tr>\n",
       "      <th>8010 - Primary education</th>\n",
       "      <td>1</td>\n",
       "    </tr>\n",
       "  </tbody>\n",
       "</table>\n",
       "<p>1098 rows × 1 columns</p>\n",
       "</div>"
      ],
      "text/plain": [
       "                                                    CompanyName\n",
       "SICCode.SicText_1                                              \n",
       "82990 - Other business support service activiti...        42736\n",
       "98000 - Residents property management                     29481\n",
       "70229 - Management consultancy activities other...        28168\n",
       "68209 - Other letting and operating of own or l...        21073\n",
       "62020 - Information technology consultancy acti...        20159\n",
       "96090 - Other service activities n.e.c.                   16726\n",
       "74990 - Non-trading company                               16184\n",
       "41100 - Development of building projects                  14030\n",
       "74909 - Other professional, scientific and tech...        12875\n",
       "68100 - Buying and selling of own real estate             10094\n",
       "68320 - Management of real estate on a fee or c...         9972\n",
       "62090 - Other information technology service ac...         9653\n",
       "86900 - Other human health activities                      8556\n",
       "69201 - Accounting and auditing activities                 7783\n",
       "43999 - Other specialised construction activiti...         7679\n",
       "70100 - Activities of head offices                         7032\n",
       "62012 - Business and domestic software development         6822\n",
       "49410 - Freight transport by road                          6708\n",
       "43210 - Electrical installation                            6624\n",
       "41202 - Construction of domestic buildings                 6393\n",
       "45200 - Maintenance and repair of motor vehicles           5973\n",
       "64999 - Financial intermediation not elsewhere ...         5713\n",
       "43390 - Other building completion and finishing            5389\n",
       "43220 - Plumbing, heat and air-conditioning ins...         5045\n",
       "56101 - Licensed restaurants                               4157\n",
       "71129 - Other engineering activities                       4131\n",
       "47910 - Retail sale via mail order houses or vi...         3950\n",
       "96020 - Hairdressing and other beauty treatment            3905\n",
       "32990 - Other manufacturing n.e.c.                         3893\n",
       "85590 - Other education n.e.c.                             3680\n",
       "41201 - Construction of commercial buildings               3677\n",
       "47990 - Other retail sale not in stores, stalls...         3599\n",
       "64209 - Activities of other holding companies n...         3584\n",
       "68310 - Real estate agencies                               3331\n",
       "71111 - Architectural activities                           3226\n",
       "74100 - specialised design activities                      3184\n",
       "63990 - Other information service activities n....         3032\n",
       "90030 - Artistic creation                                  3028\n",
       "43290 - Other construction installation                    2963\n",
       "42990 - Construction of other civil engineering...         2932\n",
       "46900 - Non-specialised wholesale trade                    2856\n",
       "78109 - Other activities of employment placemen...         2664\n",
       "56302 - Public houses and bars                             2627\n",
       "88990 - Other social work activities without ac...         2616\n",
       "73110 - Advertising agencies                               2562\n",
       "56103 - Take-away food shops and mobile food st...         2521\n",
       "55900 - Other accommodation                                2487\n",
       "45112 - Sale of used cars and light motor vehicles         2486\n",
       "86210 - General medical practice activities                2454\n",
       "43320 - Joinery installation                               2442\n",
       "...                                                         ...\n",
       "5040 - Sale, repair etc. m'cycles & parts                     1\n",
       "7230 - Data processing                                        1\n",
       "2451 - Manufacture soap & detergents, polishes ...            1\n",
       "1561 - Manufacture of grain mill products                     1\n",
       "9213 - Motion picture projection                              1\n",
       "2923 - Manufacture non-domestic ventilation                   1\n",
       "2111 - Manufacture of pulp                                    1\n",
       "2861 - Manufacture of cutlery                                 1\n",
       "1421 - Operation of gravel and sand pits                      1\n",
       "9303 - Funeral and related activities                         1\n",
       "0202 - Forestry & logging related services                    1\n",
       "3001 - Manufacture of office machinery                        1\n",
       "1712 - Prepare & spin woollen-type fibres                     1\n",
       "0150 - Hunting and game rearing inc. services                 1\n",
       "1711 - Prepare & spin cotton-type fibres                      1\n",
       "2943 - Manufacture of other machine tools not e...            1\n",
       "9240 - News agency activities                                 1\n",
       "1596 - Manufacture of beer                                    1\n",
       "7525 - Fire service activities                                1\n",
       "9252 - Museum & preservation of history                       1\n",
       "0130 - Crops combined with animals, mixed farms               1\n",
       "2753 - Casting of light metals                                1\n",
       "1595 - Manufacture other non-distilled fermente...            1\n",
       "2971 - Manufacture of electric domestic appliances            1\n",
       "2931 - Manufacture of agricultural tractors                   1\n",
       "2822 - Manufacture central heating rads & boilers             1\n",
       "01260 - Growing of oleaginous fruits                          1\n",
       "1594 - Manufacture of cider & other fruit wines               1\n",
       "3161 - Manufacture electric equipment, engines ...            1\n",
       "1520 - Process & preserve fish & products                     1\n",
       "7512 - Regulation health, education, etc.                     1\n",
       "1591 - Manufacture distilled potable alcoholic ...            1\n",
       "8041 - Driving school activities                              1\n",
       "1571 - Manufacture of prepared farm animal feeds              1\n",
       "3622 - Manufacture of jewellery & related                     1\n",
       "0123 - Farming of swine                                       1\n",
       "3640 - Manufacture of sports goods                            1\n",
       "01220 - Growing of tropical and subtropical fruits            1\n",
       "3650 - Manufacture of games and toys                          1\n",
       "0122 - Farm sheep, goats, horses, etc.                        1\n",
       "4010 - Production                                             1\n",
       "0121 - Farming of cattle, dairy farming                       1\n",
       "8022 - Technical & vocational secondary                       1\n",
       "01150 - Growing of tobacco                                    1\n",
       "4022 - Distribution & trade of gaseous fuels th...            1\n",
       "4030 - Steam and hot water supply                             1\n",
       "0113 - Grow fruit, nuts, beverage & spice crops               1\n",
       "1552 - Manufacture of ice cream                               1\n",
       "9900 - Extra-territorial organisations                        1\n",
       "8010 - Primary education                                      1\n",
       "\n",
       "[1098 rows x 1 columns]"
      ]
     },
     "execution_count": 35,
     "metadata": {},
     "output_type": "execute_result"
    }
   ],
   "source": [
    "classes.sort_values('CompanyName', ascending=False)"
   ]
  },
  {
   "cell_type": "code",
   "execution_count": 38,
   "metadata": {
    "collapsed": true
   },
   "outputs": [],
   "source": [
    "wdf = resample_class(wdf, '0 - Unknown', freq=0.33)\n",
    "wdf = resample_class(wdf, '82990 - Other business support service activities n.e.c.', freq=0.66)"
   ]
  },
  {
   "cell_type": "code",
   "execution_count": 39,
   "metadata": {},
   "outputs": [
    {
     "data": {
      "text/plain": [
       "<matplotlib.axes._subplots.AxesSubplot at 0x1115d8dd8>"
      ]
     },
     "execution_count": 39,
     "metadata": {},
     "output_type": "execute_result"
    },
    {
     "data": {
      "image/png": "[encoded data removed]",
      "text/plain": [
       "<matplotlib.figure.Figure at 0x1115dacf8>"
      ]
     },
     "metadata": {},
     "output_type": "display_data"
    }
   ],
   "source": [
    "plot_frequency(wdf)"
   ]
  },
  {
   "cell_type": "markdown",
   "metadata": {},
   "source": [
    "### Pickle Working Set"
   ]
  },
  {
   "cell_type": "code",
   "execution_count": 71,
   "metadata": {
    "collapsed": true
   },
   "outputs": [],
   "source": [
    "feather.write_dataframe(wdf, 'wdf.feather')"
   ]
  },
  {
   "cell_type": "code",
   "execution_count": 18,
   "metadata": {
    "collapsed": true
   },
   "outputs": [
    {
     "data": {
      "text/html": [
       "<div>\n",
       "<style>\n",
       "    .dataframe thead tr:only-child th {\n",
       "        text-align: right;\n",
       "    }\n",
       "\n",
       "    .dataframe thead th {\n",
       "        text-align: left;\n",
       "    }\n",
       "\n",
       "    .dataframe tbody tr th {\n",
       "        vertical-align: top;\n",
       "    }\n",
       "</style>\n",
       "<table border=\"1\" class=\"dataframe\">\n",
       "  <thead>\n",
       "    <tr style=\"text-align: right;\">\n",
       "      <th></th>\n",
       "      <th>CompanyName</th>\n",
       "      <th>SICCode.SicText_1</th>\n",
       "    </tr>\n",
       "  </thead>\n",
       "  <tbody>\n",
       "    <tr>\n",
       "      <th>0</th>\n",
       "      <td>1 C O LTD</td>\n",
       "      <td>70229 - Management consultancy activities othe...</td>\n",
       "    </tr>\n",
       "    <tr>\n",
       "      <th>1</th>\n",
       "      <td>243 RUGBY ROAD MANAGEMENT COMPANY LTD</td>\n",
       "      <td>98000 - Residents property management</td>\n",
       "    </tr>\n",
       "    <tr>\n",
       "      <th>2</th>\n",
       "      <td>309 WEST END LANE MANAGEMENT LTD</td>\n",
       "      <td>98000 - Residents property management</td>\n",
       "    </tr>\n",
       "    <tr>\n",
       "      <th>3</th>\n",
       "      <td>A TASTE OF TUSCANY LTD</td>\n",
       "      <td>56101 - Licensed restaurants</td>\n",
       "    </tr>\n",
       "    <tr>\n",
       "      <th>4</th>\n",
       "      <td>A CERAMICS LTD</td>\n",
       "      <td>86230 - Dental practice activities</td>\n",
       "    </tr>\n",
       "  </tbody>\n",
       "</table>\n",
       "</div>"
      ],
      "text/plain": [
       "                             CompanyName  \\\n",
       "0                              1 C O LTD   \n",
       "1  243 RUGBY ROAD MANAGEMENT COMPANY LTD   \n",
       "2       309 WEST END LANE MANAGEMENT LTD   \n",
       "3                 A TASTE OF TUSCANY LTD   \n",
       "4                         A CERAMICS LTD   \n",
       "\n",
       "                                   SICCode.SicText_1  \n",
       "0  70229 - Management consultancy activities othe...  \n",
       "1              98000 - Residents property management  \n",
       "2              98000 - Residents property management  \n",
       "3                       56101 - Licensed restaurants  \n",
       "4                 86230 - Dental practice activities  "
      ]
     },
     "execution_count": 18,
     "metadata": {},
     "output_type": "execute_result"
    }
   ],
   "source": [
    "wdf = feather.read_dataframe('wdf.feather')\n",
    "wdf.head()"
   ]
  },
  {
   "cell_type": "markdown",
   "metadata": {},
   "source": [
    "### Label Encoding"
   ]
  },
  {
   "cell_type": "code",
   "execution_count": 28,
   "metadata": {
    "scrolled": true
   },
   "outputs": [
    {
     "data": {
      "text/plain": [
       "(546800, 183)"
      ]
     },
     "execution_count": 28,
     "metadata": {},
     "output_type": "execute_result"
    }
   ],
   "source": [
    "encoder = LabelEncoder()\n",
    "encoder.fit(wdf['SICCode.SicText_1'])\n",
    "encoded_Y = encoder.transform(wdf['SICCode.SicText_1'])\n",
    "labels = np_utils.to_categorical(encoded_Y)\n",
    "labels.shape"
   ]
  },
  {
   "cell_type": "code",
   "execution_count": 29,
   "metadata": {
    "collapsed": true
   },
   "outputs": [],
   "source": [
    "num_classes = labels.shape[1]"
   ]
  },
  {
   "cell_type": "markdown",
   "metadata": {},
   "source": [
    "### Text Encoding"
   ]
  },
  {
   "cell_type": "code",
   "execution_count": 6,
   "metadata": {
    "collapsed": true
   },
   "outputs": [],
   "source": [
    "def load_glove_embeddings(fp, embedding_dim, include_empty_char=True):\n",
    "    \"\"\"\n",
    "    Loads pre-trained word embeddings (GloVe embeddings)\n",
    "        Inputs: - fp: filepath of pre-trained glove embeddings\n",
    "                - embedding_dim: dimension of each vector embedding\n",
    "                - generate_matrix: whether to generate an embedding matrix\n",
    "        Outputs:\n",
    "                - word2coefs: Dictionary. Word to its corresponding coefficients\n",
    "                - word2index: Dictionary. Word to word-index\n",
    "                - embedding_matrix: Embedding matrix for Keras Embedding layer\n",
    "    \"\"\"\n",
    "    # First, build the \"word2coefs\" and \"word2index\"\n",
    "    word2coefs = {} # word to its corresponding coefficients\n",
    "    word2index = {} # word to word-index\n",
    "    with open(fp) as f:\n",
    "        for idx, line in enumerate(f):\n",
    "            try:\n",
    "                data = [x.strip().lower() for x in line.split()]\n",
    "                word = data[0]\n",
    "                coefs = np.asarray(data[1:embedding_dim+1], dtype='float32')\n",
    "                word2coefs[word] = coefs\n",
    "                if word not in word2index:\n",
    "                    word2index[word] = len(word2index)\n",
    "            except Exception as e:\n",
    "                print('Exception occurred in `load_glove_embeddings`:', e)\n",
    "                continue\n",
    "        # End of for loop.\n",
    "    # End of with open\n",
    "    if include_empty_char:\n",
    "        word2index[''] = len(word2index)\n",
    "    # Second, build the \"embedding_matrix\"\n",
    "    # Words not found in embedding index will be all-zeros. Hence, the \"+1\".\n",
    "    vocab_size = len(word2coefs)+1 if include_empty_char else len(word2coefs)\n",
    "    embedding_matrix = np.zeros((vocab_size, embedding_dim))\n",
    "    for word, idx in word2index.items():\n",
    "        embedding_vec = word2coefs.get(word)\n",
    "        if embedding_vec is not None and embedding_vec.shape[0]==embedding_dim:\n",
    "            embedding_matrix[idx] = np.asarray(embedding_vec)\n",
    "    # return word2coefs, word2index, embedding_matrix\n",
    "    return word2index, np.asarray(embedding_matrix)"
   ]
  },
  {
   "cell_type": "code",
   "execution_count": 7,
   "metadata": {
    "collapsed": true
   },
   "outputs": [],
   "source": [
    "word2index, embedding_matrix = load_glove_embeddings('glove.6B/glove.6B.50d.txt', embedding_dim=50)"
   ]
  },
  {
   "cell_type": "code",
   "execution_count": 23,
   "metadata": {
    "collapsed": true
   },
   "outputs": [],
   "source": [
    "def custom_tokenize(d):\n",
    "    return [word2index.get(re.sub(r'[^\\w\\s]','',w).lower(), 0) for w in d.split()]"
   ]
  },
  {
   "cell_type": "code",
   "execution_count": 34,
   "metadata": {
    "collapsed": true
   },
   "outputs": [
    {
     "name": "stdout",
     "output_type": "stream",
     "text": [
      "[37, 14, 29, 3292]\n",
      "[102, 14, 37, 29, 3292]\n"
     ]
    }
   ],
   "source": [
    "vocab_size, embedding_dim = embedding_matrix.shape\n",
    "maxlen = 10\n",
    "print(custom_tokenize('This is an apple'))\n",
    "print(custom_tokenize('what is this, an apple?'))"
   ]
  },
  {
   "cell_type": "code",
   "execution_count": 25,
   "metadata": {
    "collapsed": true
   },
   "outputs": [],
   "source": [
    "encoded_company_names = [custom_tokenize(d) for d in wdf.CompanyName]\n",
    "encoded_company_names = [d for d in encoded_company_names]"
   ]
  },
  {
   "cell_type": "code",
   "execution_count": 26,
   "metadata": {
    "collapsed": true
   },
   "outputs": [],
   "source": [
    "encoded_company_names = pad_sequences(encoded_company_names, maxlen=maxlen, padding='post')"
   ]
  },
  {
   "cell_type": "code",
   "execution_count": 30,
   "metadata": {},
   "outputs": [
    {
     "data": {
      "text/plain": [
       "(546800, 546800)"
      ]
     },
     "execution_count": 30,
     "metadata": {},
     "output_type": "execute_result"
    }
   ],
   "source": [
    "# Sanity check\n",
    "len(encoded_company_names), len(labels)"
   ]
  },
  {
   "cell_type": "markdown",
   "metadata": {},
   "source": [
    "### Train/Test Split"
   ]
  },
  {
   "cell_type": "code",
   "execution_count": 32,
   "metadata": {},
   "outputs": [
    {
     "data": {
      "text/plain": [
       "(410100, 183)"
      ]
     },
     "execution_count": 32,
     "metadata": {},
     "output_type": "execute_result"
    }
   ],
   "source": [
    "X_train, X_test, y_train, y_test = train_test_split(\n",
    "    encoded_company_names, labels, test_size=0.25, random_state=42)\n",
    "y_train.shape"
   ]
  },
  {
   "cell_type": "markdown",
   "metadata": {},
   "source": [
    "### Model"
   ]
  },
  {
   "cell_type": "code",
   "execution_count": 37,
   "metadata": {
    "collapsed": true
   },
   "outputs": [
    {
     "name": "stdout",
     "output_type": "stream",
     "text": [
      "_________________________________________________________________\n",
      "Layer (type)                 Output Shape              Param #   \n",
      "=================================================================\n",
      "embedding_3 (Embedding)      (None, 10, 50)            20000050  \n",
      "_________________________________________________________________\n",
      "flatten_2 (Flatten)          (None, 500)               0         \n",
      "_________________________________________________________________\n",
      "dense_2 (Dense)              (None, 183)               91683     \n",
      "=================================================================\n",
      "Total params: 20,091,733\n",
      "Trainable params: 91,683\n",
      "Non-trainable params: 20,000,050\n",
      "_________________________________________________________________\n"
     ]
    }
   ],
   "source": [
    "embedding_layer = Embedding(input_dim=vocab_size, output_dim=embedding_dim, input_length=maxlen,\n",
    "                            weights=[embedding_matrix], trainable=False)\n",
    "model = Sequential()\n",
    "model.add(embedding_layer)\n",
    "model.add(Flatten())\n",
    "model.add(Dense(num_classes, activation='sigmoid'))\n",
    "model.compile(optimizer='adam', loss='categorical_crossentropy', metrics=['acc'])\n",
    "model.summary()"
   ]
  },
  {
   "cell_type": "markdown",
   "metadata": {},
   "source": [
    "### Hook up Tensorboard"
   ]
  },
  {
   "cell_type": "markdown",
   "metadata": {},
   "source": [
    "`tensorboard --logdir='tmp'`"
   ]
  },
  {
   "cell_type": "code",
   "execution_count": 39,
   "metadata": {},
   "outputs": [
    {
     "data": {
      "text/plain": [
       "'tmp/GloVe50-flatten-dense183-2018-03-21 15-30-32'"
      ]
     },
     "execution_count": 39,
     "metadata": {},
     "output_type": "execute_result"
    }
   ],
   "source": [
    "date_suffix = str(datetime.now()).replace(':', '-').split('.')[0]\n",
    "temp_folder = 'tmp/GloVe%s-flatten-dense%s-%s' % (\n",
    "    embedding_dim, num_classes, date_suffix)\n",
    "temp_folder"
   ]
  },
  {
   "cell_type": "markdown",
   "metadata": {},
   "source": [
    "### Train Model"
   ]
  },
  {
   "cell_type": "code",
   "execution_count": 40,
   "metadata": {
    "collapsed": true
   },
   "outputs": [
    {
     "name": "stdout",
     "output_type": "stream",
     "text": [
      "Train on 410100 samples, validate on 136700 samples\n",
      "Epoch 1/25\n",
      "410100/410100 [==============================] - 36s 88us/step - loss: 3.6653 - acc: 0.1964 - val_loss: 3.5193 - val_acc: 0.2224\n",
      "Epoch 2/25\n",
      "410100/410100 [==============================] - 36s 89us/step - loss: 3.5045 - acc: 0.2192 - val_loss: 3.5163 - val_acc: 0.2186\n",
      "Epoch 3/25\n",
      "410100/410100 [==============================] - 36s 88us/step - loss: 3.4865 - acc: 0.2223 - val_loss: 3.5073 - val_acc: 0.2161\n",
      "Epoch 4/25\n",
      "410100/410100 [==============================] - 36s 89us/step - loss: 3.4777 - acc: 0.2235 - val_loss: 3.5144 - val_acc: 0.2222\n",
      "Epoch 5/25\n",
      "410100/410100 [==============================] - 36s 87us/step - loss: 3.4734 - acc: 0.2246 - val_loss: 3.5195 - val_acc: 0.2254\n",
      "Epoch 6/25\n",
      "410100/410100 [==============================] - 36s 88us/step - loss: 3.4704 - acc: 0.2245 - val_loss: 3.5177 - val_acc: 0.2211\n",
      "Epoch 7/25\n",
      "410100/410100 [==============================] - 36s 88us/step - loss: 3.4677 - acc: 0.2256 - val_loss: 3.5209 - val_acc: 0.2245\n",
      "Epoch 8/25\n",
      "410100/410100 [==============================] - 36s 88us/step - loss: 3.4657 - acc: 0.2255 - val_loss: 3.5121 - val_acc: 0.2214\n",
      "Epoch 9/25\n",
      "410100/410100 [==============================] - 36s 87us/step - loss: 3.4640 - acc: 0.2252 - val_loss: 3.5166 - val_acc: 0.2267\n",
      "Epoch 10/25\n",
      "410100/410100 [==============================] - 36s 88us/step - loss: 3.4621 - acc: 0.2263 - val_loss: 3.5153 - val_acc: 0.2244\n",
      "Epoch 11/25\n",
      "410100/410100 [==============================] - 37s 89us/step - loss: 3.4609 - acc: 0.2265 - val_loss: 3.5080 - val_acc: 0.2262\n",
      "Epoch 12/25\n",
      "410100/410100 [==============================] - 37s 89us/step - loss: 3.4597 - acc: 0.2266 - val_loss: 3.5185 - val_acc: 0.2185\n",
      "Epoch 13/25\n",
      "410100/410100 [==============================] - 37s 89us/step - loss: 3.4581 - acc: 0.2270 - val_loss: 3.5234 - val_acc: 0.2219\n",
      "Epoch 14/25\n",
      "410100/410100 [==============================] - 36s 87us/step - loss: 3.4579 - acc: 0.2266 - val_loss: 3.5131 - val_acc: 0.2231\n",
      "Epoch 15/25\n",
      "410100/410100 [==============================] - 36s 87us/step - loss: 3.4566 - acc: 0.2271 - val_loss: 3.5150 - val_acc: 0.2230\n",
      "Epoch 16/25\n",
      "410100/410100 [==============================] - 36s 88us/step - loss: 3.4555 - acc: 0.2274 - val_loss: 3.5283 - val_acc: 0.2187\n",
      "Epoch 17/25\n",
      "410100/410100 [==============================] - 36s 87us/step - loss: 3.4549 - acc: 0.2267 - val_loss: 3.5128 - val_acc: 0.2214\n",
      "Epoch 18/25\n",
      "410100/410100 [==============================] - 36s 88us/step - loss: 3.4544 - acc: 0.2269 - val_loss: 3.5231 - val_acc: 0.2169\n",
      "Epoch 19/25\n",
      "410100/410100 [==============================] - 37s 90us/step - loss: 3.4529 - acc: 0.2275 - val_loss: 3.5185 - val_acc: 0.2251\n",
      "Epoch 20/25\n",
      "410100/410100 [==============================] - 36s 89us/step - loss: 3.4532 - acc: 0.2273 - val_loss: 3.5158 - val_acc: 0.2245\n",
      "Epoch 21/25\n",
      "410100/410100 [==============================] - 36s 89us/step - loss: 3.4522 - acc: 0.2278 - val_loss: 3.5337 - val_acc: 0.2200\n",
      "Epoch 22/25\n",
      "410100/410100 [==============================] - 37s 90us/step - loss: 3.4518 - acc: 0.2272 - val_loss: 3.5213 - val_acc: 0.2251\n",
      "Epoch 23/25\n",
      "410100/410100 [==============================] - 37s 89us/step - loss: 3.4515 - acc: 0.2273 - val_loss: 3.5094 - val_acc: 0.2259\n",
      "Epoch 24/25\n",
      "410100/410100 [==============================] - 36s 88us/step - loss: 3.4510 - acc: 0.2279 - val_loss: 3.5247 - val_acc: 0.2236\n",
      "Epoch 25/25\n",
      "410100/410100 [==============================] - 36s 87us/step - loss: 3.4504 - acc: 0.2275 - val_loss: 3.5153 - val_acc: 0.2265\n"
     ]
    },
    {
     "data": {
      "text/plain": [
       "<keras.callbacks.History at 0x1a32f9ba20>"
      ]
     },
     "execution_count": 40,
     "metadata": {},
     "output_type": "execute_result"
    }
   ],
   "source": [
    "model.fit(\n",
    "    X_train, y_train, epochs=5,\n",
    "    validation_data=(X_test, y_test),\n",
    "    callbacks=[TensorBoard(log_dir=temp_folder)])"
   ]
  },
  {
   "cell_type": "markdown",
   "metadata": {},
   "source": [
    "### Testing/Validation"
   ]
  },
  {
   "cell_type": "code",
   "execution_count": 42,
   "metadata": {},
   "outputs": [
    {
     "name": "stdout",
     "output_type": "stream",
     "text": [
      "136700/136700 [==============================] - 4s 31us/step\n"
     ]
    },
    {
     "data": {
      "text/plain": [
       "0.22646671543569571"
      ]
     },
     "execution_count": 42,
     "metadata": {},
     "output_type": "execute_result"
    }
   ],
   "source": [
    "loss, accuracy = model.evaluate(X_test, y_test)\n",
    "accuracy"
   ]
  },
  {
   "cell_type": "code",
   "execution_count": 43,
   "metadata": {},
   "outputs": [
    {
     "data": {
      "text/plain": [
       "((136700,), (136700,))"
      ]
     },
     "execution_count": 43,
     "metadata": {},
     "output_type": "execute_result"
    }
   ],
   "source": [
    "y_labels = np.argmax(y_test, axis=1)\n",
    "y_pred = model.predict_classes(X_test)\n",
    "y_labels.shape, y_pred.shape"
   ]
  },
  {
   "cell_type": "code",
   "execution_count": 44,
   "metadata": {},
   "outputs": [
    {
     "name": "stdout",
     "output_type": "stream",
     "text": [
      "Verifying accuracy 0.226466715435\n"
     ]
    }
   ],
   "source": [
    "print('Verifying accuracy', (y_labels==y_pred).sum()/len(y_pred))"
   ]
  },
  {
   "cell_type": "code",
   "execution_count": 45,
   "metadata": {
    "collapsed": true
   },
   "outputs": [],
   "source": [
    "def plot_confusion_matrix(cm, classes):\n",
    "    pylab.clf()\n",
    "    pylab.matshow(cm, fignum=False, cmap='Blues', vmin=0, vmax=0.6)\n",
    "    pylab.colorbar()\n",
    "    pylab.grid(False)\n",
    "    pylab.xlabel('Predicted')\n",
    "    pylab.ylabel('Actual')\n",
    "    pylab.show()"
   ]
  },
  {
   "cell_type": "code",
   "execution_count": 46,
   "metadata": {},
   "outputs": [
    {
     "data": {
      "image/png": "[encoded data removed]",
      "text/plain": [
       "<matplotlib.figure.Figure at 0x1a2cefc390>"
      ]
     },
     "metadata": {},
     "output_type": "display_data"
    }
   ],
   "source": [
    "plot_confusion_matrix(confusion_matrix(y_pred, y_labels), [])"
   ]
  },
  {
   "cell_type": "markdown",
   "metadata": {
    "collapsed": true
   },
   "source": [
    "### Save Model"
   ]
  },
  {
   "cell_type": "code",
   "execution_count": 47,
   "metadata": {
    "collapsed": true
   },
   "outputs": [],
   "source": [
    "model.save('models/train%s-acc%s.h5' % (len(X_train), accuracy))"
   ]
  },
  {
   "cell_type": "markdown",
   "metadata": {
    "collapsed": true
   },
   "source": [
    "### Play With Model"
   ]
  },
  {
   "cell_type": "code",
   "execution_count": null,
   "metadata": {},
   "outputs": [
    {
     "name": "stdout",
     "output_type": "stream",
     "text": [
      "Bob's Haircut\n",
      "['96020 - Hairdressing and other beauty treatment']\n",
      "Bob's Salon\n",
      "['96020 - Hairdressing and other beauty treatment']\n",
      "Bob's Pizza\n",
      "['56103 - Take-away food shops and mobile food stands']\n",
      "Bob's Auto\n",
      "['45200 - Maintenance and repair of motor vehicles']\n",
      "Bob's Market\n",
      "['62020 - Information technology consultancy activities']\n",
      "Bob's Kebabs\n",
      "['56103 - Take-away food shops and mobile food stands']\n",
      "Bob's Fries\n",
      "['56103 - Take-away food shops and mobile food stands']\n",
      "Microsoft\n",
      "['62020 - Information technology consultancy activities']\n",
      "Apple\n",
      "['62020 - Information technology consultancy activities']\n",
      "Google\n",
      "['62020 - Information technology consultancy activities']\n",
      "Shopper's Drugmart\n",
      "['94910 - Activities of religious organizations']\n",
      "St Paul's\n",
      "['94910 - Activities of religious organizations']\n",
      "Church of Jesus\n",
      "['94910 - Activities of religious organizations']\n",
      "Bob's Bistro\n",
      "['56101 - Licensed restaurants']\n",
      "Bob's Cafe\n",
      "['56101 - Licensed restaurants']\n",
      "Thai Express\n",
      "['56103 - Take-away food shops and mobile food stands']\n",
      "Bob's Primary\n",
      "['85200 - Primary education']\n",
      "Bob's College\n",
      "['85200 - Primary education']\n",
      "Bob's Repairs\n",
      "['41202 - Construction of domestic buildings']\n",
      "Bob's Construction Company\n",
      "['41100 - Development of building projects']\n",
      "B & B Engineering\n",
      "['86900 - Other human health activities']\n",
      "B & B Engineering Services\n",
      "['86900 - Other human health activities']\n",
      "P Medical\n",
      "['86210 - General medical practice activities']\n",
      "P Hospital\n",
      "['86210 - General medical practice activities']\n",
      "K Barbeque\n",
      "['56101 - Licensed restaurants']\n",
      "P Bike Shop\n",
      "['45200 - Maintenance and repair of motor vehicles']\n",
      "Duke's Cycle\n",
      "['88910 - Child day-care activities']\n"
     ]
    }
   ],
   "source": [
    "while True:\n",
    "    name = input()\n",
    "    if not name:\n",
    "        break\n",
    "    encoded_company_name = pad_sequences([custom_tokenize(name)], maxlen=maxlen, padding='post')\n",
    "    print(encoder.inverse_transform(model.predict_classes(encoded_company_name)))"
   ]
  },
  {
   "cell_type": "code",
   "execution_count": null,
   "metadata": {
    "collapsed": true
   },
   "outputs": [],
   "source": []
  }
 ],
 "metadata": {
  "kernelspec": {
   "display_name": "Python 3",
   "language": "python",
   "name": "python3"
  },
  "language_info": {
   "codemirror_mode": {
    "name": "ipython",
    "version": 3
   },
   "file_extension": ".py",
   "mimetype": "text/x-python",
   "name": "python",
   "nbconvert_exporter": "python",
   "pygments_lexer": "ipython3",
   "version": "3.6.3"
  }
 },
 "nbformat": 4,
 "nbformat_minor": 2
}
